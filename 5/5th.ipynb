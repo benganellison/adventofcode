{
 "metadata": {
  "language_info": {
   "codemirror_mode": {
    "name": "ipython",
    "version": 3
   },
   "file_extension": ".py",
   "mimetype": "text/x-python",
   "name": "python",
   "nbconvert_exporter": "python",
   "pygments_lexer": "ipython3",
   "version": "3.8.5-final"
  },
  "orig_nbformat": 2,
  "kernelspec": {
   "name": "python3",
   "display_name": "Python 3.8.5 64-bit",
   "metadata": {
    "interpreter": {
     "hash": "2e1823a69ae08de7f81dab555a9afc5cb09ee2871ff1196380c837771cdcbe73"
    }
   }
  }
 },
 "nbformat": 4,
 "nbformat_minor": 2,
 "cells": [
  {
   "cell_type": "code",
   "execution_count": 9,
   "metadata": {},
   "outputs": [
    {
     "output_type": "stream",
     "name": "stdout",
     "text": [
      "Answer to question1: 959\nAnswer to question2: 527\n\nPlane layout\n   A    B    C    D    E    F    G    H\n NaN  NaN  NaN  NaN  NaN  NaN  NaN  NaN\n NaN  NaN  NaN  NaN  NaN  NaN  NaN  NaN\n NaN  NaN  NaN  NaN  NaN  NaN  NaN  NaN\n NaN  NaN  NaN  NaN  NaN  NaN  NaN  NaN\n NaN  NaN  NaN  NaN  NaN  NaN  NaN  NaN\n NaN  NaN  NaN  NaN  NaN  NaN  NaN  NaN\n NaN  NaN  NaN  NaN  NaN  NaN  NaN  NaN\n NaN  NaN  NaN  NaN  NaN  NaN  NaN  NaN\n NaN  NaN  NaN  NaN  NaN  NaN  NaN  NaN\n NaN  NaN  NaN  NaN  NaN  NaN   78   79\n  80   81   82   83   84   85   86   87\n  88   89   90   91   92   93   94   95\n  96   97   98   99  100  101  102  103\n 104  105  106  107  108  109  110  111\n 112  113  114  115  116  117  118  119\n 120  121  122  123  124  125  126  127\n 128  129  130  131  132  133  134  135\n 136  137  138  139  140  141  142  143\n 144  145  146  147  148  149  150  151\n 152  153  154  155  156  157  158  159\n 160  161  162  163  164  165  166  167\n 168  169  170  171  172  173  174  175\n 176  177  178  179  180  181  182  183\n 184  185  186  187  188  189  190  191\n 192  193  194  195  196  197  198  199\n 200  201  202  203  204  205  206  207\n 208  209  210  211  212  213  214  215\n 216  217  218  219  220  221  222  223\n 224  225  226  227  228  229  230  231\n 232  233  234  235  236  237  238  239\n 240  241  242  243  244  245  246  247\n 248  249  250  251  252  253  254  255\n 256  257  258  259  260  261  262  263\n 264  265  266  267  268  269  270  271\n 272  273  274  275  276  277  278  279\n 280  281  282  283  284  285  286  287\n 288  289  290  291  292  293  294  295\n 296  297  298  299  300  301  302  303\n 304  305  306  307  308  309  310  311\n 312  313  314  315  316  317  318  319\n 320  321  322  323  324  325  326  327\n 328  329  330  331  332  333  334  335\n 336  337  338  339  340  341  342  343\n 344  345  346  347  348  349  350  351\n 352  353  354  355  356  357  358  359\n 360  361  362  363  364  365  366  367\n 368  369  370  371  372  373  374  375\n 376  377  378  379  380  381  382  383\n 384  385  386  387  388  389  390  391\n 392  393  394  395  396  397  398  399\n 400  401  402  403  404  405  406  407\n 408  409  410  411  412  413  414  415\n 416  417  418  419  420  421  422  423\n 424  425  426  427  428  429  430  431\n 432  433  434  435  436  437  438  439\n 440  441  442  443  444  445  446  447\n 448  449  450  451  452  453  454  455\n 456  457  458  459  460  461  462  463\n 464  465  466  467  468  469  470  471\n 472  473  474  475  476  477  478  479\n 480  481  482  483  484  485  486  487\n 488  489  490  491  492  493  494  495\n 496  497  498  499  500  501  502  503\n 504  505  506  507  508  509  510  511\n 512  513  514  515  516  517  518  519\n 520  521  522  523  524  525  526  NaN\n 528  529  530  531  532  533  534  535\n 536  537  538  539  540  541  542  543\n 544  545  546  547  548  549  550  551\n 552  553  554  555  556  557  558  559\n 560  561  562  563  564  565  566  567\n 568  569  570  571  572  573  574  575\n 576  577  578  579  580  581  582  583\n 584  585  586  587  588  589  590  591\n 592  593  594  595  596  597  598  599\n 600  601  602  603  604  605  606  607\n 608  609  610  611  612  613  614  615\n 616  617  618  619  620  621  622  623\n 624  625  626  627  628  629  630  631\n 632  633  634  635  636  637  638  639\n 640  641  642  643  644  645  646  647\n 648  649  650  651  652  653  654  655\n 656  657  658  659  660  661  662  663\n 664  665  666  667  668  669  670  671\n 672  673  674  675  676  677  678  679\n 680  681  682  683  684  685  686  687\n 688  689  690  691  692  693  694  695\n 696  697  698  699  700  701  702  703\n 704  705  706  707  708  709  710  711\n 712  713  714  715  716  717  718  719\n 720  721  722  723  724  725  726  727\n 728  729  730  731  732  733  734  735\n 736  737  738  739  740  741  742  743\n 744  745  746  747  748  749  750  751\n 752  753  754  755  756  757  758  759\n 760  761  762  763  764  765  766  767\n 768  769  770  771  772  773  774  775\n 776  777  778  779  780  781  782  783\n 784  785  786  787  788  789  790  791\n 792  793  794  795  796  797  798  799\n 800  801  802  803  804  805  806  807\n 808  809  810  811  812  813  814  815\n 816  817  818  819  820  821  822  823\n 824  825  826  827  828  829  830  831\n 832  833  834  835  836  837  838  839\n 840  841  842  843  844  845  846  847\n 848  849  850  851  852  853  854  855\n 856  857  858  859  860  861  862  863\n 864  865  866  867  868  869  870  871\n 872  873  874  875  876  877  878  879\n 880  881  882  883  884  885  886  887\n 888  889  890  891  892  893  894  895\n 896  897  898  899  900  901  902  903\n 904  905  906  907  908  909  910  911\n 912  913  914  915  916  917  918  919\n 920  921  922  923  924  925  926  927\n 928  929  930  931  932  933  934  935\n 936  937  938  939  940  941  942  943\n 944  945  946  947  948  949  950  951\n 952  953  954  955  956  957  958  959\n NaN  NaN  NaN  NaN  NaN  NaN  NaN  NaN\n NaN  NaN  NaN  NaN  NaN  NaN  NaN  NaN\n NaN  NaN  NaN  NaN  NaN  NaN  NaN  NaN\n NaN  NaN  NaN  NaN  NaN  NaN  NaN  NaN\n NaN  NaN  NaN  NaN  NaN  NaN  NaN  NaN\n NaN  NaN  NaN  NaN  NaN  NaN  NaN  NaN\n NaN  NaN  NaN  NaN  NaN  NaN  NaN  NaN\n NaN  NaN  NaN  NaN  NaN  NaN  NaN  NaN\n"
     ]
    }
   ],
   "source": [
    "import pandas as pd\n",
    "\n",
    "rowId = range(128)\n",
    "row = [a for a in \"ABCDEFGH\"]\n",
    "seats = pd.DataFrame( index=rowId, columns=row)\n",
    "\n",
    "def mapStringToSeat(boardingPass):\n",
    "    rows = list(range(128))\n",
    "    seat = list(range(8))\n",
    "    for letter in boardingPass:\n",
    "        if letter == \"F\":\n",
    "            rows = rows[:int((len(rows))/2)]\n",
    "        elif letter == \"B\":\n",
    "            rows = rows[int((len(rows))/2):]\n",
    "        elif letter == \"L\":\n",
    "            seat = seat[:int((len(seat))/2)]\n",
    "        elif letter == \"R\":\n",
    "            seat = seat[int((len(seat))/2):]\n",
    "    #print({\"row\":rows[0], \"column\": seat[0], \"seat_id\": rows[0]*8 + seat[0]})\n",
    "    seats.iat[rows[0],seat[0]] = rows[0]*8 + seat[0]\n",
    "    return {\"row\":rows[0], \"column\": seat[0], \"seat_id\": rows[0]*8 + seat[0]}\n",
    "    \n",
    "\n",
    "def main():\n",
    "\n",
    "    file1 = open('input', 'r') \n",
    "    sBoardingPasses = file1.read().split('\\n')\n",
    "    lBoardingPasses = [mapStringToSeat(boardingPass) for boardingPass in sBoardingPasses]\n",
    "\n",
    "    dfBoardingPasses = pd.DataFrame(lBoardingPasses).sort_values(by=['seat_id']).reset_index(drop=True)\n",
    "    dfBoardingPasses[\"seat_index\"] = range(dfBoardingPasses[\"seat_id\"].min(), len(dfBoardingPasses[\"seat_id\"])+dfBoardingPasses[\"seat_id\"].min())\n",
    "    return [dfBoardingPasses[\"seat_id\"].max(),dfBoardingPasses[dfBoardingPasses[\"seat_index\"]!=dfBoardingPasses[\"seat_id\"]].reset_index(drop=True).at[0,'seat_index']]\n",
    "\n",
    "if __name__ == \"__main__\":\n",
    "    answers = main()\n",
    "    print(f\"Answer to question1: {answers[0]}\")\n",
    "    print(f\"Answer to question2: {answers[1]}\")\n",
    "    print(\"\")\n",
    "    print(\"Plane layout\")\n",
    "    with pd.option_context('display.max_rows', None, 'display.max_columns', None):  # more options can be specified also\n",
    "        print(seats.to_string(index=False))\n",
    "    #lines = value[0]\n",
    "    #numbers = value[1] "
   ]
  },
  {
   "cell_type": "code",
   "execution_count": 2,
   "metadata": {},
   "outputs": [
    {
     "output_type": "stream",
     "name": "stdout",
     "text": [
      "{'row': 44, 'column': 5, 'seat_id': 357}\n{'row': 70, 'column': 7, 'seat_id': 567}\n{'row': 14, 'column': 7, 'seat_id': 119}\n{'row': 102, 'column': 4, 'seat_id': 820}\n"
     ]
    }
   ],
   "source": [
    "\n",
    "\n",
    "def mapStringToSeat(boardingPass):\n",
    "    rows = list(range(128))\n",
    "    seat = list(range(8))\n",
    "    for letter in boardingPass:\n",
    "        if letter == \"F\":\n",
    "            rows = rows[:int((len(rows))/2)]\n",
    "        elif letter == \"B\":\n",
    "            rows = rows[int((len(rows))/2):]\n",
    "        elif letter == \"L\":\n",
    "            seat = seat[:int((len(seat))/2)]\n",
    "        elif letter == \"R\":\n",
    "            seat = seat[int((len(seat))/2):]\n",
    "    print({\"row\":rows[0], \"column\": seat[0], \"seat_id\": rows[0]*8 + seat[0]})\n",
    "\n",
    "for example in [\"FBFBBFFRLR\", \"BFFFBBFRRR\", \"FFFBBBFRRR\", \"BBFFBBFRLL\"]:\n",
    "    mapStringToSeat(example)"
   ]
  }
 ]
}