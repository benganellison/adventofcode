{
 "metadata": {
  "language_info": {
   "codemirror_mode": {
    "name": "ipython",
    "version": 3
   },
   "file_extension": ".py",
   "mimetype": "text/x-python",
   "name": "python",
   "nbconvert_exporter": "python",
   "pygments_lexer": "ipython3",
   "version": "3.8.5-final"
  },
  "orig_nbformat": 2,
  "kernelspec": {
   "name": "python3",
   "display_name": "Python 3",
   "language": "python"
  }
 },
 "nbformat": 4,
 "nbformat_minor": 2,
 "cells": [
  {
   "cell_type": "code",
   "execution_count": 1,
   "metadata": {},
   "outputs": [
    {
     "output_type": "stream",
     "name": "stdout",
     "text": [
      "Answer to question1: 441\nAnswer to question2: 40014\n"
     ]
    }
   ],
   "source": [
    "from collections import defaultdict\n",
    "import re\n",
    "\n",
    "def findDestination1(data):\n",
    "    commands = [ [row[0],int(row[1:])] for row in data]\n",
    "    vector = {\n",
    "        \"O0\" : (0,1),\n",
    "        \"O90\" : (1,0),\n",
    "        \"O180\" : (0,-1),\n",
    "        \"O270\" : (-1,0),\n",
    "        \"E\" : (1,0),\n",
    "        \"S\" : (0,-1),\n",
    "        \"W\" : (-1,0),\n",
    "        \"N\" : (0,1)\n",
    "    }\n",
    "\n",
    "    orientation = 90\n",
    "\n",
    "    currentPos = [0,0]\n",
    "\n",
    "    for command in commands:\n",
    "        if command[0] == \"F\":\n",
    "            vectorIdx = \"O\"+(str(orientation))\n",
    "            currentPos[0] +=  vector[vectorIdx][0]* command[1]\n",
    "            currentPos[1] +=  vector[vectorIdx][1] * command[1]\n",
    "        elif command[0] == \"R\":\n",
    "            orientation = (orientation + command[1]) % 360 \n",
    "        elif command[0] == \"L\":\n",
    "            orientation = (orientation - command[1] + 360) % 360 \n",
    "        else:\n",
    "            vectorIdx = command[0]\n",
    "            currentPos[0] +=  vector[vectorIdx][0]* command[1]\n",
    "            currentPos[1] +=  vector[vectorIdx][1] * command[1]\n",
    "        #print(f\"  {command[0]}, {command[1]}, \\t{currentPos}, \\t{orientation}\")\n",
    "\n",
    "    return sum(map(abs,currentPos))\n",
    "\n",
    "def rotateWayPoint(waypoint,rotation):\n",
    "    rotation = (rotation + 360) % 360\n",
    "    if rotation == 90:\n",
    "        return [waypoint[1],-waypoint[0]]\n",
    "    elif rotation == 180:\n",
    "        return [-waypoint[0],-waypoint[1]]\n",
    "    elif rotation == 270:\n",
    "        return [-waypoint[1],waypoint[0]]\n",
    "\n",
    "def findDestination2(data):\n",
    "    commands = [ [row[0],int(row[1:])] for row in data]\n",
    "\n",
    "    vector = {\n",
    "        \"E\" : (1,0),\n",
    "        \"S\" : (0,-1),\n",
    "        \"W\" : (-1,0),\n",
    "        \"N\" : (0,1),\n",
    "        \"F\" : [10,1]\n",
    "    }\n",
    "    currentPos = [0,0]\n",
    "\n",
    "\n",
    "    for command in commands:\n",
    "        if command[0] == \"R\":\n",
    "            vector[\"F\"] = rotateWayPoint(vector[\"F\"], command[1]) \n",
    "        elif command[0] == \"L\":\n",
    "            vector[\"F\"] = rotateWayPoint(vector[\"F\"], -command[1]) \n",
    "        elif command[0] == \"F\":\n",
    "            currentPos[0] +=  vector[\"F\"][0]* command[1]\n",
    "            currentPos[1] +=  vector[\"F\"][1] * command[1]\n",
    "        else:\n",
    "            vectorIdx = command[0]\n",
    "            vector[\"F\"][0] +=  vector[vectorIdx][0]* command[1]\n",
    "            vector[\"F\"][1] +=  vector[vectorIdx][1] * command[1]\n",
    "        #print(f\"  {command[0]}, {command[1]}, \\t{currentPos}, \\t{vector['F']}\")\n",
    "\n",
    "    return sum(map(abs,currentPos))\n",
    "\n",
    "def main():\n",
    "    \n",
    "    data = open('input', 'r').readlines()\n",
    "    answer1 = findDestination1(data)\n",
    "    answer2 = findDestination2(data)\n",
    "\n",
    "    return [answer1, answer2]\n",
    "\n",
    "if __name__ == \"__main__\":\n",
    "    answers = main()\n",
    "    print(f\"Answer to question1: {answers[0]}\")\n",
    "    print(f\"Answer to question2: {answers[1]}\")"
   ]
  },
  {
   "cell_type": "code",
   "execution_count": 2,
   "metadata": {},
   "outputs": [
    {
     "output_type": "stream",
     "name": "stdout",
     "text": [
      "Answer to question1: 25\nAnswer to question2: 286\n"
     ]
    }
   ],
   "source": [
    "def main():\n",
    "    \n",
    "    data = open('example', 'r').readlines()\n",
    "    answer1 = findDestination1(data)\n",
    "    answer2 = findDestination2(data)\n",
    "\n",
    "    return [answer1, answer2]\n",
    "\n",
    "if __name__ == \"__main__\":\n",
    "    answers = main()\n",
    "    print(f\"Answer to question1: {answers[0]}\")\n",
    "    print(f\"Answer to question2: {answers[1]}\")"
   ]
  }
 ]
}