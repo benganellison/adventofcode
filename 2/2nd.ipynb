{
 "metadata": {
  "language_info": {
   "codemirror_mode": {
    "name": "ipython",
    "version": 3
   },
   "file_extension": ".py",
   "mimetype": "text/x-python",
   "name": "python",
   "nbconvert_exporter": "python",
   "pygments_lexer": "ipython3",
   "version": "3.7.4-final"
  },
  "orig_nbformat": 2,
  "kernelspec": {
   "name": "python3",
   "display_name": "Python 3"
  }
 },
 "nbformat": 4,
 "nbformat_minor": 2,
 "cells": [
  {
   "cell_type": "code",
   "execution_count": 1,
   "metadata": {},
   "outputs": [
    {
     "output_type": "execute_result",
     "data": {
      "text/plain": [
       "569"
      ]
     },
     "metadata": {},
     "execution_count": 1
    }
   ],
   "source": [
    "import re\n",
    " \n",
    "file1 = open('input', 'r') \n",
    "lines = file1.readlines() \n",
    "listOfOkPasswords = []\n",
    "count = 0\n",
    "\n",
    "for line in lines: \n",
    "    x = re.split(\"^(\\d+)-(\\d+) (\\S): (\\S*)$\", line)\n",
    "    password = x[1:len(x)-1]\n",
    "    occ = password[3].count(password[2])\n",
    "    if (occ <= int(password[1])) & (occ >= int(password[0])):\n",
    "        count += 1\n",
    "        listOfOkPasswords.append(password)\n",
    "\n",
    "count"
   ]
  },
  {
   "cell_type": "code",
   "execution_count": 2,
   "metadata": {},
   "outputs": [
    {
     "output_type": "execute_result",
     "data": {
      "text/plain": [
       "346"
      ]
     },
     "metadata": {},
     "execution_count": 2
    }
   ],
   "source": [
    "import re\n",
    " \n",
    "file1 = open('input', 'r') \n",
    "lines = file1.readlines() \n",
    "listOfOkPasswords = []\n",
    "count = 0\n",
    "for line in lines: \n",
    "    x = re.split(\"^(\\d+)-(\\d+) (\\S): (\\S*)$\", line)\n",
    "    password = x[1:len(x)-1]\n",
    "    pos1 = password[3][int(password[0])-1]\n",
    "    pos2 = password[3][int(password[1])-1]\n",
    "    letter = password[2]\n",
    "    if (pos1 == letter or pos2 == letter) and (pos1 != pos2):\n",
    "        count += 1\n",
    "        listOfOkPasswords.append(password)\n",
    "\n",
    "count"
   ]
  }
 ]
}