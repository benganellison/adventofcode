{
 "metadata": {
  "language_info": {
   "codemirror_mode": {
    "name": "ipython",
    "version": 3
   },
   "file_extension": ".py",
   "mimetype": "text/x-python",
   "name": "python",
   "nbconvert_exporter": "python",
   "pygments_lexer": "ipython3",
   "version": "3.8.5-final"
  },
  "orig_nbformat": 2,
  "kernelspec": {
   "name": "python3",
   "display_name": "Python 3",
   "language": "python"
  }
 },
 "nbformat": 4,
 "nbformat_minor": 2,
 "cells": [
  {
   "cell_type": "code",
   "execution_count": 1,
   "metadata": {},
   "outputs": [],
   "source": [
    "from itertools import combinations\n",
    "from collections import defaultdict\n",
    "\n",
    "def findAdapters(data):\n",
    "    i = 0\n",
    "    plus1 = 0\n",
    "    plus3 = 0\n",
    "    for i in range(len(data)-1):\n",
    "        if (data[i+1]-data[i]) ==  1:\n",
    "            plus1 += 1\n",
    "        elif (data[i+1]-data[i]) ==  3:\n",
    "            plus3 += 1\n",
    "        else:\n",
    "            print(f\"data[{i+1}]-data[{i}] = {data[i+1]}-{data[i]} = {data[i+1]-data[i]}\")\n",
    "\n",
    "    print(f\"plus1 * plus3 = {plus1} * {plus3} = {plus1 * plus3}\")\n",
    "    return plus1 * plus3\n",
    "\n",
    "def findNoOfArrangement(data):\n",
    "    #create the number of paths from 0 to 1\n",
    "    alternativePaths = [1]\n",
    "    #itterate all nodes\n",
    "    for i in range(1, len(data)):\n",
    "        alterantives = 0\n",
    "        for j in range(i):\n",
    "            #check all incomming edges to this node \n",
    "            if data[j] + 3 >= data[i]:\n",
    "                #sum alternative routes for all incomming edges\n",
    "                alterantives += alternativePaths[j]\n",
    "        #save the no of alternative routes to this node\n",
    "        alternativePaths.append(alterantives)\n",
    "    return alternativePaths[-1]\n"
   ]
  },
  {
   "cell_type": "code",
   "execution_count": 2,
   "metadata": {},
   "outputs": [
    {
     "output_type": "stream",
     "name": "stdout",
     "text": [
      "plus1 * plus3 = 7 * 5 = 35\nAnswer to question1: 35\nAnswer to question2: 8\n"
     ]
    }
   ],
   "source": [
    "\n",
    "def main():\n",
    "    \n",
    "    data = list(map(int,open('example', 'r').readlines()))\n",
    "    data = sorted([0] + data + [max(data)+3])\n",
    "    adapters = findAdapters(data)\n",
    "    arrangements = findNoOfArrangement(data)\n",
    "\n",
    "    return [adapters, arrangements]\n",
    "\n",
    "if __name__ == \"__main__\":\n",
    "    answers = main()\n",
    "    print(f\"Answer to question1: {answers[0]}\")\n",
    "    print(f\"Answer to question2: {answers[1]}\")"
   ]
  },
  {
   "cell_type": "code",
   "execution_count": 3,
   "metadata": {},
   "outputs": [
    {
     "output_type": "stream",
     "name": "stdout",
     "text": [
      "plus1 * plus3 = 22 * 10 = 220\nAnswer to question1: 220\nAnswer to question2: 19208\n"
     ]
    }
   ],
   "source": [
    "def main():\n",
    "    \n",
    "    data = list(map(int,open('largeexample', 'r').readlines()))\n",
    "    data = sorted([0] + data + [max(data)+3])\n",
    "    adapters = findAdapters(data)\n",
    "    arrangements = findNoOfArrangement(data)\n",
    "\n",
    "    return [adapters, arrangements]\n",
    "\n",
    "if __name__ == \"__main__\":\n",
    "    answers = main()\n",
    "    print(f\"Answer to question1: {answers[0]}\")\n",
    "    print(f\"Answer to question2: {answers[1]}\")"
   ]
  },
  {
   "cell_type": "code",
   "execution_count": 4,
   "metadata": {},
   "outputs": [
    {
     "output_type": "stream",
     "name": "stdout",
     "text": [
      "plus1 * plus3 = 68 * 30 = 2040\nAnswer to question1: 2040\nAnswer to question2: 28346956187648\n"
     ]
    }
   ],
   "source": [
    "def main():\n",
    "    \n",
    "    data = list(map(int,open('input', 'r').readlines()))\n",
    "    data.append(max(data)+3)\n",
    "    data.append(0)\n",
    "    data = sorted(data)\n",
    "    adapters = findAdapters(data)\n",
    "    arrangements = findNoOfArrangement(data)\n",
    "\n",
    "    return [adapters, arrangements]\n",
    "\n",
    "if __name__ == \"__main__\":\n",
    "    answers = main()\n",
    "    print(f\"Answer to question1: {answers[0]}\")\n",
    "    print(f\"Answer to question2: {answers[1]}\")"
   ]
  }
 ]
}