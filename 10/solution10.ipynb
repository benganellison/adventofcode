{
 "metadata": {
  "language_info": {
   "codemirror_mode": {
    "name": "ipython",
    "version": 3
   },
   "file_extension": ".py",
   "mimetype": "text/x-python",
   "name": "python",
   "nbconvert_exporter": "python",
   "pygments_lexer": "ipython3",
   "version": "3.8.5-final"
  },
  "orig_nbformat": 2,
  "kernelspec": {
   "name": "python3",
   "display_name": "Python 3",
   "language": "python"
  }
 },
 "nbformat": 4,
 "nbformat_minor": 2,
 "cells": [
  {
   "cell_type": "code",
   "execution_count": 60,
   "metadata": {},
   "outputs": [],
   "source": [
    "from itertools import combinations\n",
    "from collections import defaultdict\n",
    "\n",
    "def findAdapters(data):\n",
    "    i = 0\n",
    "    plus1 = 0\n",
    "    plus3 = 0\n",
    "    for i in range(len(data)-1):\n",
    "        if (data[i+1]-data[i]) ==  1:\n",
    "            plus1 += 1\n",
    "        elif (data[i+1]-data[i]) ==  3:\n",
    "            plus3 += 1\n",
    "        else:\n",
    "            print(f\"data[{i+1}]-data[{i}] = {data[i+1]}-{data[i]} = {data[i+1]-data[i]}\")\n",
    "\n",
    "    print(f\"plus1 * plus3 = {plus1} * {plus3} = {plus1 * plus3}\")\n",
    "    return plus1 * plus3\n",
    "\n",
    "def findNoOfArrangement(data):\n",
    "    #create the number of paths from 0 to 1\n",
    "    alternativePaths = [1]\n",
    "    #itterate all nodes\n",
    "    for i in range(1, len(data)):\n",
    "        alterantives = 0\n",
    "        for j in range(i):\n",
    "            #check all incomming edges to this node \n",
    "            if data[j] + 3 >= data[i]:\n",
    "                #sum alternative routes for all incomming edges\n",
    "                alterantives += alternativePaths[j]\n",
    "        #save the no of alternative routes to this node\n",
    "        alternativePaths.append(alterantives)\n",
    "    return alternativePaths[-1]\n"
   ]
  },
  {
   "cell_type": "code",
   "execution_count": 61,
   "metadata": {},
   "outputs": [
    {
     "output_type": "stream",
     "name": "stdout",
     "text": [
      "plus1 * plus3 = 7 * 5 = 35\nAnswer to question1: 35\nAnswer to question2: 8\n"
     ]
    }
   ],
   "source": [
    "\n",
    "def main():\n",
    "    \n",
    "    data = list(map(int,open('example', 'r').readlines()))\n",
    "    data = sorted([0] + data + [max(data)+3])\n",
    "    adapters = findAdapters(data)\n",
    "    arrangements = findNoOfArrangement(data)\n",
    "\n",
    "    return [adapters, arrangements]\n",
    "\n",
    "if __name__ == \"__main__\":\n",
    "    answers = main()\n",
    "    print(f\"Answer to question1: {answers[0]}\")\n",
    "    print(f\"Answer to question2: {answers[1]}\")"
   ]
  },
  {
   "cell_type": "code",
   "execution_count": 62,
   "metadata": {},
   "outputs": [
    {
     "output_type": "stream",
     "name": "stdout",
     "text": [
      "plus1 * plus3 = 22 * 10 = 220\nAnswer to question1: 220\nAnswer to question2: 19208\n"
     ]
    }
   ],
   "source": [
    "def main():\n",
    "    \n",
    "    data = list(map(int,open('largeexample', 'r').readlines()))\n",
    "    data = sorted([0] + data + [max(data)+3])\n",
    "    adapters = findAdapters(data)\n",
    "    arrangements = findNoOfArrangement(data)\n",
    "\n",
    "    return [adapters, arrangements]\n",
    "\n",
    "if __name__ == \"__main__\":\n",
    "    answers = main()\n",
    "    print(f\"Answer to question1: {answers[0]}\")\n",
    "    print(f\"Answer to question2: {answers[1]}\")"
   ]
  },
  {
   "cell_type": "code",
   "execution_count": 63,
   "metadata": {},
   "outputs": [
    {
     "output_type": "stream",
     "name": "stdout",
     "text": [
      "plus1 * plus3 = 68 * 30 = 2040\nAnswer to question1: 2040\nAnswer to question2: 28346956187648\n"
     ]
    }
   ],
   "source": [
    "def main():\n",
    "    \n",
    "    data = list(map(int,open('input', 'r').readlines()))\n",
    "    data = sorted([0] + data + [max(data)+3])\n",
    "    adapters = findAdapters(data)\n",
    "    arrangements = findNoOfArrangement(data)\n",
    "\n",
    "    return [adapters, arrangements]\n",
    "\n",
    "if __name__ == \"__main__\":\n",
    "    answers = main()\n",
    "    print(f\"Answer to question1: {answers[0]}\")\n",
    "    print(f\"Answer to question2: {answers[1]}\")"
   ]
  },
  {
   "cell_type": "code",
   "execution_count": 64,
   "metadata": {},
   "outputs": [
    {
     "output_type": "stream",
     "name": "stdout",
     "text": [
      "plus1 * plus3 = 68 * 30 = 2040\nAnswer to question1: 2040\nAnswer to question2: 28346956187648\n"
     ]
    }
   ],
   "source": [
    "from itertools import combinations\n",
    "from collections import defaultdict\n",
    "\n",
    "def findAdapters(data):\n",
    "    i = 0\n",
    "    plus1 = 0\n",
    "    plus3 = 0\n",
    "    for i in range(len(data)-1):\n",
    "        if (data[i+1]-data[i]) ==  1:\n",
    "            plus1 += 1\n",
    "        elif (data[i+1]-data[i]) ==  3:\n",
    "            plus3 += 1\n",
    "        else:\n",
    "            print(f\"data[{i+1}]-data[{i}] = {data[i+1]}-{data[i]} = {data[i+1]-data[i]}\")\n",
    "\n",
    "    print(f\"plus1 * plus3 = {plus1} * {plus3} = {plus1 * plus3}\")\n",
    "    return plus1 * plus3\n",
    "\n",
    "def createGraph(data):\n",
    "    edges = []\n",
    "    graph = defaultdict(list)\n",
    "    for value in combinations(data, 2):\n",
    "        #print(*value)\n",
    "        if value[1]-value[0]<=3:\n",
    "            graph[value[0]].append(value[1])\n",
    "            edges.append(value)\n",
    "\n",
    "    graph[max(data)] = []\n",
    "    return graph,edges\n",
    "\n",
    "def countPossiblePaths(graph):\n",
    "    graph = dict(graph)\n",
    "    #create a reversed dict to keep numbers \n",
    "    # possible of paths left per node\n",
    "    maxPathsLeftPerNode = defaultdict(int)\n",
    "    # number of possible paths from last to last is 1\n",
    "    maxPathsLeftPerNode[max(data)] = 1\n",
    "    #iterate the data in reverse starting at \n",
    "    # the second to last object\n",
    "    for node in data[-2::-1]:\n",
    "        for edge in graph[node]:\n",
    "            # possible paths from current node is sum of \n",
    "            # path for all possible targets from this node\n",
    "            maxPathsLeftPerNode[node] += maxPathsLeftPerNode[edge]\n",
    "    #return no of path for node 0\n",
    "    return maxPathsLeftPerNode\n",
    "\n",
    "def main():\n",
    "    \n",
    "    data = list(map(int,open('input', 'r').readlines()))\n",
    "    data = sorted([0] + data + [max(data)+3])\n",
    "    graph, edges = createGraph(data)\n",
    "    adapters = findAdapters(data)\n",
    "    arrangements = countPossiblePaths(graph)[0]\n",
    "\n",
    "    return [adapters, arrangements]\n",
    "\n",
    "if __name__ == \"__main__\":\n",
    "    answers = main()\n",
    "    print(f\"Answer to question1: {answers[0]}\")\n",
    "    print(f\"Answer to question2: {answers[1]}\")\n"
   ]
  },
  {
   "cell_type": "code",
   "execution_count": 65,
   "metadata": {},
   "outputs": [
    {
     "output_type": "stream",
     "name": "stdout",
     "text": [
      "there is 1 possible path from node 158 to 158 next step(s) []\nthere is 1 possible path from node 155 to 158 next step(s) [158]\nthere is 1 possible path from node 154 to 158 next step(s) [155]\nthere is 1 possible path from node 151 to 158 next step(s) [154]\nthere is 1 possible path from node 148 to 158 next step(s) [151]\nthere is 1 possible path from node 147 to 158 next step(s) [148]\nthere are 2 possible paths from node 146 to 158 next step(s) [147, 148]\nthere are 2 possible paths from node 143 to 158 next step(s) [146]\nthere are 2 possible paths from node 140 to 158 next step(s) [143]\nthere are 2 possible paths from node 137 to 158 next step(s) [140]\nthere are 2 possible paths from node 136 to 158 next step(s) [137]\nthere are 2 possible paths from node 133 to 158 next step(s) [136]\nthere are 2 possible paths from node 132 to 158 next step(s) [133]\nthere are 4 possible paths from node 131 to 158 next step(s) [132, 133]\nthere are 8 possible paths from node 130 to 158 next step(s) [131, 132, 133]\nthere are 8 possible paths from node 127 to 158 next step(s) [130]\nthere are 8 possible paths from node 126 to 158 next step(s) [127]\nthere are 16 possible paths from node 125 to 158 next step(s) [126, 127]\nthere are 32 possible paths from node 124 to 158 next step(s) [125, 126, 127]\nthere are 56 possible paths from node 123 to 158 next step(s) [124, 125, 126]\nthere are 56 possible paths from node 120 to 158 next step(s) [123]\nthere are 56 possible paths from node 119 to 158 next step(s) [120]\nthere are 112 possible paths from node 118 to 158 next step(s) [119, 120]\nthere are 224 possible paths from node 117 to 158 next step(s) [118, 119, 120]\nthere are 392 possible paths from node 116 to 158 next step(s) [117, 118, 119]\nthere are 392 possible paths from node 113 to 158 next step(s) [116]\nthere are 392 possible paths from node 112 to 158 next step(s) [113]\nthere are 784 possible paths from node 111 to 158 next step(s) [112, 113]\nthere are 1568 possible paths from node 110 to 158 next step(s) [111, 112, 113]\nthere are 2744 possible paths from node 109 to 158 next step(s) [110, 111, 112]\nthere are 2744 possible paths from node 106 to 158 next step(s) [109]\nthere are 2744 possible paths from node 105 to 158 next step(s) [106]\nthere are 5488 possible paths from node 104 to 158 next step(s) [105, 106]\nthere are 10976 possible paths from node 103 to 158 next step(s) [104, 105, 106]\nthere are 19208 possible paths from node 102 to 158 next step(s) [103, 104, 105]\nthere are 19208 possible paths from node 99 to 158 next step(s) [102]\nthere are 19208 possible paths from node 98 to 158 next step(s) [99]\nthere are 38416 possible paths from node 97 to 158 next step(s) [98, 99]\nthere are 76832 possible paths from node 96 to 158 next step(s) [97, 98, 99]\nthere are 134456 possible paths from node 95 to 158 next step(s) [96, 97, 98]\nthere are 134456 possible paths from node 92 to 158 next step(s) [95]\nthere are 134456 possible paths from node 91 to 158 next step(s) [92]\nthere are 268912 possible paths from node 90 to 158 next step(s) [91, 92]\nthere are 268912 possible paths from node 87 to 158 next step(s) [90]\nthere are 268912 possible paths from node 86 to 158 next step(s) [87]\nthere are 537824 possible paths from node 85 to 158 next step(s) [86, 87]\nthere are 1075648 possible paths from node 84 to 158 next step(s) [85, 86, 87]\nthere are 1882384 possible paths from node 83 to 158 next step(s) [84, 85, 86]\nthere are 1882384 possible paths from node 80 to 158 next step(s) [83]\nthere are 1882384 possible paths from node 79 to 158 next step(s) [80]\nthere are 3764768 possible paths from node 78 to 158 next step(s) [79, 80]\nthere are 7529536 possible paths from node 77 to 158 next step(s) [78, 79, 80]\nthere are 7529536 possible paths from node 74 to 158 next step(s) [77]\nthere are 7529536 possible paths from node 73 to 158 next step(s) [74]\nthere are 15059072 possible paths from node 72 to 158 next step(s) [73, 74]\nthere are 30118144 possible paths from node 71 to 158 next step(s) [72, 73, 74]\nthere are 52706752 possible paths from node 70 to 158 next step(s) [71, 72, 73]\nthere are 52706752 possible paths from node 67 to 158 next step(s) [70]\nthere are 52706752 possible paths from node 66 to 158 next step(s) [67]\nthere are 105413504 possible paths from node 65 to 158 next step(s) [66, 67]\nthere are 210827008 possible paths from node 64 to 158 next step(s) [65, 66, 67]\nthere are 368947264 possible paths from node 63 to 158 next step(s) [64, 65, 66]\nthere are 368947264 possible paths from node 60 to 158 next step(s) [63]\nthere are 368947264 possible paths from node 57 to 158 next step(s) [60]\nthere are 368947264 possible paths from node 56 to 158 next step(s) [57]\nthere are 737894528 possible paths from node 55 to 158 next step(s) [56, 57]\nthere are 1475789056 possible paths from node 54 to 158 next step(s) [55, 56, 57]\nthere are 2582630848 possible paths from node 53 to 158 next step(s) [54, 55, 56]\nthere are 2582630848 possible paths from node 50 to 158 next step(s) [53]\nthere are 2582630848 possible paths from node 49 to 158 next step(s) [50]\nthere are 5165261696 possible paths from node 48 to 158 next step(s) [49, 50]\nthere are 10330523392 possible paths from node 47 to 158 next step(s) [48, 49, 50]\nthere are 18078415936 possible paths from node 46 to 158 next step(s) [47, 48, 49]\nthere are 18078415936 possible paths from node 43 to 158 next step(s) [46]\nthere are 18078415936 possible paths from node 40 to 158 next step(s) [43]\nthere are 18078415936 possible paths from node 39 to 158 next step(s) [40]\nthere are 36156831872 possible paths from node 38 to 158 next step(s) [39, 40]\nthere are 72313663744 possible paths from node 37 to 158 next step(s) [38, 39, 40]\nthere are 72313663744 possible paths from node 34 to 158 next step(s) [37]\nthere are 72313663744 possible paths from node 33 to 158 next step(s) [34]\nthere are 144627327488 possible paths from node 32 to 158 next step(s) [33, 34]\nthere are 289254654976 possible paths from node 31 to 158 next step(s) [32, 33, 34]\nthere are 506195646208 possible paths from node 30 to 158 next step(s) [31, 32, 33]\nthere are 506195646208 possible paths from node 27 to 158 next step(s) [30]\nthere are 506195646208 possible paths from node 24 to 158 next step(s) [27]\nthere are 506195646208 possible paths from node 23 to 158 next step(s) [24]\nthere are 1012391292416 possible paths from node 22 to 158 next step(s) [23, 24]\nthere are 2024782584832 possible paths from node 21 to 158 next step(s) [22, 23, 24]\nthere are 3543369523456 possible paths from node 20 to 158 next step(s) [21, 22, 23]\nthere are 3543369523456 possible paths from node 17 to 158 next step(s) [20]\nthere are 3543369523456 possible paths from node 14 to 158 next step(s) [17]\nthere are 3543369523456 possible paths from node 11 to 158 next step(s) [14]\nthere are 3543369523456 possible paths from node 10 to 158 next step(s) [11]\nthere are 7086739046912 possible paths from node 9 to 158 next step(s) [10, 11]\nthere are 14173478093824 possible paths from node 8 to 158 next step(s) [9, 10, 11]\nthere are 14173478093824 possible paths from node 5 to 158 next step(s) [8]\nthere are 14173478093824 possible paths from node 2 to 158 next step(s) [5]\nthere are 14173478093824 possible paths from node 1 to 158 next step(s) [2]\nthere are 28346956187648 possible paths from node 0 to 158 next step(s) [1, 2]\n"
     ]
    }
   ],
   "source": [
    "\n",
    "data = list(map(int,open('input', 'r').readlines()))\n",
    "data = sorted([0] + data + [max(data)+3])\n",
    "graph, edges = createGraph(data)\n",
    "maxPathsLeftPerNode = countPossiblePaths(graph)\n",
    "\n",
    "for i in maxPathsLeftPerNode:\n",
    "    if maxPathsLeftPerNode[i] == 1:\n",
    "        print(f\"there is {maxPathsLeftPerNode[i]} possible path from node {i} to {max(data)} next step(s) {graph[i]}\")\n",
    "    else:\n",
    "        print(f\"there are {maxPathsLeftPerNode[i]} possible paths from node {i} to {max(data)} next step(s) {graph[i]}\")"
   ]
  },
  {
   "cell_type": "code",
   "execution_count": 66,
   "metadata": {},
   "outputs": [
    {
     "output_type": "execute_result",
     "data": {
      "text/plain": [
       "{0: [1, 2],\n",
       " 1: [2],\n",
       " 2: [5],\n",
       " 5: [8],\n",
       " 8: [9, 10, 11],\n",
       " 9: [10, 11],\n",
       " 10: [11],\n",
       " 11: [14],\n",
       " 14: [17],\n",
       " 17: [20],\n",
       " 20: [21, 22, 23],\n",
       " 21: [22, 23, 24],\n",
       " 22: [23, 24],\n",
       " 23: [24],\n",
       " 24: [27],\n",
       " 27: [30],\n",
       " 30: [31, 32, 33],\n",
       " 31: [32, 33, 34],\n",
       " 32: [33, 34],\n",
       " 33: [34],\n",
       " 34: [37],\n",
       " 37: [38, 39, 40],\n",
       " 38: [39, 40],\n",
       " 39: [40],\n",
       " 40: [43],\n",
       " 43: [46],\n",
       " 46: [47, 48, 49],\n",
       " 47: [48, 49, 50],\n",
       " 48: [49, 50],\n",
       " 49: [50],\n",
       " 50: [53],\n",
       " 53: [54, 55, 56],\n",
       " 54: [55, 56, 57],\n",
       " 55: [56, 57],\n",
       " 56: [57],\n",
       " 57: [60],\n",
       " 60: [63],\n",
       " 63: [64, 65, 66],\n",
       " 64: [65, 66, 67],\n",
       " 65: [66, 67],\n",
       " 66: [67],\n",
       " 67: [70],\n",
       " 70: [71, 72, 73],\n",
       " 71: [72, 73, 74],\n",
       " 72: [73, 74],\n",
       " 73: [74],\n",
       " 74: [77],\n",
       " 77: [78, 79, 80],\n",
       " 78: [79, 80],\n",
       " 79: [80],\n",
       " 80: [83],\n",
       " 83: [84, 85, 86],\n",
       " 84: [85, 86, 87],\n",
       " 85: [86, 87],\n",
       " 86: [87],\n",
       " 87: [90],\n",
       " 90: [91, 92],\n",
       " 91: [92],\n",
       " 92: [95],\n",
       " 95: [96, 97, 98],\n",
       " 96: [97, 98, 99],\n",
       " 97: [98, 99],\n",
       " 98: [99],\n",
       " 99: [102],\n",
       " 102: [103, 104, 105],\n",
       " 103: [104, 105, 106],\n",
       " 104: [105, 106],\n",
       " 105: [106],\n",
       " 106: [109],\n",
       " 109: [110, 111, 112],\n",
       " 110: [111, 112, 113],\n",
       " 111: [112, 113],\n",
       " 112: [113],\n",
       " 113: [116],\n",
       " 116: [117, 118, 119],\n",
       " 117: [118, 119, 120],\n",
       " 118: [119, 120],\n",
       " 119: [120],\n",
       " 120: [123],\n",
       " 123: [124, 125, 126],\n",
       " 124: [125, 126, 127],\n",
       " 125: [126, 127],\n",
       " 126: [127],\n",
       " 127: [130],\n",
       " 130: [131, 132, 133],\n",
       " 131: [132, 133],\n",
       " 132: [133],\n",
       " 133: [136],\n",
       " 136: [137],\n",
       " 137: [140],\n",
       " 140: [143],\n",
       " 143: [146],\n",
       " 146: [147, 148],\n",
       " 147: [148],\n",
       " 148: [151],\n",
       " 151: [154],\n",
       " 154: [155],\n",
       " 155: [158],\n",
       " 158: []}"
      ]
     },
     "metadata": {},
     "execution_count": 66
    }
   ],
   "source": [
    "dict(graph)"
   ]
  },
  {
   "cell_type": "code",
   "execution_count": null,
   "metadata": {},
   "outputs": [],
   "source": []
  }
 ]
}