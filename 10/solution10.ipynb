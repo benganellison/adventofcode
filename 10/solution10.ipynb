{
 "metadata": {
  "language_info": {
   "codemirror_mode": {
    "name": "ipython",
    "version": 3
   },
   "file_extension": ".py",
   "mimetype": "text/x-python",
   "name": "python",
   "nbconvert_exporter": "python",
   "pygments_lexer": "ipython3",
   "version": "3.8.5-final"
  },
  "orig_nbformat": 2,
  "kernelspec": {
   "name": "python3",
   "display_name": "Python 3",
   "language": "python"
  }
 },
 "nbformat": 4,
 "nbformat_minor": 2,
 "cells": [
  {
   "cell_type": "code",
   "execution_count": 39,
   "metadata": {},
   "outputs": [],
   "source": [
    "from itertools import combinations\n",
    "from collections import defaultdict\n",
    "\n",
    "def findAdapters(data):\n",
    "    i = 0\n",
    "    plus1 = 0\n",
    "    plus3 = 0\n",
    "    for i in range(len(data)-1):\n",
    "        if (data[i+1]-data[i]) ==  1:\n",
    "            plus1 += 1\n",
    "        elif (data[i+1]-data[i]) ==  3:\n",
    "            plus3 += 1\n",
    "        else:\n",
    "            print(f\"data[{i+1}]-data[{i}] = {data[i+1]}-{data[i]} = {data[i+1]-data[i]}\")\n",
    "\n",
    "    print(f\"plus1 * plus3 = {plus1} * {plus3} = {plus1 * plus3}\")\n",
    "    return plus1 * plus3\n",
    "\n",
    "def findNoOfArrangement(data):\n",
    "    #create the number of paths from 0 to 1\n",
    "    alternativePaths = [1]\n",
    "    #itterate all nodes\n",
    "    for i in range(1, len(data)):\n",
    "        alterantives = 0\n",
    "        for j in range(i):\n",
    "            #check all incomming edges to this node \n",
    "            if data[j] + 3 >= data[i]:\n",
    "                #sum alternative routes for all incomming edges\n",
    "                alterantives += alternativePaths[j]\n",
    "        #save the no of alternative routes to this node\n",
    "        alternativePaths.append(alterantives)\n",
    "    return alternativePaths[-1]\n"
   ]
  },
  {
   "cell_type": "code",
   "execution_count": 40,
   "metadata": {},
   "outputs": [
    {
     "output_type": "stream",
     "name": "stdout",
     "text": [
      "plus1 * plus3 = 7 * 5 = 35\nAnswer to question1: 35\nAnswer to question2: 8\n"
     ]
    }
   ],
   "source": [
    "\n",
    "def main():\n",
    "    \n",
    "    data = list(map(int,open('example', 'r').readlines()))\n",
    "    data = sorted([0] + data + [max(data)+3])\n",
    "    adapters = findAdapters(data)\n",
    "    arrangements = findNoOfArrangement(data)\n",
    "\n",
    "    return [adapters, arrangements]\n",
    "\n",
    "if __name__ == \"__main__\":\n",
    "    answers = main()\n",
    "    print(f\"Answer to question1: {answers[0]}\")\n",
    "    print(f\"Answer to question2: {answers[1]}\")"
   ]
  },
  {
   "cell_type": "code",
   "execution_count": 41,
   "metadata": {},
   "outputs": [
    {
     "output_type": "stream",
     "name": "stdout",
     "text": [
      "plus1 * plus3 = 22 * 10 = 220\nAnswer to question1: 220\nAnswer to question2: 19208\n"
     ]
    }
   ],
   "source": [
    "def main():\n",
    "    \n",
    "    data = list(map(int,open('largeexample', 'r').readlines()))\n",
    "    data = sorted([0] + data + [max(data)+3])\n",
    "    adapters = findAdapters(data)\n",
    "    arrangements = findNoOfArrangement(data)\n",
    "\n",
    "    return [adapters, arrangements]\n",
    "\n",
    "if __name__ == \"__main__\":\n",
    "    answers = main()\n",
    "    print(f\"Answer to question1: {answers[0]}\")\n",
    "    print(f\"Answer to question2: {answers[1]}\")"
   ]
  },
  {
   "cell_type": "code",
   "execution_count": 42,
   "metadata": {},
   "outputs": [
    {
     "output_type": "stream",
     "name": "stdout",
     "text": [
      "plus1 * plus3 = 68 * 30 = 2040\nAnswer to question1: 2040\nAnswer to question2: 28346956187648\n"
     ]
    }
   ],
   "source": [
    "def main():\n",
    "    \n",
    "    data = list(map(int,open('input', 'r').readlines()))\n",
    "    data = sorted([0] + data + [max(data)+3])\n",
    "    adapters = findAdapters(data)\n",
    "    arrangements = findNoOfArrangement(data)\n",
    "\n",
    "    return [adapters, arrangements]\n",
    "\n",
    "if __name__ == \"__main__\":\n",
    "    answers = main()\n",
    "    print(f\"Answer to question1: {answers[0]}\")\n",
    "    print(f\"Answer to question2: {answers[1]}\")"
   ]
  },
  {
   "cell_type": "code",
   "execution_count": 43,
   "metadata": {},
   "outputs": [
    {
     "output_type": "stream",
     "name": "stdout",
     "text": [
      "plus1 * plus3 = 68 * 30 = 2040\nAnswer to question1: 2040\nAnswer to question2: 28346956187648\n"
     ]
    }
   ],
   "source": [
    "from itertools import combinations\n",
    "from collections import defaultdict\n",
    "\n",
    "def findAdapters(data):\n",
    "    i = 0\n",
    "    plus1 = 0\n",
    "    plus3 = 0\n",
    "    for i in range(len(data)-1):\n",
    "        if (data[i+1]-data[i]) ==  1:\n",
    "            plus1 += 1\n",
    "        elif (data[i+1]-data[i]) ==  3:\n",
    "            plus3 += 1\n",
    "        else:\n",
    "            print(f\"data[{i+1}]-data[{i}] = {data[i+1]}-{data[i]} = {data[i+1]-data[i]}\")\n",
    "\n",
    "    print(f\"plus1 * plus3 = {plus1} * {plus3} = {plus1 * plus3}\")\n",
    "    return plus1 * plus3\n",
    "\n",
    "def createGraph(data):\n",
    "    edges = []\n",
    "    graph = defaultdict(list)\n",
    "    for value in combinations(data, 2):\n",
    "        #print(*value)\n",
    "        if value[1]-value[0]<=3:\n",
    "            graph[value[0]].append(value[1])\n",
    "            edges.append(value)\n",
    "\n",
    "    graph[max(data)].append([])\n",
    "    return graph,edges\n",
    "\n",
    "def countPossiblePaths(graph):\n",
    "    graph = dict(graph)\n",
    "    #create a reversed dict to keep numbers \n",
    "    # possible of paths left per node\n",
    "    maxPathsLeftPerNode = defaultdict(int)\n",
    "    # number of possible paths from last to last is 1\n",
    "    maxPathsLeftPerNode[max(data)] = 1\n",
    "    #iterate the data in reverse starting at \n",
    "    # the second to last object\n",
    "    for node in data[-2::-1]:\n",
    "        for edge in graph[node]:\n",
    "            # possible paths from current node is sum of \n",
    "            # path for all possible targets from this node\n",
    "            maxPathsLeftPerNode[node] += maxPathsLeftPerNode[edge]\n",
    "    #return no of path for node 0\n",
    "    return maxPathsLeftPerNode[0]\n",
    "\n",
    "def main():\n",
    "    \n",
    "    data = list(map(int,open('input', 'r').readlines()))\n",
    "    data = sorted([0] + data + [max(data)+3])\n",
    "    graph, edges = createGraph(data)\n",
    "    adapters = findAdapters(data)\n",
    "    arrangements = countPossiblePaths(graph)\n",
    "\n",
    "    return [adapters, arrangements]\n",
    "\n",
    "if __name__ == \"__main__\":\n",
    "    answers = main()\n",
    "    print(f\"Answer to question1: {answers[0]}\")\n",
    "    print(f\"Answer to question2: {answers[1]}\")\n"
   ]
  },
  {
   "cell_type": "code",
   "execution_count": 44,
   "metadata": {},
   "outputs": [
    {
     "output_type": "stream",
     "name": "stdout",
     "text": [
      "from node 0 it is 28346956187648 possible paths left next step [1, 2]\nfrom node 1 it is 14173478093824 possible paths left next step [2]\nfrom node 2 it is 14173478093824 possible paths left next step [5]\nfrom node 5 it is 14173478093824 possible paths left next step [8]\nfrom node 8 it is 14173478093824 possible paths left next step [9, 10, 11]\nfrom node 9 it is 7086739046912 possible paths left next step [10, 11]\nfrom node 10 it is 3543369523456 possible paths left next step [11]\nfrom node 11 it is 3543369523456 possible paths left next step [14]\nfrom node 14 it is 3543369523456 possible paths left next step [17]\nfrom node 17 it is 3543369523456 possible paths left next step [20]\nfrom node 20 it is 3543369523456 possible paths left next step [21, 22, 23]\nfrom node 21 it is 2024782584832 possible paths left next step [22, 23, 24]\nfrom node 22 it is 1012391292416 possible paths left next step [23, 24]\nfrom node 23 it is 506195646208 possible paths left next step [24]\nfrom node 24 it is 506195646208 possible paths left next step [27]\nfrom node 27 it is 506195646208 possible paths left next step [30]\nfrom node 30 it is 506195646208 possible paths left next step [31, 32, 33]\nfrom node 31 it is 289254654976 possible paths left next step [32, 33, 34]\nfrom node 32 it is 144627327488 possible paths left next step [33, 34]\nfrom node 33 it is 72313663744 possible paths left next step [34]\nfrom node 34 it is 72313663744 possible paths left next step [37]\nfrom node 37 it is 72313663744 possible paths left next step [38, 39, 40]\nfrom node 38 it is 36156831872 possible paths left next step [39, 40]\nfrom node 39 it is 18078415936 possible paths left next step [40]\nfrom node 40 it is 18078415936 possible paths left next step [43]\nfrom node 43 it is 18078415936 possible paths left next step [46]\nfrom node 46 it is 18078415936 possible paths left next step [47, 48, 49]\nfrom node 47 it is 10330523392 possible paths left next step [48, 49, 50]\nfrom node 48 it is 5165261696 possible paths left next step [49, 50]\nfrom node 49 it is 2582630848 possible paths left next step [50]\nfrom node 50 it is 2582630848 possible paths left next step [53]\nfrom node 53 it is 2582630848 possible paths left next step [54, 55, 56]\nfrom node 54 it is 1475789056 possible paths left next step [55, 56, 57]\nfrom node 55 it is 737894528 possible paths left next step [56, 57]\nfrom node 56 it is 368947264 possible paths left next step [57]\nfrom node 57 it is 368947264 possible paths left next step [60]\nfrom node 60 it is 368947264 possible paths left next step [63]\nfrom node 63 it is 368947264 possible paths left next step [64, 65, 66]\nfrom node 64 it is 210827008 possible paths left next step [65, 66, 67]\nfrom node 65 it is 105413504 possible paths left next step [66, 67]\nfrom node 66 it is 52706752 possible paths left next step [67]\nfrom node 67 it is 52706752 possible paths left next step [70]\nfrom node 70 it is 52706752 possible paths left next step [71, 72, 73]\nfrom node 71 it is 30118144 possible paths left next step [72, 73, 74]\nfrom node 72 it is 15059072 possible paths left next step [73, 74]\nfrom node 73 it is 7529536 possible paths left next step [74]\nfrom node 74 it is 7529536 possible paths left next step [77]\nfrom node 77 it is 7529536 possible paths left next step [78, 79, 80]\nfrom node 78 it is 3764768 possible paths left next step [79, 80]\nfrom node 79 it is 1882384 possible paths left next step [80]\nfrom node 80 it is 1882384 possible paths left next step [83]\nfrom node 83 it is 1882384 possible paths left next step [84, 85, 86]\nfrom node 84 it is 1075648 possible paths left next step [85, 86, 87]\nfrom node 85 it is 537824 possible paths left next step [86, 87]\nfrom node 86 it is 268912 possible paths left next step [87]\nfrom node 87 it is 268912 possible paths left next step [90]\nfrom node 90 it is 268912 possible paths left next step [91, 92]\nfrom node 91 it is 134456 possible paths left next step [92]\nfrom node 92 it is 134456 possible paths left next step [95]\nfrom node 95 it is 134456 possible paths left next step [96, 97, 98]\nfrom node 96 it is 76832 possible paths left next step [97, 98, 99]\nfrom node 97 it is 38416 possible paths left next step [98, 99]\nfrom node 98 it is 19208 possible paths left next step [99]\nfrom node 99 it is 19208 possible paths left next step [102]\nfrom node 102 it is 19208 possible paths left next step [103, 104, 105]\nfrom node 103 it is 10976 possible paths left next step [104, 105, 106]\nfrom node 104 it is 5488 possible paths left next step [105, 106]\nfrom node 105 it is 2744 possible paths left next step [106]\nfrom node 106 it is 2744 possible paths left next step [109]\nfrom node 109 it is 2744 possible paths left next step [110, 111, 112]\nfrom node 110 it is 1568 possible paths left next step [111, 112, 113]\nfrom node 111 it is 784 possible paths left next step [112, 113]\nfrom node 112 it is 392 possible paths left next step [113]\nfrom node 113 it is 392 possible paths left next step [116]\nfrom node 116 it is 392 possible paths left next step [117, 118, 119]\nfrom node 117 it is 224 possible paths left next step [118, 119, 120]\nfrom node 118 it is 112 possible paths left next step [119, 120]\nfrom node 119 it is 56 possible paths left next step [120]\nfrom node 120 it is 56 possible paths left next step [123]\nfrom node 123 it is 56 possible paths left next step [124, 125, 126]\nfrom node 124 it is 32 possible paths left next step [125, 126, 127]\nfrom node 125 it is 16 possible paths left next step [126, 127]\nfrom node 126 it is 8 possible paths left next step [127]\nfrom node 127 it is 8 possible paths left next step [130]\nfrom node 130 it is 8 possible paths left next step [131, 132, 133]\nfrom node 131 it is 4 possible paths left next step [132, 133]\nfrom node 132 it is 2 possible paths left next step [133]\nfrom node 133 it is 2 possible paths left next step [136]\nfrom node 136 it is 2 possible paths left next step [137]\nfrom node 137 it is 2 possible paths left next step [140]\nfrom node 140 it is 2 possible paths left next step [143]\nfrom node 143 it is 2 possible paths left next step [146]\nfrom node 146 it is 2 possible paths left next step [147, 148]\nfrom node 147 it is 1 possible paths left next step [148]\nfrom node 148 it is 1 possible paths left next step [151]\nfrom node 151 it is 1 possible paths left next step [154]\nfrom node 154 it is 1 possible paths left next step [155]\nfrom node 155 it is 1 possible paths left next step [158]\nfrom node 158 it is 1 possible paths left next step [[]]\n"
     ]
    }
   ],
   "source": [
    "for i in data:\n",
    "    print(f\"from node {i} it is {maxPathsLeftPerNode[i]} possible paths left next step {graph[i]}\")"
   ]
  }
 ]
}