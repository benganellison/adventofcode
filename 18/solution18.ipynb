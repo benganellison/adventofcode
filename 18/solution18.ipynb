{
 "metadata": {
  "language_info": {
   "codemirror_mode": {
    "name": "ipython",
    "version": 3
   },
   "file_extension": ".py",
   "mimetype": "text/x-python",
   "name": "python",
   "nbconvert_exporter": "python",
   "pygments_lexer": "ipython3",
   "version": 3
  },
  "orig_nbformat": 2
 },
 "nbformat": 4,
 "nbformat_minor": 2,
 "cells": [
  {
   "cell_type": "code",
   "execution_count": null,
   "metadata": {},
   "outputs": [],
   "source": [
    "import numpy as np\n",
    "\n",
    "def main():\n",
    "    file1 = open('input', 'r') \n",
    "    lines = file1.readlines()\n",
    "    lines = np.char.strip(lines).tolist()\n",
    "    numbers = []\n",
    "\n",
    "    for line in lines: \n",
    "        #if number\n",
    "        try:\n",
    "            numbers.append(int(line))\n",
    "        except:\n",
    "            continue\n",
    "    return [lines, numbers]\n",
    "\n",
    "if __name__ == \"__main__\":\n",
    "    value = main()\n",
    "    lines = value[0]\n",
    "    numbers = value[1]\n",
    "    "
   ]
  },
  {
   "cell_type": "code",
   "execution_count": null,
   "metadata": {},
   "outputs": [],
   "source": [
    "import re\n",
    "\n",
    "def main():\n",
    "\n",
    "    file1 = open('input', 'r') \n",
    "    passports = [dict(re.findall(r'(\\S+):(\\S+)+', onePassport)) for onePassport in file1.read().split('\\n\\n')]\n",
    "\n",
    "    return [has_reqiured_fields(passports), has_correct_data(passports)]\n",
    "\n",
    "if __name__ == \"__main__\":\n",
    "    answers = main()\n",
    "    print(f\"Answer to question1: {answers[0]}\")\n",
    "    print(f\"Answer to question2: {answers[1]}\")\n",
    "    #lines = value[0]\n",
    "    #numbers = value[1] "
   ]
  },
  {
   "cell_type": "code",
   "execution_count": null,
   "metadata": {},
   "outputs": [],
   "source": [
    "\n",
    "def main():\n",
    "    \n",
    "    data = list(map(int,open('input', 'r').readlines()))\n",
    "    firstNotValid = findNotValid(data, 25)\n",
    "    contiguousNo = findContiguousSet(data, firstNotValid)\n",
    "\n",
    "    return [firstNotValid, contiguousNo]\n",
    "\n",
    "if __name__ == \"__main__\":\n",
    "    answers = main()\n",
    "    print(f\"Answer to question1: {answers[0]}\")\n",
    "    print(f\"Answer to question2: {answers[1]}\")"
   ]
  }
 ]
}