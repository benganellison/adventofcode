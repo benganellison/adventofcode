{
 "metadata": {
  "language_info": {
   "codemirror_mode": {
    "name": "ipython",
    "version": 3
   },
   "file_extension": ".py",
   "mimetype": "text/x-python",
   "name": "python",
   "nbconvert_exporter": "python",
   "pygments_lexer": "ipython3",
   "version": "3.8.5-final"
  },
  "orig_nbformat": 2,
  "kernelspec": {
   "name": "python3",
   "display_name": "Python 3.8.5 64-bit ('3.8.5')",
   "metadata": {
    "interpreter": {
     "hash": "c3b6773c1c04a642d0fbf4d229e6380d3383367e144583ccd082a536e2a9855a"
    }
   }
  }
 },
 "nbformat": 4,
 "nbformat_minor": 2,
 "cells": [
  {
   "cell_type": "code",
   "execution_count": 1,
   "metadata": {},
   "outputs": [],
   "source": [
    "import numpy as np"
   ]
  },
  {
   "cell_type": "code",
   "execution_count": 2,
   "metadata": {},
   "outputs": [],
   "source": [
    "#import urllib\n",
    "#url = \"https://adventofcode.com/2020/day/1/input\"\n",
    "#file11 = urllib.request.urlopen(url)\n",
    "\n",
    "# Using readlines() \n",
    "file1 = open('input', 'r') \n",
    "lines = file1.readlines() \n",
    "  \n",
    "count = 0\n",
    "\n",
    "below_1010 = {}\n",
    "above_1010 = {}\n",
    "lowNumbers = []\n",
    "highNumbers = []\n",
    "allnumbers = []\n",
    "is_1010 = False\n",
    "\n",
    "sum_to_find = 2020\n",
    "\n",
    "expense_report = 0\n",
    "\n",
    "def find_equal(small_dict,large_dict):\n",
    "    for key in small_dict.keys():\n",
    "        if (sum_to_find-key) in large_dict:\n",
    "            expense_report = large_dict[sum_to_find-key]\n",
    "            return expense_report\n",
    "\n",
    "\n",
    "# Strips the newline character \n",
    "for line in lines: \n",
    "    expense = int(line)\n",
    "    allnumbers.append(expense)\n",
    "    if expense > (sum_to_find/2):\n",
    "        above_1010[expense] = expense * (2020-expense)\n",
    "        highNumbers.append(expense)\n",
    "    elif expense == (sum_to_find/2):\n",
    "        if is_1010:\n",
    "            expense_report = sum_to_find^2\n",
    "            break\n",
    "        else:\n",
    "            is_1010 = true\n",
    "    else:\n",
    "        below_1010[expense] = expense * (2020-expense)\n",
    "        lowNumbers.append(expense)\n",
    "\n",
    "if expense_report == 0:\n",
    "    if len(below_1010) < len(above_1010):\n",
    "        expense_report = find_equal(below_1010,above_1010)\n",
    "    else:\n",
    "        expense_report = find_equal(above_1010,below_1010)\n"
   ]
  },
  {
   "cell_type": "code",
   "execution_count": 3,
   "metadata": {},
   "outputs": [
    {
     "output_type": "execute_result",
     "data": {
      "text/plain": [
       "1015476"
      ]
     },
     "metadata": {},
     "execution_count": 3
    }
   ],
   "source": [
    "expense_report"
   ]
  },
  {
   "cell_type": "code",
   "execution_count": 9,
   "metadata": {},
   "outputs": [
    {
     "output_type": "execute_result",
     "data": {
      "text/plain": [
       "200878544"
      ]
     },
     "metadata": {},
     "execution_count": 9
    }
   ],
   "source": [
    "newArray = np.array(np.meshgrid(allnumbers, allnumbers, allnumbers)).T.reshape(-1,3)\n",
    "newArray = newArray[(newArray[:,0] != newArray[:,1]) & (newArray[:,0] != newArray[:,2]) & (newArray[:,1] != newArray[:,2])]\n",
    "newArray\n",
    "newArray[newArray.sum(axis=1)==2020]\n",
    "newArray[newArray.sum(axis=1)==2020].prod(axis=1)[0]"
   ]
  },
  {
   "cell_type": "code",
   "execution_count": 7,
   "metadata": {},
   "outputs": [
    {
     "output_type": "execute_result",
     "data": {
      "text/plain": [
       "1015476"
      ]
     },
     "metadata": {},
     "execution_count": 7
    }
   ],
   "source": [
    "newArray = np.array(np.meshgrid(allnumbers, allnumbers)).T.reshape(-1,2)\n",
    "newArray = newArray[(newArray[:,0] != newArray[:,1])]\n",
    "newArray\n",
    "newArray[newArray.sum(axis=1)==2020]\n",
    "newArray[newArray.sum(axis=1)==2020].prod(axis=1)[0]"
   ]
  },
  {
   "source": [
    "neater solution but slower"
   ],
   "cell_type": "markdown",
   "metadata": {}
  },
  {
   "cell_type": "code",
   "execution_count": 1,
   "metadata": {},
   "outputs": [
    {
     "output_type": "error",
     "ename": "TypeError",
     "evalue": "int() argument must be a string, a bytes-like object or a number, not 'list'",
     "traceback": [
      "\u001b[0;31m---------------------------------------------------------------------------\u001b[0m",
      "\u001b[0;31mTypeError\u001b[0m                                 Traceback (most recent call last)",
      "\u001b[0;32m<ipython-input-1-d090b0a96d4c>\u001b[0m in \u001b[0;36m<module>\u001b[0;34m\u001b[0m\n\u001b[1;32m      8\u001b[0m \u001b[0msum_to_find\u001b[0m \u001b[0;34m=\u001b[0m \u001b[0;36m2020\u001b[0m\u001b[0;34m\u001b[0m\u001b[0;34m\u001b[0m\u001b[0m\n\u001b[1;32m      9\u001b[0m \u001b[0;34m\u001b[0m\u001b[0m\n\u001b[0;32m---> 10\u001b[0;31m \u001b[0mlines\u001b[0m \u001b[0;34m=\u001b[0m \u001b[0mnp\u001b[0m\u001b[0;34m.\u001b[0m\u001b[0mint\u001b[0m\u001b[0;34m(\u001b[0m\u001b[0mlines\u001b[0m\u001b[0;34m)\u001b[0m\u001b[0;34m\u001b[0m\u001b[0;34m\u001b[0m\u001b[0m\n\u001b[0m\u001b[1;32m     11\u001b[0m \u001b[0;34m\u001b[0m\u001b[0m\n\u001b[1;32m     12\u001b[0m \u001b[0;32mfor\u001b[0m \u001b[0ma\u001b[0m \u001b[0;32min\u001b[0m \u001b[0mcombinations\u001b[0m\u001b[0;34m(\u001b[0m\u001b[0mallnumbers\u001b[0m\u001b[0;34m,\u001b[0m \u001b[0;36m2\u001b[0m\u001b[0;34m)\u001b[0m\u001b[0;34m:\u001b[0m\u001b[0;34m\u001b[0m\u001b[0;34m\u001b[0m\u001b[0m\n",
      "\u001b[0;31mTypeError\u001b[0m: int() argument must be a string, a bytes-like object or a number, not 'list'"
     ]
    }
   ],
   "source": [
    "from itertools import combinations\n",
    "import numpy as np\n",
    "\n",
    "\n",
    "file1 = open('input', 'r') \n",
    "lines = file1.readlines() \n",
    "allnumbers = []\n",
    "sum_to_find = 2020\n",
    "\n",
    "for line in lines: \n",
    "    allnumbers.append(int(line))\n",
    "\n",
    "for a in combinations(allnumbers, 2):\n",
    "    if (np.sum(a) == sum_to_find):\n",
    "        print(f\"answer for question 1.a is answered by the product of {a} {np.prod(a)}\")\n",
    "\n",
    "for a in combinations(allnumbers, 3):\n",
    "    if (np.sum(a) == sum_to_find):\n",
    "        print(f\"answer for question 1.b is answered by the product of {a} {np.prod(a)}\")"
   ]
  },
  {
   "cell_type": "code",
   "execution_count": null,
   "metadata": {},
   "outputs": [],
   "source": []
  }
 ]
}