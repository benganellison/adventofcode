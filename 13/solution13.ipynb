{
 "metadata": {
  "language_info": {
   "codemirror_mode": {
    "name": "ipython",
    "version": 3
   },
   "file_extension": ".py",
   "mimetype": "text/x-python",
   "name": "python",
   "nbconvert_exporter": "python",
   "pygments_lexer": "ipython3",
   "version": "3.8.5-final"
  },
  "orig_nbformat": 2,
  "kernelspec": {
   "name": "python3",
   "display_name": "Python 3",
   "language": "python"
  }
 },
 "nbformat": 4,
 "nbformat_minor": 2,
 "cells": [
  {
   "cell_type": "code",
   "execution_count": 1,
   "metadata": {},
   "outputs": [
    {
     "output_type": "stream",
     "name": "stdout",
     "text": [
      "Answer to question1: 2382\nAnswer to question2: 1000434\n\n"
     ]
    }
   ],
   "source": [
    "import math\n",
    "import numpy as np\n",
    "\n",
    "def main():\n",
    "    \n",
    "    data = open('input', 'r').readlines()\n",
    "    answer1 = math.prod(min(list(map(lambda x : (int(x) - (int(data[0]) % int(x)),int(x)) if x != \"x\" else (int(data[0]),x), data[1].strip().split(\",\")))))\n",
    "    answer2 = data[0]\n",
    "\n",
    "    return [answer1, answer2]\n",
    "\n",
    "if __name__ == \"__main__\":\n",
    "    answers = main()\n",
    "    print(f\"Answer to question1: {answers[0]}\")\n",
    "    print(f\"Answer to question2: {answers[1]}\")"
   ]
  },
  {
   "cell_type": "code",
   "execution_count": null,
   "metadata": {},
   "outputs": [],
   "source": []
  },
  {
   "cell_type": "code",
   "execution_count": 2,
   "metadata": {},
   "outputs": [],
   "source": [
    "\n",
    "\n",
    "data = open('testdata', 'r').readlines()\n",
    "data = data[1].strip().split(\",\")\n",
    "\n"
   ]
  },
  {
   "cell_type": "code",
   "execution_count": 3,
   "metadata": {},
   "outputs": [],
   "source": [
    "\n",
    "import numpy as np\n",
    "\n",
    "def findDepartureTime(data, start=1):\n",
    "    departures = []\n",
    "    lcmList = []\n",
    "    for i in range(len(data)):\n",
    "        if data[i] != \"x\":\n",
    "            value =int(data[i])\n",
    "            departures.append((i, value))\n",
    "            lcmList.append( value-(i % value)  )\n",
    "\n",
    "    lcm = np.lcm.reduce(lcmList)\n",
    "    factor = int(data[0])\n",
    "    result = False\n",
    "    i = int(start/factor)\n",
    "    while not result:\n",
    "        i += 1\n",
    "        #result = all(list(map(lambda x : (i * factor + x[0]) % x[1]==0, departures)))\n",
    "\n",
    "        i += 1\n",
    "        result = True\n",
    "        for x in departures:\n",
    "            if not ((i * factor + x[0]) % x[1] == 0):\n",
    "                result = False\n",
    "                break\n",
    "        if i % 1000000 == 0:\n",
    "            print(f\"{i=}\")\n",
    "\n",
    "\n",
    "#    print(f\"{list(map(lambda x : x[1], departures.items()))}\")\n",
    "#    print(f\"{lcmList}\")\n",
    "#    print(f\"{i=} * {factor=}\")\n",
    "#    print(f\"{lcm=}\")\n",
    "#    print(f\"{final=}\")\n",
    "#    print(f\"{final2=}\")\n",
    "#    print(f\"{lcm / (i * factor)=}\")\n",
    "    return i * factor"
   ]
  },
  {
   "cell_type": "code",
   "execution_count": 4,
   "metadata": {},
   "outputs": [
    {
     "output_type": "stream",
     "name": "stdout",
     "text": [
      "4231122\n754018\n779210\n1261476\n1202161486\n"
     ]
    }
   ],
   "source": [
    "\n",
    "print(findDepartureTime([7,13,'x','x',59,'x',31,19]))\n",
    "print(findDepartureTime([67,7,59,61]))\n",
    "print(findDepartureTime([67,'x',7,59,61]))\n",
    "print(findDepartureTime([67,7,'x',59,61]))\n",
    "print(findDepartureTime([1789,37,47,1889]))\n",
    "\n",
    "data = open('input', 'r').readlines()\n",
    "data = data[1].strip().split(\",\")\n",
    "#print(findDepartureTime(data, 100000000000000))"
   ]
  },
  {
   "cell_type": "code",
   "execution_count": 5,
   "metadata": {},
   "outputs": [
    {
     "output_type": "execute_result",
     "data": {
      "text/plain": [
       "1658064091492211"
      ]
     },
     "metadata": {},
     "execution_count": 5
    }
   ],
   "source": [
    "test = []\n",
    "departures = {}\n",
    "start = 1\n",
    "for i in range(len(data)):\n",
    "    if data[i] != \"x\":\n",
    "        value =int(data[i])\n",
    "        departures[i]= value\n",
    "        start *= value\n",
    "        test.append( value-(i % value)  )\n",
    "\n",
    "start"
   ]
  }
 ]
}