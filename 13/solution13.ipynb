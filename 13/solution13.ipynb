{
 "metadata": {
  "language_info": {
   "codemirror_mode": {
    "name": "ipython",
    "version": 3
   },
   "file_extension": ".py",
   "mimetype": "text/x-python",
   "name": "python",
   "nbconvert_exporter": "python",
   "pygments_lexer": "ipython3",
   "version": "3.8.5-final"
  },
  "orig_nbformat": 2,
  "kernelspec": {
   "name": "python3",
   "display_name": "Python 3",
   "language": "python"
  }
 },
 "nbformat": 4,
 "nbformat_minor": 2,
 "cells": [
  {
   "cell_type": "code",
   "execution_count": 1,
   "metadata": {},
   "outputs": [],
   "source": [
    "import numpy as np\n",
    "\n",
    "def findDepartureTime(data, start=1):\n",
    "\n",
    "    departures = []\n",
    "    for i in range(len(data)):\n",
    "        if data[i] != \"x\":\n",
    "            departures.append((i, int(data[i])))\n",
    "\n",
    "    factor = int(data[0])\n",
    "    result = False\n",
    "    i = int(start/factor)\n",
    "    while not result:\n",
    "        i += 1\n",
    "        result = True\n",
    "        for x in departures:\n",
    "            if not ((i * factor + x[0]) % x[1] == 0):\n",
    "                result = False\n",
    "                break\n",
    "        if i % 1000000 == 0:\n",
    "            print(f\"{i=}\")\n",
    "\n",
    "    return i * factor"
   ]
  },
  {
   "cell_type": "code",
   "execution_count": 2,
   "metadata": {},
   "outputs": [],
   "source": [
    "from math import prod\n",
    "\n",
    "def findDepartureTimeQuick(data):\n",
    "    #buses are mods\n",
    "    busses = [int(bus) for bus in data if bus != \"x\"]\n",
    "    M = prod(busses)\n",
    "    mn = [int(M / int(bus)) for bus in busses]\n",
    "    rests = [(int(data[i])-i) % int(data[i]) for i in range(len(data)) if data[i] != \"x\"]\n",
    "\n",
    "    i = 0\n",
    "    for i in range(len(busses)):\n",
    "        solutionfound = False\n",
    "        j = 0\n",
    "        while not solutionfound:\n",
    "            j += 1\n",
    "            solutionfound = (j * mn[i]) % busses[i] == rests[i]\n",
    "        #print(mn[i])\n",
    "        mn[i] = j * mn[i]\n",
    "    return sum(mn) % M"
   ]
  },
  {
   "cell_type": "code",
   "execution_count": 3,
   "metadata": {},
   "outputs": [
    {
     "output_type": "stream",
     "name": "stdout",
     "text": [
      "brute force\n",
      "1068781\n",
      "754018\n",
      "779210\n",
      "1261476\n",
      "1202161486\n",
      "took 0.5092238529905444 seconds\n",
      "00:00:000.5092238529905444\n",
      " \n",
      "Chinese remainder theorem\n",
      "Test data\n",
      "1068781\n",
      "754018\n",
      "779210\n",
      "1261476\n",
      "1202161486\n",
      "took 0.0028357130067888647 seconds\n",
      "00:00:000.0028357130067888647\n",
      " \n",
      "Chinese remainder theorem\n",
      "Full dataset\n",
      "906332393333683\n",
      "took 0.0027833799977088347 seconds\n",
      "00:00:000.0027833799977088347\n"
     ]
    }
   ],
   "source": [
    "import time\n",
    "\n",
    "print(\"brute force\")\n",
    "starttime = time.perf_counter()\n",
    "print(findDepartureTime([7,13,'x','x',59,'x',31,19]))\n",
    "print(findDepartureTime([67,7,59,61]))\n",
    "print(findDepartureTime([67,'x',7,59,61]))\n",
    "print(findDepartureTime([67,7,'x',59,61]))\n",
    "print(findDepartureTime([1789,37,47,1889]))\n",
    "timetaken = time.perf_counter()-starttime\n",
    "print(f\"took {timetaken} seconds\")\n",
    "print(f\"{time.strftime('%H:%M:%S',time.gmtime(timetaken))}{timetaken - int(timetaken)}\")\n",
    "\n",
    "\n",
    "print(\" \")\n",
    "print(\"Chinese remainder theorem\")\n",
    "print(\"Test data\")\n",
    "starttime = time.perf_counter()\n",
    "print(findDepartureTimeQuick([7,13,'x','x',59,'x',31,19]))\n",
    "print(findDepartureTimeQuick([67,7,59,61]))\n",
    "print(findDepartureTimeQuick([67,'x',7,59,61]))\n",
    "print(findDepartureTimeQuick([67,7,'x',59,61]))\n",
    "print(findDepartureTimeQuick([1789,37,47,1889]))\n",
    "timetaken = time.perf_counter()-starttime\n",
    "print(f\"took {timetaken} seconds\")\n",
    "print(f\"{time.strftime('%H:%M:%S',time.gmtime(timetaken))}{timetaken - int(timetaken)}\")\n",
    "\n",
    "print(\" \")\n",
    "print(\"Chinese remainder theorem\")\n",
    "print(\"Full dataset\")\n",
    "starttime = time.perf_counter()\n",
    "data = open('input', 'r').readlines()\n",
    "data = data[1].strip().split(\",\")\n",
    "print(findDepartureTimeQuick(data))\n",
    "timetaken = time.perf_counter()-starttime\n",
    "print(f\"took {timetaken} seconds\")\n",
    "print(f\"{time.strftime('%H:%M:%S',time.gmtime(timetaken))}{timetaken - int(timetaken)}\")"
   ]
  },
  {
   "cell_type": "code",
   "execution_count": 4,
   "metadata": {},
   "outputs": [
    {
     "output_type": "stream",
     "name": "stdout",
     "text": [
      "Answer to question1: 2382\nAnswer to question2: 906332393333683\n"
     ]
    }
   ],
   "source": [
    "import math\n",
    "\n",
    "def main():\n",
    "    \n",
    "    data = open('input', 'r').readlines()\n",
    "    answer1 = math.prod(min(list(map(lambda x : (int(x) - (int(data[0]) % int(x)),int(x)) if x != \"x\" else (int(data[0]),x), data[1].strip().split(\",\")))))\n",
    "    \n",
    "    data = data[1].strip().split(\",\")\n",
    "    answer2 = findDepartureTimeQuick(data)\n",
    "\n",
    "    return [answer1, answer2]\n",
    "\n",
    "if __name__ == \"__main__\":\n",
    "    answers = main()\n",
    "    print(f\"Answer to question1: {answers[0]}\")\n",
    "    print(f\"Answer to question2: {answers[1]}\")"
   ]
  }
 ]
}