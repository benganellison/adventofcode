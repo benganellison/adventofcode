{
 "cells": [
  {
   "cell_type": "code",
   "execution_count": 23,
   "metadata": {},
   "outputs": [],
   "source": [
    "from heapq import heapify,heappop,heappush\n",
    "from defaultlist import defaultlist"
   ]
  },
  {
   "cell_type": "code",
   "execution_count": 45,
   "metadata": {},
   "outputs": [
    {
     "name": "stdout",
     "output_type": "stream",
     "text": [
      "Answer to test-question 1: 40\n",
      "Answer to question 1: 790\n",
      "Answer to test-question 2: 315\n",
      "Answer to question 2: 2998\n"
     ]
    }
   ],
   "source": [
    "\n",
    "def find_lowest_cost_path(grid) -> int:\n",
    "    cost,row,col = 0,0,0\n",
    "    pq = [(cost,row,col)]\n",
    "    visited = set((row,col))\n",
    "    rows = len(grid)\n",
    "    cols = len(grid[0])\n",
    "    heapify(pq)\n",
    "    while len(pq)> 0:\n",
    "        cost,row,col = heappop(pq)\n",
    "        if row == rows-1 and col == cols-1:\n",
    "            break\n",
    "        for rr,cc in [(row-1,col),(row,col-1),(row+1,col),(row,col+1)]:\n",
    "            if rr < 0 or rr >= rows or cc < 0 or cc >= cols:\n",
    "                continue\n",
    "            if (rr,cc) in visited:\n",
    "                continue\n",
    "            visited.add((rr,cc))\n",
    "            heappush(pq, (grid[rr][cc]+cost,rr,cc))\n",
    "\n",
    "    return cost\n",
    "\n",
    "def get_extended_grid(grid,x_rows,x_cols) -> list:\n",
    "    rows = len(grid)\n",
    "    cols = len(grid[0])\n",
    "    new_grid = []\n",
    "    for r in range(rows*x_rows):\n",
    "        new_grid.append([0]*cols*x_cols)\n",
    "    for ri in range(5):\n",
    "        for rowind, row in enumerate(grid):\n",
    "            for ci in range(5):\n",
    "                for colind, col in enumerate(row):\n",
    "                    new_grid[rowind+ri*rows][colind+ci*cols] = grid[rowind][colind]+1*(ci+ri)\n",
    "    for rowind, row in enumerate(new_grid):\n",
    "        for colind, col in enumerate(row):\n",
    "            if col%9 == 0:\n",
    "                new_grid[rowind][colind] = 9\n",
    "            else:\n",
    "                new_grid[rowind][colind] = col%9\n",
    "    return new_grid\n",
    "\n",
    "def test():\n",
    "    input_file_name = './test_input.txt'\n",
    "    return main(input_file_name)\n",
    "\n",
    "def main(input_file_name=\"./input.txt\"):\n",
    "\n",
    "    input_file = open(input_file_name, 'r').read().strip()\n",
    "    grid = [[int(s) for s in row] for row in input_file.split('\\n')]\n",
    "    extended_grid = get_extended_grid(grid,5,5)\n",
    "    \n",
    "        \n",
    "    finalScore1,finalScore2 = find_lowest_cost_path(grid),find_lowest_cost_path(extended_grid)\n",
    "\n",
    "    return [finalScore1,finalScore2]\n",
    "\n",
    "\n",
    "if __name__ == \"__main__\":\n",
    "    test = test()\n",
    "    answers = main()\n",
    "    print(f\"Answer to test-question 1: {test[0]}\")\n",
    "    assert test[0] == 40, \"failed test\"\n",
    "    print(f\"Answer to question 1: {answers[0]}\")\n",
    "    print(f\"Answer to test-question 2: {test[1]}\")\n",
    "    assert test[1] == 315, \"failed test\"\n",
    "    print(f\"Answer to question 2: {answers[1]}\")\n",
    "    #lines = value[0]\n",
    "    #numbers = value[1] "
   ]
  }
 ],
 "metadata": {
  "interpreter": {
   "hash": "2e1823a69ae08de7f81dab555a9afc5cb09ee2871ff1196380c837771cdcbe73"
  },
  "kernelspec": {
   "display_name": "",
   "language": "python",
   "name": "python3"
  },
  "language_info": {
   "codemirror_mode": {
    "name": "ipython",
    "version": 3
   },
   "file_extension": ".py",
   "mimetype": "text/x-python",
   "name": "python",
   "nbconvert_exporter": "python",
   "pygments_lexer": "ipython3",
   "version": "3.8.5"
  },
  "orig_nbformat": 4
 },
 "nbformat": 4,
 "nbformat_minor": 2
}
