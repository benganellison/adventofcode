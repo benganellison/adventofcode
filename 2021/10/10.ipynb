{
 "cells": [
  {
   "cell_type": "code",
   "execution_count": 28,
   "metadata": {},
   "outputs": [
    {
     "name": "stdout",
     "output_type": "stream",
     "text": [
      "Answer to test-question 1: 26397\n",
      "Answer to question 1: 344193\n",
      "Answer to test-question 2: 288957\n",
      "Answer to question 2: 3241238967\n"
     ]
    }
   ],
   "source": [
    "def get_corrupted_commands(commands):\n",
    "    corrupted_values = { \"]\":57,\n",
    "                \"}\":1197,\n",
    "                \">\":25137,\n",
    "                \")\":3}\n",
    "    completing_values = {\"(\":1,\n",
    "                \"[\":2,\n",
    "                \"{\":3,\n",
    "                \"<\":4}\n",
    "    endings_match = { \"]\":\"[\",\n",
    "                \"}\":\"{\",\n",
    "                \">\":\"<\",\n",
    "                \")\":\"(\"}\n",
    "    starts = [\"[\",\"(\",\"{\",\"<\"]\n",
    "    score = 0\n",
    "    compl_scores = []\n",
    "    for command in commands:\n",
    "        corrupted = False\n",
    "        stack = []\n",
    "        for paranthesis in command:\n",
    "            if paranthesis in starts:\n",
    "                stack.append(paranthesis)\n",
    "            elif len(stack) > 0:\n",
    "                matching_cmd = stack.pop()\n",
    "                if not(endings_match[paranthesis] == matching_cmd):\n",
    "                    corrupted = True\n",
    "                    #print(f\"{paranthesis=}, {matching_cmd=}\")\n",
    "                    score += corrupted_values[paranthesis]\n",
    "                    break\n",
    "        else:\n",
    "            i = 0\n",
    "            #print(f\"{stack=}, {command=}\")\n",
    "            while len(stack) > 0:\n",
    "                paranthes = stack.pop()\n",
    "                i *= 5\n",
    "                i += completing_values[paranthes]\n",
    "                #print(f\"{paranthesis=}, {i=}\")\n",
    "\n",
    "            compl_scores.append(i)\n",
    "    compl_scores.sort()\n",
    "    score2 = compl_scores[int(len(compl_scores)/2)]\n",
    "\n",
    "\n",
    "    return [score,score2]\n",
    "            \n",
    "\n",
    "def test():\n",
    "\n",
    "    input_file_name = './test_input.txt'\n",
    "    return main(input_file_name)\n",
    "\n",
    "def main(input_file_name=\"./input.txt\"):\n",
    "\n",
    "    input_file = open(input_file_name, 'r').read().strip().split('\\n')\n",
    "\n",
    "    finalScore1,finalScore2 = get_corrupted_commands(input_file)\n",
    "\n",
    "    return [finalScore1,finalScore2]\n",
    "\n",
    "\n",
    "if __name__ == \"__main__\":\n",
    "    test = test()\n",
    "    answers = main()\n",
    "    print(f\"Answer to test-question 1: {test[0]}\")\n",
    "    assert test[0] == 26397, \"failed test\"\n",
    "    print(f\"Answer to question 1: {answers[0]}\")\n",
    "    print(f\"Answer to test-question 2: {test[1]}\")\n",
    "    assert test[1] == 288957, \"failed test\"\n",
    "    print(f\"Answer to question 2: {answers[1]}\")\n",
    "    #lines = value[0]\n",
    "    #numbers = value[1] "
   ]
  }
 ],
 "metadata": {
  "interpreter": {
   "hash": "2e1823a69ae08de7f81dab555a9afc5cb09ee2871ff1196380c837771cdcbe73"
  },
  "kernelspec": {
   "display_name": "",
   "language": "python",
   "name": "python3"
  },
  "language_info": {
   "codemirror_mode": {
    "name": "ipython",
    "version": 3
   },
   "file_extension": ".py",
   "mimetype": "text/x-python",
   "name": "python",
   "nbconvert_exporter": "python",
   "pygments_lexer": "ipython3",
   "version": "3.8.5"
  },
  "orig_nbformat": 4
 },
 "nbformat": 4,
 "nbformat_minor": 2
}
