{
 "cells": [
  {
   "cell_type": "code",
   "execution_count": 1,
   "metadata": {},
   "outputs": [
    {
     "name": "stdout",
     "output_type": "stream",
     "text": [
      "Answer to question1: 26\n",
      "Answer to question2: 61229\n",
      "Answer to question1: 278\n",
      "Answer to question2: 986179\n"
     ]
    }
   ],
   "source": [
    "def unique_count(patterns):\n",
    "    unique = []\n",
    "    for pattern in patterns:\n",
    "        unique = [*unique, *[unique_pattern for unique_pattern in pattern[\"output\"] if len(unique_pattern) in [2,3,4,7]]]\n",
    "    return len(unique)\n",
    "\n",
    "def alt_unique_count(patterns):\n",
    "    return len([unique_pattern for pattern in patterns for unique_pattern in pattern[\"output\"] if len(unique_pattern) in [2,3,4,7]])\n",
    "\n",
    "def find_all_output_values(patterns):\n",
    "    total = 0\n",
    "    for pattern in patterns:\n",
    "        signal_patterns = pattern[\"pattern\"]\n",
    "        one = ''.join([first_no for first_no in signal_patterns if len(first_no) == 2])\n",
    "        six = ''.join([six for six in signal_patterns if len(six) == 6 and len(set(one).intersection(set(six)))==1])\n",
    "        seven = ''.join([seven for seven in signal_patterns if len(seven) == 3])\n",
    "        four = ''.join([four for four in signal_patterns if len(four) == 4])\n",
    "        three = ''.join([three for three in signal_patterns if len(three) == 5 and len(set(seven) - set(three))==0])\n",
    "        eight = ''.join([eight for eight in signal_patterns if len(eight) == 7])\n",
    "        nine = ''.join([nine for nine in signal_patterns if len(nine) == 6 and len(set(nine)-set(three))== 1])\n",
    "        zero = ''.join([zero for zero in signal_patterns if len(zero) == 6 and set(zero) != set(nine) and set(zero) != set(six)])\n",
    "        two = ''.join([two for two in signal_patterns if len(two) == 5 and set(two) != set(three) and len(set(two) - set(six)) == 1])\n",
    "        five = ''.join([five for five in signal_patterns if len(five) == 5 and set(five) != set(three) and len(set(five) - set(six)) == 0])\n",
    "        segMap = {''.join(sorted(one)):1,''.join(sorted(two)):2,''.join(sorted(three)):3,''.join(sorted(four)):4,''.join(sorted(five)):5,''.join(sorted(six)):6,''.join(sorted(seven)):7,''.join(sorted(eight)):8,''.join(sorted(nine)):9,''.join(sorted(zero)):0}\n",
    "\n",
    "        #print(f\"{one=},{two=},{three=},{four=},{five=},{six=},{seven=},{eight=},{nine=},{zero=}\")\n",
    "        result = ''\n",
    "        for output in pattern[\"output\"]:\n",
    "            result += str(segMap[''.join(sorted(output))])\n",
    "        total += int(result)\n",
    "        #print(f\"{result=}, {str(total)=}\")\n",
    "    return total\n",
    "\n",
    "def main_test():\n",
    "\n",
    "    file1 = open('test_input.txt', 'r') \n",
    "    patterns = [{\"pattern\":line.split('|')[0].strip().split(' '),\"output\":line.split('|')[1].strip().split(' ')} for line in file1.read().strip().split('\\n')]\n",
    "    \n",
    "    finalScore1,finalScore2 = unique_count(patterns),find_all_output_values(patterns)\n",
    "\n",
    "    return [finalScore1,finalScore2]\n",
    "\n",
    "def main():\n",
    "\n",
    "    file1 = open('input.txt', 'r') \n",
    "    patterns = [{\"pattern\":line.split('|')[0].strip().split(' '),\"output\":line.split('|')[1].strip().split(' ')} for line in file1.read().strip().split('\\n')]\n",
    "    \n",
    "    finalScore1,finalScore2 = unique_count(patterns),find_all_output_values(patterns)\n",
    "\n",
    "    return [finalScore1,finalScore2]\n",
    "\n",
    "\n",
    "if __name__ == \"__main__\":\n",
    "    answers = main_test()\n",
    "    print(f\"Answer to question1: {answers[0]}\")\n",
    "    print(f\"Answer to question2: {answers[1]}\")\n",
    "    assert answers[0] == 26, \"failed test\"\n",
    "    assert answers[1] == 61229, \"failed test\"\n",
    "\n",
    "    answers = main()\n",
    "    print(f\"Answer to question1: {answers[0]}\")\n",
    "    print(f\"Answer to question2: {answers[1]}\")\n",
    "    #lines = value[0]\n",
    "    #numbers = value[1] "
   ]
  },
  {
   "cell_type": "code",
   "execution_count": 2,
   "metadata": {},
   "outputs": [],
   "source": [
    "\n",
    "def maping_dicts():\n",
    "    number_to_set = {\"0\":set(\"ABCEFG\"),\n",
    "    \"1\":set(\"CF\"),\n",
    "    \"2\":set(\"ACDEG\"),\n",
    "    \"3\":set(\"ACDFG\"),\n",
    "    \"4\":set(\"BCDF\"),\n",
    "    \"5\":set(\"ABDFG\"),\n",
    "    \"6\":set(\"ABDEFG\"),\n",
    "    \"7\":set(\"ACF\"),\n",
    "    \"8\":set(\"ABCDEFG\"),\n",
    "    \"9\":set(\"ABCDFG\")\n",
    "    }\n",
    "    string_to_number = {\"abcefg\":0,\n",
    "        \"cf\":1,\n",
    "        \"acdeg\":2,\n",
    "        \"acdfg\":3,\n",
    "        \"bcdf\":4,\n",
    "        \"abdfg\":5,\n",
    "        \"abdefg\":6,\n",
    "        \"acf\":7,\n",
    "        \"abcdefg\":8,\n",
    "        \"abcdfg\":9\n",
    "        }"
   ]
  },
  {
   "cell_type": "code",
   "execution_count": null,
   "metadata": {},
   "outputs": [],
   "source": []
  }
 ],
 "metadata": {
  "interpreter": {
   "hash": "2e1823a69ae08de7f81dab555a9afc5cb09ee2871ff1196380c837771cdcbe73"
  },
  "kernelspec": {
   "display_name": "",
   "language": "python",
   "name": "python3"
  },
  "language_info": {
   "codemirror_mode": {
    "name": "ipython",
    "version": 3
   },
   "file_extension": ".py",
   "mimetype": "text/x-python",
   "name": "python",
   "nbconvert_exporter": "python",
   "pygments_lexer": "ipython3",
   "version": "3.8.5"
  },
  "orig_nbformat": 4
 },
 "nbformat": 4,
 "nbformat_minor": 2
}
