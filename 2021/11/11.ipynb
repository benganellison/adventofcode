{
 "cells": [
  {
   "cell_type": "code",
   "execution_count": 38,
   "metadata": {},
   "outputs": [
    {
     "name": "stdout",
     "output_type": "stream",
     "text": [
      "Answer to test-question 1: 1656\n",
      "Answer to question 1: 1599\n",
      "Answer to test-question 2: 195\n",
      "Answer to question 2: 418\n"
     ]
    }
   ],
   "source": [
    "def increase_n(octipuses, row,col):\n",
    "    for r in [-1,0,1]:\n",
    "        for c in [-1,0,1]:\n",
    "            if c == 0 and r == 0:\n",
    "                continue\n",
    "            else:\n",
    "                cc = col + c\n",
    "                rr = row + r\n",
    "                if (cc < 0 or cols <= cc or rr < 0 or rows <= rr):\n",
    "                    continue\n",
    "                octipuses[rr][cc] += 1\n",
    "                if octipuses[rr][cc] == 10:\n",
    "                    increase_n(octipuses,rr,cc)\n",
    "                    \n",
    "def count_flashes(octipuses,itterations=100) -> int:\n",
    "    rows = len(octipuses)\n",
    "    cols = len(octipuses[0])\n",
    "    flashes = 0\n",
    "    i = 0\n",
    "    last_flash = 0\n",
    "    while last_flash != 100:\n",
    "        i += 1\n",
    "        for row in range(rows):\n",
    "            for col in range(cols):\n",
    "                octipuses[row][col] += 1\n",
    "                if octipuses[row][col] == 10:\n",
    "                    increase_n(octipuses,row,col)\n",
    "\n",
    "        octipuses = [[col if col < 10 else 0 for col in row] for row in octipuses]\n",
    "        if itterations == 10:\n",
    "            print('\\n'.join([''.join([str(i) for i in row]) for row in octipuses]))\n",
    "            print([col for row in octipuses for col in row if col == 0])\n",
    "            print(flashes)\n",
    "        last_flash = len([col for row in octipuses for col in row if col == 0])\n",
    "        if i <= itterations:\n",
    "            flashes += last_flash\n",
    "    return [flashes,i]\n",
    "\n",
    "def test():\n",
    "    input_file_name = './test_input.txt'\n",
    "    return main(input_file_name)\n",
    "\n",
    "def main(input_file_name=\"./input.txt\"):\n",
    "\n",
    "    input_file = [[int(s) for s in line] for line in open(input_file_name, 'r').read().strip().split('\\n')]\n",
    "\n",
    "    finalScore1,finalScore2 = count_flashes(input_file,100)\n",
    "\n",
    "    return [finalScore1,finalScore2]\n",
    "\n",
    "\n",
    "if __name__ == \"__main__\":\n",
    "    test = test()\n",
    "    answers = main()\n",
    "    print(f\"Answer to test-question 1: {test[0]}\")\n",
    "    assert test[0] == 1656, \"failed test\"\n",
    "    print(f\"Answer to question 1: {answers[0]}\")\n",
    "    print(f\"Answer to test-question 2: {test[1]}\")\n",
    "    assert test[1] == 195, \"failed test\"\n",
    "    print(f\"Answer to question 2: {answers[1]}\")\n",
    "    #lines = value[0]\n",
    "    #numbers = value[1] "
   ]
  }
 ],
 "metadata": {
  "interpreter": {
   "hash": "2e1823a69ae08de7f81dab555a9afc5cb09ee2871ff1196380c837771cdcbe73"
  },
  "kernelspec": {
   "display_name": "",
   "language": "python",
   "name": "python3"
  },
  "language_info": {
   "codemirror_mode": {
    "name": "ipython",
    "version": 3
   },
   "file_extension": ".py",
   "mimetype": "text/x-python",
   "name": "python",
   "nbconvert_exporter": "python",
   "pygments_lexer": "ipython3",
   "version": "3.8.5"
  },
  "orig_nbformat": 4
 },
 "nbformat": 4,
 "nbformat_minor": 2
}
