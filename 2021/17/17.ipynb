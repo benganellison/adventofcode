{
 "cells": [
  {
   "cell_type": "code",
   "execution_count": 13,
   "metadata": {},
   "outputs": [
    {
     "ename": "KeyboardInterrupt",
     "evalue": "",
     "output_type": "error",
     "traceback": [
      "\u001b[0;31m---------------------------------------------------------------------------\u001b[0m",
      "\u001b[0;31mKeyboardInterrupt\u001b[0m                         Traceback (most recent call last)",
      "\u001b[0;32m/var/folders/t7/znt84zv56xb2lryjnrwpfgvx8zyq90/T/ipykernel_2068/1256082282.py\u001b[0m in \u001b[0;36m<module>\u001b[0;34m\u001b[0m\n\u001b[1;32m     39\u001b[0m \u001b[0;34m\u001b[0m\u001b[0m\n\u001b[1;32m     40\u001b[0m \u001b[0;32mif\u001b[0m \u001b[0m__name__\u001b[0m \u001b[0;34m==\u001b[0m \u001b[0;34m\"__main__\"\u001b[0m\u001b[0;34m:\u001b[0m\u001b[0;34m\u001b[0m\u001b[0;34m\u001b[0m\u001b[0m\n\u001b[0;32m---> 41\u001b[0;31m     \u001b[0manswer\u001b[0m \u001b[0;34m=\u001b[0m \u001b[0mmain\u001b[0m\u001b[0;34m(\u001b[0m\u001b[0;34m)\u001b[0m\u001b[0;34m\u001b[0m\u001b[0;34m\u001b[0m\u001b[0m\n\u001b[0m\u001b[1;32m     42\u001b[0m     \u001b[0mprint\u001b[0m\u001b[0;34m(\u001b[0m\u001b[0;34mf\"Answer to question 1: {answer}\"\u001b[0m\u001b[0;34m)\u001b[0m\u001b[0;34m\u001b[0m\u001b[0;34m\u001b[0m\u001b[0m\n",
      "\u001b[0;32m/var/folders/t7/znt84zv56xb2lryjnrwpfgvx8zyq90/T/ipykernel_2068/1256082282.py\u001b[0m in \u001b[0;36mmain\u001b[0;34m(input_file_name)\u001b[0m\n\u001b[1;32m     30\u001b[0m     \u001b[0;32mfor\u001b[0m \u001b[0mx_velocity\u001b[0m \u001b[0;32min\u001b[0m \u001b[0mrange\u001b[0m\u001b[0;34m(\u001b[0m\u001b[0;34m-\u001b[0m\u001b[0;36m100\u001b[0m\u001b[0;34m,\u001b[0m \u001b[0;36m100\u001b[0m\u001b[0;34m)\u001b[0m\u001b[0;34m:\u001b[0m\u001b[0;34m\u001b[0m\u001b[0;34m\u001b[0m\u001b[0m\n\u001b[1;32m     31\u001b[0m         \u001b[0;32mfor\u001b[0m \u001b[0my_velocity\u001b[0m \u001b[0;32min\u001b[0m \u001b[0mrange\u001b[0m\u001b[0;34m(\u001b[0m\u001b[0;34m-\u001b[0m\u001b[0;36m100\u001b[0m\u001b[0;34m,\u001b[0m \u001b[0;36m100\u001b[0m\u001b[0;34m)\u001b[0m\u001b[0;34m:\u001b[0m\u001b[0;34m\u001b[0m\u001b[0;34m\u001b[0m\u001b[0m\n\u001b[0;32m---> 32\u001b[0;31m             \u001b[0mresult\u001b[0m \u001b[0;34m=\u001b[0m \u001b[0msimulate_probe\u001b[0m\u001b[0;34m(\u001b[0m\u001b[0mx_velocity\u001b[0m\u001b[0;34m,\u001b[0m \u001b[0my_velocity\u001b[0m\u001b[0;34m)\u001b[0m\u001b[0;34m\u001b[0m\u001b[0;34m\u001b[0m\u001b[0m\n\u001b[0m\u001b[1;32m     33\u001b[0m             \u001b[0;32mif\u001b[0m \u001b[0mresult\u001b[0m\u001b[0;34m:\u001b[0m\u001b[0;34m\u001b[0m\u001b[0;34m\u001b[0m\u001b[0m\n\u001b[1;32m     34\u001b[0m                 \u001b[0mresults\u001b[0m\u001b[0;34m.\u001b[0m\u001b[0mappend\u001b[0m\u001b[0;34m(\u001b[0m\u001b[0mresult\u001b[0m\u001b[0;34m)\u001b[0m\u001b[0;34m\u001b[0m\u001b[0;34m\u001b[0m\u001b[0m\n",
      "\u001b[0;32m/var/folders/t7/znt84zv56xb2lryjnrwpfgvx8zyq90/T/ipykernel_2068/1256082282.py\u001b[0m in \u001b[0;36msimulate_probe\u001b[0;34m(x_velocity, y_velocity)\u001b[0m\n\u001b[1;32m     20\u001b[0m \u001b[0;34m\u001b[0m\u001b[0m\n\u001b[1;32m     21\u001b[0m             \u001b[0;31m# Due to gravity, the probe's y velocity decreases by 1\u001b[0m\u001b[0;34m\u001b[0m\u001b[0;34m\u001b[0m\u001b[0;34m\u001b[0m\u001b[0m\n\u001b[0;32m---> 22\u001b[0;31m             \u001b[0my_velocity\u001b[0m \u001b[0;34m-=\u001b[0m \u001b[0;36m1\u001b[0m\u001b[0;34m\u001b[0m\u001b[0;34m\u001b[0m\u001b[0m\n\u001b[0m\u001b[1;32m     23\u001b[0m \u001b[0;34m\u001b[0m\u001b[0m\n\u001b[1;32m     24\u001b[0m             \u001b[0;31m# If the probe's x and y positions are within the target area, we return the maximum value of y that the probe reached\u001b[0m\u001b[0;34m\u001b[0m\u001b[0;34m\u001b[0m\u001b[0;34m\u001b[0m\u001b[0m\n",
      "\u001b[0;31mKeyboardInterrupt\u001b[0m: "
     ]
    }
   ],
   "source": [
    "def main(input_file_name=\"./input.txt\"):\n",
    "    # Define a function to simulate the probe's trajectory given initial x and y velocities\n",
    "    def simulate_probe(x_velocity, y_velocity):\n",
    "        x = 0\n",
    "        y = 0\n",
    "        max_y = 0\n",
    "        while True:\n",
    "            x += x_velocity\n",
    "            y += y_velocity\n",
    "\n",
    "            # Update the maximum value of y that the probe reached\n",
    "            if y > max_y:\n",
    "                max_y = y\n",
    "\n",
    "            # Due to drag, the probe's x velocity changes by 1 toward the value 0\n",
    "            if x_velocity > 0:\n",
    "                x_velocity -= 1\n",
    "            elif x_velocity < 0:\n",
    "                x_velocity += 1\n",
    "\n",
    "            # Due to gravity, the probe's y velocity decreases by 1\n",
    "            y_velocity -= 1\n",
    "\n",
    "            # If the probe's x and y positions are within the target area, we return the maximum value of y that the probe reached\n",
    "            if x >= 79 and x <= 137 and y >= -176 and y <= -117:\n",
    "                return max_y\n",
    "\n",
    "    # Generate initial velocities for the probe within a certain range\n",
    "    results = []\n",
    "    for x_velocity in range(-1000, 1000):\n",
    "        for y_velocity in range(-117, 1000):\n",
    "            result = simulate_probe(x_velocity, y_velocity)\n",
    "            if result:\n",
    "                results.append(result)\n",
    "\n",
    "    # Return the maximum value of y for a velocity that is within bounds\n",
    "    return max([result for result in results])\n",
    "\n",
    "\n",
    "if __name__ == \"__main__\":\n",
    "    answer = main()\n",
    "    print(f\"Answer to question 1: {answer}\")\n"
   ]
  },
  {
   "cell_type": "code",
   "execution_count": 12,
   "metadata": {},
   "outputs": [
    {
     "data": {
      "text/plain": [
       "299"
      ]
     },
     "execution_count": 12,
     "metadata": {},
     "output_type": "execute_result"
    }
   ],
   "source": [
    "max([10,299,23])"
   ]
  }
 ],
 "metadata": {
  "kernelspec": {
   "display_name": "Python 3",
   "language": "python",
   "name": "python3"
  },
  "language_info": {
   "codemirror_mode": {
    "name": "ipython",
    "version": 3
   },
   "file_extension": ".py",
   "mimetype": "text/x-python",
   "name": "python",
   "nbconvert_exporter": "python",
   "pygments_lexer": "ipython3",
   "version": "3.8.5"
  },
  "orig_nbformat": 4,
  "vscode": {
   "interpreter": {
    "hash": "5415b9d44a83596a578cfb4ce47e4e7298b61ea7f6d29325a3674d16bda1efb2"
   }
  }
 },
 "nbformat": 4,
 "nbformat_minor": 2
}
