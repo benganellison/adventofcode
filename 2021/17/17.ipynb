{
 "cells": [
  {
   "cell_type": "code",
   "execution_count": null,
   "metadata": {},
   "outputs": [],
   "source": [
    "def main(input_file_name=\"./input.txt\"):\n",
    "    # Define a function to simulate the probe's trajectory given initial x and y velocities\n",
    "    def simulate_probe(x_velocity, y_velocity):\n",
    "        x = 0\n",
    "        y = 0\n",
    "        max_y = 0\n",
    "        while True:\n",
    "            x += x_velocity\n",
    "            y += y_velocity\n",
    "\n",
    "            # Update the maximum value of y that the probe reached\n",
    "            if y > max_y:\n",
    "                max_y = y\n",
    "\n",
    "            # Due to drag, the probe's x velocity changes by 1 toward the value 0\n",
    "            if x_velocity > 0:\n",
    "                x_velocity -= 1\n",
    "            elif x_velocity < 0:\n",
    "                x_velocity += 1\n",
    "\n",
    "            # Due to gravity, the probe's y velocity decreases by 1\n",
    "            y_velocity -= 1\n",
    "\n",
    "            # If the probe's x and y positions are within the target area, we return the maximum value of y that the probe reached\n",
    "            if x >= 79 and x <= 137 and y >= -176 and y <= -117:\n",
    "                return max_y\n",
    "\n",
    "    # Define an estimated cost function for the A* search algorithm\n",
    "    def cost_function(x_velocity, y_velocity):\n",
    "        # Estimate the cost as the distance from the target area, with a higher cost for larger velocities\n",
    "        cost = abs(x_velocity - 0) + abs(y_velocity - 0) + abs(x_velocity) + abs(y_velocity)\n",
    "        return cost\n",
    "\n",
    "    # Define a function that uses the A* search algorithm to find the maximum value of y for a velocity that is within bounds\n",
    "    def a_star_search(x_velocity, y_velocity, visited):\n",
    "        # If the current x and y velocities are already in the visited set, return\n",
    "        if (x_velocity, y_velocity) in visited:\n",
    "            return\n",
    "\n",
    "        # Add the current x and y velocities to the visited set\n",
    "        visited.add((x_velocity, y_velocity))\n",
    "\n",
    "        # If the probe's x or y position goes out of bounds, return\n",
    "        if x_velocity < -20 or x_velocity > 20 or y_velocity < -20 or y_velocity > 20:\n",
    "            return\n",
    "\n",
    "        # Use the simulate_probe function to simulate the probe's trajectory and get the maximum value of y that the probe reached\n",
    "        result = simulate_probe(x_velocity, y_velocity)\n",
    "\n",
    "        # If the maximum value of y is greater than the current maximum, update the maximum\n",
    "        if result:\n",
    "            global max_y\n",
    "            if result > max_y:\n",
    "                max_y = result\n",
    "\n",
    "        # Recursively call the a_star_search function for the neighboring x and y velocities with the updated visited set\n",
    "        a_star_search(x_velocity + 1, y_velocity, visited)\n",
    "        a_star_search(x_velocity - 1, y_velocity, visited)\n",
    "\n",
    "    # Return the maximum value of y for a velocity that is within bounds\n",
    "    return max([result for result in results])\n",
    "\n",
    "\n",
    "if __name__ == \"__main__\":\n",
    "    answer = main()\n",
    "    print(f\"Answer to question 1: {answer}\")\n"
   ]
  },
  {
   "cell_type": "code",
   "execution_count": null,
   "metadata": {},
   "outputs": [],
   "source": [
    "max([10,299,23])"
   ]
  }
 ],
 "metadata": {
  "kernelspec": {
   "display_name": "Python 3",
   "language": "python",
   "name": "python3"
  },
  "language_info": {
   "codemirror_mode": {
    "name": "ipython",
    "version": 3
   },
   "file_extension": ".py",
   "mimetype": "text/x-python",
   "name": "python",
   "nbconvert_exporter": "python",
   "pygments_lexer": "ipython3",
   "version": "3.8.5 (default, Sep 29 2020, 08:52:54) \n[Clang 11.0.3 (clang-1103.0.32.59)]"
  },
  "orig_nbformat": 4,
  "vscode": {
   "interpreter": {
    "hash": "5415b9d44a83596a578cfb4ce47e4e7298b61ea7f6d29325a3674d16bda1efb2"
   }
  }
 },
 "nbformat": 4,
 "nbformat_minor": 2
}
