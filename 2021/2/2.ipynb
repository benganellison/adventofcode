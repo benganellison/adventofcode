{
 "cells": [
  {
   "cell_type": "code",
   "execution_count": null,
   "metadata": {},
   "outputs": [],
   "source": [
    "import math\n",
    "\n",
    "def mapPosition(commands):\n",
    "    myPosition = [0,0]\n",
    "    myAdvancedPosition = [0,0]\n",
    "    myAim = 0\n",
    "    for command in commands:\n",
    "        if \"up\" in command:\n",
    "            myPosition[1] -= command[\"up\"]\n",
    "            myAim -= command[\"up\"]\n",
    "        elif \"down\" in command:\n",
    "            myPosition[1] += command[\"down\"]\n",
    "            myAim += command[\"down\"]\n",
    "        elif \"forward\" in command:\n",
    "            myPosition[0] += command[\"forward\"]\n",
    "            myAdvancedPosition[0] += command[\"forward\"]\n",
    "            myAdvancedPosition[1] += myAim*command[\"forward\"]\n",
    "    return(myPosition,myAdvancedPosition)\n",
    "\n",
    "def main():\n",
    "\n",
    "    file1 = open('input.txt', 'r') \n",
    "    commands = [{x.split(' ')[0]:int(x.split(' ')[1])} for x in file1.read().split('\\n')]\n",
    "    myPos,myRealPos = mapPosition(commands)\n",
    "    file1.close()\n",
    "    return [math.prod(myPos),math.prod(myRealPos)]\n",
    "\n",
    "\n",
    "if __name__ == \"__main__\":\n",
    "    answers = main()\n",
    "    print(f\"Answer to question1: {answers[0]}\")\n",
    "    print(f\"Answer to question2: {answers[1]}\")\n",
    "    #lines = value[0]\n",
    "    #numbers = value[1] "
   ]
  },
  {
   "cell_type": "code",
   "execution_count": null,
   "metadata": {},
   "outputs": [],
   "source": [
    "\n",
    "def main():\n",
    "\n",
    "    file1 = open('test_input.txt', 'r') \n",
    "    commands = [{x.split(' ')[0]:int(x.split(' ')[1])} for x in file1.read().split('\\n')]\n",
    "    myPos,myRealPos = mapPosition(commands)\n",
    "    file1.close()\n",
    "    return [math.prod(myPos),math.prod(myRealPos)]\n",
    "\n",
    "\n",
    "if __name__ == \"__main__\":\n",
    "    answers = main()\n",
    "    print(f\"Answer to question1: {answers[0]}\")\n",
    "    print(f\"Answer to question2: {answers[1]}\")\n",
    "    #lines = value[0]\n",
    "    #numbers = value[1] "
   ]
  }
 ],
 "metadata": {
  "interpreter": {
   "hash": "2e1823a69ae08de7f81dab555a9afc5cb09ee2871ff1196380c837771cdcbe73"
  },
  "kernelspec": {
   "display_name": "Python 3.8.5 64-bit",
   "language": "python",
   "name": "python3"
  },
  "language_info": {
   "codemirror_mode": {
    "name": "ipython",
    "version": 3
   },
   "file_extension": ".py",
   "mimetype": "text/x-python",
   "name": "python",
   "nbconvert_exporter": "python",
   "pygments_lexer": "ipython3",
   "version": "3.8.5"
  },
  "orig_nbformat": 4
 },
 "nbformat": 4,
 "nbformat_minor": 2
}
