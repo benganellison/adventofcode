{
 "cells": [
  {
   "cell_type": "code",
   "execution_count": 13,
   "metadata": {},
   "outputs": [
    {
     "name": "stdout",
     "output_type": "stream",
     "text": [
      "Inital state: 3:58,5:54,1:83,4:54,2:51\n",
      "After 80 days: 0:25532,2:31998,4:42341,6:57495,8:33243,1:42594,3:47322,5:47270,7:23297\n",
      "Inital state: 3:58,5:54,1:83,4:54,2:51\n",
      "After 256 days: 6:252082120574,8:137604155253,1:162039539115,3:188187916968,5:218720012046,7:117783213814,0:140304164138,2:170391060831,4:208218433266\n",
      "Answer to question1: 351092\n",
      "Answer to question2: 1595330616005\n"
     ]
    }
   ],
   "source": [
    "import copy\n",
    "from collections import defaultdict\n",
    "\n",
    "def evalFishAdges(fishes, days):\n",
    "    clockValues = defaultdict(int)\n",
    "    fishes = copy.deepcopy(fishes)\n",
    "    for fish in fishes:\n",
    "        clockValues[fish] += 1\n",
    "    print(f\"Inital state: {','.join(str(k)+':'+str(v) for k,v in clockValues.items())}\") \n",
    "    for day in range(days):\n",
    "        new_clockValues = defaultdict(int)\n",
    "        for key in clockValues:\n",
    "            if key == 0:\n",
    "                new_clockValues[6] += clockValues[key]\n",
    "                new_clockValues[8] = clockValues[key]\n",
    "            else:\n",
    "                new_clockValues[key-1] += clockValues[key]\n",
    "        clockValues = new_clockValues\n",
    "        #print(f\"After {str(day+1).rjust(2)} days: {','.join(str(k)+':'+str(v) for k,v in freq.items())}\") \n",
    "    \n",
    "    print(f\"After {str(day+1).rjust(2)} days: {','.join(str(k)+':'+str(v) for k,v in clockValues.items())}\")\n",
    "    ans = 0\n",
    "    for key, val in clockValues.items():\n",
    "        ans += val \n",
    "    return ans  \n",
    "                \n",
    "\n",
    "def main():\n",
    "\n",
    "    file1 = open('input.txt', 'r') \n",
    "    fishes = [int(s) for s in file1.read().strip().split(',')]\n",
    "    \n",
    "    finalScore1,finalScore2 = evalFishAdges(fishes, 80),evalFishAdges(fishes, 256)\n",
    "\n",
    "    return [finalScore1,finalScore2]\n",
    "\n",
    "\n",
    "if __name__ == \"__main__\":\n",
    "    answers = main()\n",
    "    print(f\"Answer to question1: {answers[0]}\")\n",
    "    print(f\"Answer to question2: {answers[1]}\")\n",
    "    #lines = value[0]\n",
    "    #numbers = value[1] "
   ]
  },
  {
   "cell_type": "code",
   "execution_count": 14,
   "metadata": {},
   "outputs": [
    {
     "name": "stdout",
     "output_type": "stream",
     "text": [
      "Inital state: 3:2,4:1,1:1,2:1\n",
      "After 80 days: 0:424,2:558,4:739,6:991,8:571,1:729,3:790,5:762,7:370\n",
      "Inital state: 3:2,4:1,1:1,2:1\n",
      "After 256 days: 6:4275812629,8:2329711392,1:2731163883,3:3164316379,5:3681986557,7:1985489551,0:2376852196,2:2897294544,4:3541830408\n",
      "Answer to question1: 5934\n",
      "Answer to question2: 26984457539\n"
     ]
    }
   ],
   "source": [
    "import copy\n",
    "from collections import defaultdict\n",
    "\n",
    "def evalFishAdges(fishes, days):\n",
    "    clockValues = defaultdict(int)\n",
    "    fishes = copy.deepcopy(fishes)\n",
    "    for fish in fishes:\n",
    "        clockValues[fish] += 1\n",
    "    print(f\"Inital state: {','.join(str(k)+':'+str(v) for k,v in clockValues.items())}\") \n",
    "    for day in range(days):\n",
    "        new_clockValues = defaultdict(int)\n",
    "        for key in clockValues:\n",
    "            if key == 0:\n",
    "                new_clockValues[6] += clockValues[key]\n",
    "                new_clockValues[8] = clockValues[key]\n",
    "            else:\n",
    "                new_clockValues[key-1] += clockValues[key]\n",
    "        clockValues = new_clockValues\n",
    "        #print(f\"After {str(day+1).rjust(2)} days: {','.join(str(k)+':'+str(v) for k,v in freq.items())}\") \n",
    "    \n",
    "    print(f\"After {str(day+1).rjust(2)} days: {','.join(str(k)+':'+str(v) for k,v in clockValues.items())}\")\n",
    "    ans = 0\n",
    "    for key, val in clockValues.items():\n",
    "        ans += val \n",
    "    return ans\n",
    "                \n",
    "\n",
    "def main():\n",
    "\n",
    "    file1 = open('test_input.txt', 'r') \n",
    "    fishes = [int(s) for s in file1.read().strip().split(',')]\n",
    "    \n",
    "    finalScore1,finalScore2 = evalFishAdges(fishes, 80),evalFishAdges(fishes, 256)\n",
    "\n",
    "    return [finalScore1,finalScore2]\n",
    "\n",
    "\n",
    "if __name__ == \"__main__\":\n",
    "    answers = main()\n",
    "    print(f\"Answer to question1: {answers[0]}\")\n",
    "    print(f\"Answer to question2: {answers[1]}\")\n",
    "    #lines = value[0]\n",
    "    #numbers = value[1] "
   ]
  }
 ],
 "metadata": {
  "interpreter": {
   "hash": "2e1823a69ae08de7f81dab555a9afc5cb09ee2871ff1196380c837771cdcbe73"
  },
  "kernelspec": {
   "display_name": "Python 3.8.5 64-bit",
   "language": "python",
   "name": "python3"
  },
  "language_info": {
   "codemirror_mode": {
    "name": "ipython",
    "version": 3
   },
   "file_extension": ".py",
   "mimetype": "text/x-python",
   "name": "python",
   "nbconvert_exporter": "python",
   "pygments_lexer": "ipython3",
   "version": "3.8.5"
  },
  "orig_nbformat": 4
 },
 "nbformat": 4,
 "nbformat_minor": 2
}
