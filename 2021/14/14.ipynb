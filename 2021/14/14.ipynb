{
 "cells": [
  {
   "cell_type": "code",
   "execution_count": 60,
   "metadata": {},
   "outputs": [],
   "source": [
    "from collections import defaultdict\n",
    "import pprint as pp"
   ]
  },
  {
   "cell_type": "code",
   "execution_count": 12,
   "metadata": {},
   "outputs": [
    {
     "name": "stdout",
     "output_type": "stream",
     "text": [
      "Answer to test-question 1: 1588\n",
      "Answer to question 1: 5656\n",
      "Answer to test-question 2: \n",
      "2188189693529\n",
      "Answer to question 2: \n",
      "12271437788530\n"
     ]
    }
   ],
   "source": [
    "\n",
    "def insert_polymer(template, pair_insertion_rules) -> str:\n",
    "    new_string = \"\"\n",
    "    for i in range(len(template)-1):\n",
    "        new_string += template[i] + pair_insertion_rules[template[i]+template[i+1]]\n",
    "    return new_string + template[-1:]\n",
    "\n",
    "def insert_x_polymer(template, pair_insertion_rules, x_times) -> str:\n",
    "    polymer = template\n",
    "    for i in range(x_times):\n",
    "        polymer = insert_polymer(polymer, pair_insertion_rules)\n",
    "    return polymer\n",
    "    \n",
    "def find_score_for_polymer(template, pair_insertion_rules, x_times) -> int:\n",
    "    polymer = insert_x_polymer(template, pair_insertion_rules, x_times)\n",
    "    freq = {}\n",
    "    for s in polymer:\n",
    "        if s in freq:\n",
    "            freq[s] += 1\n",
    "        else:\n",
    "            freq[s] = 1\n",
    "    return max(freq.values()) - min(freq.values())\n",
    "\n",
    "def find_solution_2(template, pair_insertion_rules, x_times) -> int:\n",
    "    pairs = {}\n",
    "    for i in range(len(template)-1):\n",
    "        pair = template[i]+template[i+1]\n",
    "        if pair in pairs:\n",
    "            pairs[pair] += 1\n",
    "        else:\n",
    "            pairs[pair]  = 1\n",
    "    pairs\n",
    "    for i in range(x_times):\n",
    "        new_pairs = {}\n",
    "        for pair, freq in pairs.items():\n",
    "            start_pair = pair[0]+pair_insertion_rules[pair]\n",
    "            end_pair = pair_insertion_rules[pair]+pair[1]\n",
    "            if start_pair in new_pairs:\n",
    "                new_pairs[start_pair] += freq\n",
    "            else:\n",
    "                new_pairs[start_pair] = freq\n",
    "            if end_pair in new_pairs:\n",
    "                new_pairs[end_pair] += freq\n",
    "            else:\n",
    "                new_pairs[end_pair] = freq\n",
    "        pairs = new_pairs\n",
    "    pairs\n",
    "    freq = {}\n",
    "    for pair, i in pairs.items():\n",
    "        if pair[0] in freq:\n",
    "            freq[pair[0]] += i\n",
    "        else:\n",
    "            freq[pair[0]] = i\n",
    "        if pair[1] in freq:\n",
    "            freq[pair[1]] += i\n",
    "        else:\n",
    "            freq[pair[1]] = i\n",
    "    freq[template[:1]] += 1\n",
    "    freq[template[-1:]] += 1\n",
    "    return int(max(freq.values())/2 - min(freq.values())/2)\n",
    "\n",
    "def test():\n",
    "    input_file_name = './test_input.txt'\n",
    "    return main(input_file_name)\n",
    "\n",
    "def main(input_file_name=\"./input.txt\"):\n",
    "\n",
    "    input_file = open(input_file_name, 'r').read().strip()\n",
    "    template = input_file.split('\\n\\n')[0]\n",
    "\n",
    "    pair_insertion_rules = {rule.split(' -> ')[0]:rule.split(' -> ')[1] for rule in input_file.split('\\n\\n')[1].split('\\n')}\n",
    "    \n",
    "    #print(pair_insertion_rules)\n",
    "        \n",
    "    finalScore1,finalScore2 = find_score_for_polymer(template, pair_insertion_rules,10),find_solution_2(template, pair_insertion_rules,40)\n",
    "\n",
    "    return [finalScore1,finalScore2]\n",
    "\n",
    "\n",
    "if __name__ == \"__main__\":\n",
    "    test = test()\n",
    "    answers = main()\n",
    "    print(f\"Answer to test-question 1: {test[0]}\")\n",
    "    assert test[0] == 1588, \"failed test\"\n",
    "    print(f\"Answer to question 1: {answers[0]}\")\n",
    "    print(f\"Answer to test-question 2: \\n{test[1]}\")\n",
    "    assert test[1] == 2188189693529, \"failed test\"\n",
    "    print(f\"Answer to question 2: \\n{answers[1]}\")\n",
    "    #lines = value[0]\n",
    "    #numbers = value[1] "
   ]
  },
  {
   "cell_type": "code",
   "execution_count": 9,
   "metadata": {},
   "outputs": [
    {
     "data": {
      "text/plain": [
       "2188189693529"
      ]
     },
     "execution_count": 9,
     "metadata": {},
     "output_type": "execute_result"
    }
   ],
   "source": [
    "    input_file_name = \"test_input.txt\"\n",
    "    input_file = open(input_file_name, 'r').read().strip()\n",
    "    template = input_file.split('\\n\\n')[0]\n",
    "\n",
    "    pair_insertion_rules = {rule.split(' -> ')[0]:rule.split(' -> ')[1] for rule in input_file.split('\\n\\n')[1].split('\\n')}\n",
    "\n"
   ]
  }
 ],
 "metadata": {
  "interpreter": {
   "hash": "2e1823a69ae08de7f81dab555a9afc5cb09ee2871ff1196380c837771cdcbe73"
  },
  "kernelspec": {
   "display_name": "",
   "language": "python",
   "name": "python3"
  },
  "language_info": {
   "codemirror_mode": {
    "name": "ipython",
    "version": 3
   },
   "file_extension": ".py",
   "mimetype": "text/x-python",
   "name": "python",
   "nbconvert_exporter": "python",
   "pygments_lexer": "ipython3",
   "version": "3.8.5"
  },
  "orig_nbformat": 4
 },
 "nbformat": 4,
 "nbformat_minor": 2
}
