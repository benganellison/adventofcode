{
 "cells": [
  {
   "cell_type": "code",
   "execution_count": null,
   "metadata": {},
   "outputs": [],
   "source": [
    "from collections import defaultdict\n"
   ]
  },
  {
   "cell_type": "code",
   "execution_count": 27,
   "metadata": {},
   "outputs": [
    {
     "name": "stdout",
     "output_type": "stream",
     "text": [
      "Answer to test-question 1: 226\n",
      "Answer to question 1: 3497\n",
      "Answer to test-question 2: 3509\n",
      "Answer to question 2: 93686\n"
     ]
    }
   ],
   "source": [
    "def is_small(cave):\n",
    "    return cave.islower()\n",
    "\n",
    "def search_cave_1(cave=\"start\"):\n",
    "    val = 0\n",
    "    if cave == \"end\":\n",
    "        return 1\n",
    "\n",
    "    if is_small(cave) and cave in visited:\n",
    "        return 0\n",
    "\n",
    "    if is_small(cave):\n",
    "        visited.add(cave)\n",
    "\n",
    "    for adj_cave in caves[cave]:\n",
    "        val += search_cave_1(adj_cave)\n",
    "    \n",
    "    if cave in visited:\n",
    "        visited.remove(cave)\n",
    "\n",
    "    return val\n",
    "\n",
    "def search_cave_2(cave=\"start\"):\n",
    "    val = 0\n",
    "    if cave == \"end\":\n",
    "        return 1\n",
    "\n",
    "    if is_small(cave):\n",
    "        if cave in visited_2 and visited_2[cave] > 1:\n",
    "            return 0\n",
    "        elif cave in visited_2 and visited_2[cave] > 0 and max(list(visited_2.values())) > 1:\n",
    "            return 0\n",
    "\n",
    "    if is_small(cave):\n",
    "        if cave in visited_2:\n",
    "            visited_2[cave] += 1\n",
    "        else:\n",
    "            visited_2[cave] = 1\n",
    "\n",
    "    for adj_cave in caves[cave]:\n",
    "        if adj_cave == \"start\":\n",
    "            continue\n",
    "        val += search_cave_2(adj_cave)\n",
    "    \n",
    "    if cave in visited_2 and visited_2[cave] > 0:\n",
    "        visited_2[cave] -= 1\n",
    "\n",
    "    return val\n",
    "\n",
    "\n",
    "def test():\n",
    "    input_file_name = './test_input.txt'\n",
    "    return main(input_file_name)\n",
    "\n",
    "def main(input_file_name=\"./input.txt\"):\n",
    "\n",
    "    pairs = [line.split('-') for line in open(input_file_name, 'r').read().strip().split('\\n')]\n",
    "    global caves\n",
    "    caves = defaultdict(list)\n",
    "    for a,b in pairs:\n",
    "        caves[a].append(b)\n",
    "        caves[b].append(a)\n",
    "    global visited\n",
    "    global visited_2\n",
    "    visited = set()\n",
    "    visited_2 = {}\n",
    "    finalScore1,finalScore2 = search_cave_1(\"start\"),search_cave_2(\"start\")\n",
    "\n",
    "    return [finalScore1,finalScore2]\n",
    "\n",
    "\n",
    "if __name__ == \"__main__\":\n",
    "    test = test()\n",
    "    answers = main()\n",
    "    print(f\"Answer to test-question 1: {test[0]}\")\n",
    "    assert test[0] == 226, \"failed test\"\n",
    "    print(f\"Answer to question 1: {answers[0]}\")\n",
    "    print(f\"Answer to test-question 2: {test[1]}\")\n",
    "    assert test[1] == 3509, \"failed test\"\n",
    "    print(f\"Answer to question 2: {answers[1]}\")\n",
    "    #lines = value[0]\n",
    "    #numbers = value[1] "
   ]
  },
  {
   "cell_type": "code",
   "execution_count": 25,
   "metadata": {},
   "outputs": [
    {
     "data": {
      "text/plain": [
       "0"
      ]
     },
     "execution_count": 25,
     "metadata": {},
     "output_type": "execute_result"
    }
   ],
   "source": [
    "\n",
    "            \n",
    "            "
   ]
  }
 ],
 "metadata": {
  "interpreter": {
   "hash": "2e1823a69ae08de7f81dab555a9afc5cb09ee2871ff1196380c837771cdcbe73"
  },
  "kernelspec": {
   "display_name": "",
   "language": "python",
   "name": "python3"
  },
  "language_info": {
   "codemirror_mode": {
    "name": "ipython",
    "version": 3
   },
   "file_extension": ".py",
   "mimetype": "text/x-python",
   "name": "python",
   "nbconvert_exporter": "python",
   "pygments_lexer": "ipython3",
   "version": "3.8.5"
  },
  "orig_nbformat": 4
 },
 "nbformat": 4,
 "nbformat_minor": 2
}
