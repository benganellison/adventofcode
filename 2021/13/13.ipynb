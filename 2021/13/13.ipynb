{
 "cells": [
  {
   "cell_type": "code",
   "execution_count": 60,
   "metadata": {},
   "outputs": [],
   "source": [
    "from collections import defaultdict\n",
    "import pprint as pp"
   ]
  },
  {
   "cell_type": "code",
   "execution_count": 70,
   "metadata": {},
   "outputs": [
    {
     "name": "stdout",
     "output_type": "stream",
     "text": [
      "Answer to test-question 1: 17\n",
      "Answer to question 1: 743\n",
      "Answer to test-question 2: \n",
      "#####\n",
      "#   #\n",
      "#   #\n",
      "#   #\n",
      "#####\n",
      "     \n",
      "     \n",
      "Answer to question 2: \n",
      "###   ##  ###  #     ##  #  # #  # #    \n",
      "#  # #  # #  # #    #  # # #  #  # #    \n",
      "#  # #    #  # #    #  # ##   #### #    \n",
      "###  #    ###  #    #### # #  #  # #    \n",
      "# #  #  # #    #    #  # # #  #  # #    \n",
      "#  #  ##  #    #### #  # #  # #  # #### \n"
     ]
    }
   ],
   "source": [
    "def fold_y(paper, fold_at):\n",
    "    rows = len(paper)\n",
    "    cols = len(paper[0])\n",
    "    for y in range(fold_at):\n",
    "        y2 = fold_at*2 - y\n",
    "        for x in range(cols):\n",
    "            if paper[y][x] == '#' or paper[y2][x] == '#':\n",
    "                paper[y][x] = '#'\n",
    "    return paper[:fold_at]\n",
    "\n",
    "def fold_x(paper, fold_at):\n",
    "    rows = len(paper)\n",
    "    cols = len(paper[0])\n",
    "    for y in range(rows):\n",
    "        for x in range(fold_at):\n",
    "            x2 = fold_at*2 - x\n",
    "            if paper[y][x] == '#' or paper[y][x2] == '#':\n",
    "                paper[y][x] = '#'\n",
    "    return [folded[:fold_at] for folded in paper]\n",
    "\n",
    "def fold_paper(paper, fold_instructions, maxfolds=0):\n",
    "    if maxfolds == 0:\n",
    "        maxfolds = len(fold_instructions)+1\n",
    "    q1 = 0\n",
    "    for i,instruction in enumerate(fold_instructions):\n",
    "        if instruction[0] == 'y':\n",
    "            paper = fold_y(paper,instruction[1])\n",
    "        else:\n",
    "            paper = fold_x(paper,instruction[1])\n",
    "        if i == maxfolds-1:\n",
    "            q1 = len([s for row in paper for s in row if s == '#'])\n",
    "    paper = [[s if s == \"#\" else \" \" for s in row] for row in paper]\n",
    "    q2 = '\\n'.join([''.join(row) for row in paper])\n",
    "    return q1,q2\n",
    "\n",
    "def test():\n",
    "    input_file_name = './test_input.txt'\n",
    "    return main(input_file_name)\n",
    "\n",
    "def main(input_file_name=\"./input.txt\"):\n",
    "\n",
    "    input_file = open(input_file_name, 'r').read().strip()\n",
    "    manual = [[int(i) for i in line.split(',')] for line in input_file.split('\\n\\n')[0].split('\\n')]\n",
    "\n",
    "    fold_instructions = [tuple([line.split('along ')[1].split('=')[0],int(line.split('along ')[1].split('=')[1])]) for line in input_file.split('\\n\\n')[1].split('\\n')]\n",
    "\n",
    "    rows = max([vals[1] for vals in manual])+1\n",
    "    cols = max([vals[0] for vals in manual])+1\n",
    "\n",
    "    #print(rows,cols)\n",
    "    paper = []\n",
    "    for y in range(rows):\n",
    "        paper.append(['.']*cols)\n",
    "    for x,y in manual:\n",
    "        paper[y][x] = '#'\n",
    "        \n",
    "    finalScore1,finalScore2 = fold_paper(paper,fold_instructions,1)\n",
    "\n",
    "    return [finalScore1,finalScore2]\n",
    "\n",
    "\n",
    "if __name__ == \"__main__\":\n",
    "    test = test()\n",
    "    answers = main()\n",
    "    print(f\"Answer to test-question 1: {test[0]}\")\n",
    "    assert test[0] == 17, \"failed test\"\n",
    "    print(f\"Answer to question 1: {answers[0]}\")\n",
    "    print(f\"Answer to test-question 2: \\n{test[1]}\")\n",
    "    print(f\"Answer to question 2: \\n{answers[1]}\")\n",
    "    #lines = value[0]\n",
    "    #numbers = value[1] "
   ]
  }
 ],
 "metadata": {
  "interpreter": {
   "hash": "2e1823a69ae08de7f81dab555a9afc5cb09ee2871ff1196380c837771cdcbe73"
  },
  "kernelspec": {
   "display_name": "",
   "language": "python",
   "name": "python3"
  },
  "language_info": {
   "codemirror_mode": {
    "name": "ipython",
    "version": 3
   },
   "file_extension": ".py",
   "mimetype": "text/x-python",
   "name": "python",
   "nbconvert_exporter": "python",
   "pygments_lexer": "ipython3",
   "version": "3.8.5"
  },
  "orig_nbformat": 4
 },
 "nbformat": 4,
 "nbformat_minor": 2
}
