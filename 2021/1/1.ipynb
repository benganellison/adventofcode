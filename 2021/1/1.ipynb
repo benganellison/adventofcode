{
 "cells": [
  {
   "cell_type": "code",
   "execution_count": 2,
   "metadata": {},
   "outputs": [
    {
     "name": "stdout",
     "output_type": "stream",
     "text": [
      "Answer to question1: 1184\n",
      "Answer to question2: 1158\n"
     ]
    }
   ],
   "source": [
    "def noOfIncreases(myarray):\n",
    "    return (len([x for ind, x in enumerate(myarray) if ind > 0 and x>myarray[ind-1]]))\n",
    "\n",
    "def slidingWindow(myarray, windowSize=3):\n",
    "    return ([sum(myarray[ind-windowSize+1:ind+1]) for ind, x in enumerate(myarray) if ind >= windowSize-1])\n",
    "\n",
    "def main():\n",
    "\n",
    "    file1 = open('input.txt', 'r') \n",
    "    reports = [int(x) for x in file1.read().split('\\n')]\n",
    "    countPart1 = noOfIncreases(reports)\n",
    "    countPart2 = noOfIncreases(slidingWindow(reports))\n",
    "    file1.close()\n",
    "    return [countPart1,countPart2]\n",
    "\n",
    "\n",
    "if __name__ == \"__main__\":\n",
    "    answers = main()\n",
    "    print(f\"Answer to question1: {answers[0]}\")\n",
    "    print(f\"Answer to question2: {answers[1]}\")\n",
    "    #lines = value[0]\n",
    "    #numbers = value[1] "
   ]
  }
 ],
 "metadata": {
  "interpreter": {
   "hash": "2e1823a69ae08de7f81dab555a9afc5cb09ee2871ff1196380c837771cdcbe73"
  },
  "kernelspec": {
   "display_name": "Python 3.8.5 64-bit",
   "language": "python",
   "name": "python3"
  },
  "language_info": {
   "codemirror_mode": {
    "name": "ipython",
    "version": 3
   },
   "file_extension": ".py",
   "mimetype": "text/x-python",
   "name": "python",
   "nbconvert_exporter": "python",
   "pygments_lexer": "ipython3",
   "version": "3.8.5"
  },
  "orig_nbformat": 4
 },
 "nbformat": 4,
 "nbformat_minor": 2
}
