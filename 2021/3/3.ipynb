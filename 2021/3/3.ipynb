{
 "cells": [
  {
   "cell_type": "code",
   "execution_count": 6,
   "metadata": {},
   "outputs": [
    {
     "name": "stdout",
     "output_type": "stream",
     "text": [
      "Answer to question1: 2035764\n",
      "Answer to question2: 110011101111 * 001101010011 = 3311 * 851 = 2817661\n"
     ]
    }
   ],
   "source": [
    "import pandas as pd\n",
    "def intcastlookup(bitlist):\n",
    "    return int(''.join('01'[i] for i in bitlist), 2)\n",
    "def oxrating(diagnostics_df):\n",
    "    df = diagnostics_df\n",
    "    for column in diagnostics_df:\n",
    "        if (df[df[column] == 0][column].count() <= df[df[column] == 1][column].count()):\n",
    "            df = df[df[column] == 1]\n",
    "        else:\n",
    "            df = df[df[column] == 0]\n",
    "        #print(df)\n",
    "        if df.shape[0] == 1:\n",
    "            break\n",
    "    return df.values.tolist()[0]\n",
    "    \n",
    "def co2scrubberrating(diagnostics_df):\n",
    "    df = diagnostics_df\n",
    "    for column in diagnostics_df:\n",
    "        #print(df)\n",
    "        if (df[df[column] == 0][column].count() <= df[df[column] == 1][column].count()):\n",
    "            df = df[df[column] == 0]\n",
    "        else:\n",
    "            df = df[df[column] == 1]\n",
    "        if df[column].count() == 1:\n",
    "            break\n",
    "    #print(df)\n",
    "    return df.values.tolist()[0]\n",
    "\n",
    "def main():\n",
    "\n",
    "    file1 = open('input.txt', 'r') \n",
    "    commands = []\n",
    "    for row in file1.read().split('\\n'):\n",
    "        #display([int(x) for x in row])\n",
    "        commands.append([int(x) for x in row])\n",
    "    diagnostics_df = pd.DataFrame(commands)\n",
    "    gamma = diagnostics_df.mode().values.tolist()[0]\n",
    "    epsilon = [1 if i == 0 else 0 for i in gamma]\n",
    "    powerconsumption = intcastlookup(gamma)*intcastlookup(epsilon)\n",
    "    oxrate = intcastlookup(oxrating(diagnostics_df))\n",
    "    co2rate = intcastlookup(co2scrubberrating(diagnostics_df))\n",
    "    lifesupportrating = f\"{''.join(str(i) for i in oxrating(diagnostics_df))} * {''.join(str(i) for i in co2scrubberrating(diagnostics_df))} = {oxrate} * {co2rate} = {oxrate*co2rate}\"\n",
    "    return [powerconsumption,lifesupportrating]\n",
    "\n",
    "\n",
    "if __name__ == \"__main__\":\n",
    "    answers = main()\n",
    "    print(f\"Answer to question1: {answers[0]}\")\n",
    "    print(f\"Answer to question2: {answers[1]}\")\n",
    "    #lines = value[0]\n",
    "    #numbers = value[1] "
   ]
  },
  {
   "cell_type": "code",
   "execution_count": 7,
   "metadata": {},
   "outputs": [
    {
     "name": "stdout",
     "output_type": "stream",
     "text": [
      "Answer to question1: 198\n",
      "Answer to question2: 10111 * 01010 = 23 * 10 = 230\n"
     ]
    }
   ],
   "source": [
    "def oxrating(diagnostics_df):\n",
    "    df = diagnostics_df\n",
    "    for column in diagnostics_df:\n",
    "        if (df[df[column] == 0][column].count() <= df[df[column] == 1][column].count()):\n",
    "            df = df[df[column] == 1]\n",
    "        else:\n",
    "            df = df[df[column] == 0]\n",
    "        #print(df)\n",
    "        if df.shape[0] == 1:\n",
    "            break\n",
    "    return df.values.tolist()[0]\n",
    "    \n",
    "def co2scrubberrating(diagnostics_df):\n",
    "    df = diagnostics_df\n",
    "    for column in diagnostics_df:\n",
    "        #print(df)\n",
    "        if (df[df[column] == 0][column].count() <= df[df[column] == 1][column].count()):\n",
    "            df = df[df[column] == 0]\n",
    "        else:\n",
    "            df = df[df[column] == 1]\n",
    "        if df[column].count() == 1:\n",
    "            break\n",
    "    #print(df)\n",
    "    return df.values.tolist()[0]\n",
    "        \n",
    "def main():\n",
    "\n",
    "    file1 = open('test_input.txt', 'r')\n",
    "    commands = []\n",
    "    for row in file1.read().split('\\n'):\n",
    "        #display([int(x) for x in row])\n",
    "        commands.append([int(x) for x in row])\n",
    "    diagnostics_df = pd.DataFrame(commands)\n",
    "    gamma = diagnostics_df.mode().values.tolist()[0]\n",
    "    epsilon = [1 if i == 0 else 0 for i in gamma]\n",
    "    powerconsumption = intcastlookup(gamma)*intcastlookup(epsilon)\n",
    "    oxrate = intcastlookup(oxrating(diagnostics_df))\n",
    "    co2rate = intcastlookup(co2scrubberrating(diagnostics_df))\n",
    "    lifesupportrating = f\"{''.join(str(i) for i in oxrating(diagnostics_df))} * {''.join(str(i) for i in co2scrubberrating(diagnostics_df))} = {oxrate} * {co2rate} = {oxrate*co2rate}\"\n",
    "    return [powerconsumption,lifesupportrating]\n",
    "\n",
    "\n",
    "if __name__ == \"__main__\":\n",
    "    answers = main()\n",
    "    print(f\"Answer to question1: {answers[0]}\")\n",
    "    print(f\"Answer to question2: {answers[1]}\")\n",
    "    #lines = value[0]\n",
    "    #numbers = value[1] "
   ]
  }
 ],
 "metadata": {
  "interpreter": {
   "hash": "2e1823a69ae08de7f81dab555a9afc5cb09ee2871ff1196380c837771cdcbe73"
  },
  "kernelspec": {
   "display_name": "Python 3.8.5 64-bit",
   "language": "python",
   "name": "python3"
  },
  "language_info": {
   "codemirror_mode": {
    "name": "ipython",
    "version": 3
   },
   "file_extension": ".py",
   "mimetype": "text/x-python",
   "name": "python",
   "nbconvert_exporter": "python",
   "pygments_lexer": "ipython3",
   "version": "3.8.5"
  },
  "orig_nbformat": 4
 },
 "nbformat": 4,
 "nbformat_minor": 2
}
