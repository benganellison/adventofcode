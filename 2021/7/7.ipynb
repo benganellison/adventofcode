{
 "cells": [
  {
   "cell_type": "code",
   "execution_count": 10,
   "metadata": {},
   "outputs": [
    {
     "name": "stdout",
     "output_type": "stream",
     "text": [
      "Answer to question1: 37\n",
      "Answer to question2: 168\n",
      "Answer to question1: 335330\n",
      "Answer to question2: 92439766\n"
     ]
    }
   ],
   "source": [
    "import copy\n",
    "from collections import defaultdict\n",
    "\n",
    "def findCheapestSpot_p1(crabs):\n",
    "    max_pos = max(crabs)\n",
    "\n",
    "    fuel_cost = {}\n",
    "    for i in range(max_pos):\n",
    "        fuel_cost[i] = 0\n",
    "        for crab_pos in crabs:\n",
    "            fuel_cost[i] += abs(crab_pos-i)\n",
    "\n",
    "    #print(fuel_cost)\n",
    "    return (min(fuel_cost.values()))\n",
    "\n",
    "def findCheapestSpot_p2(crabs):\n",
    "    max_pos = max(crabs)\n",
    "\n",
    "    fuel_cost = {}\n",
    "    for i in range(max_pos):\n",
    "        fuel_cost[i] = 0\n",
    "        for crab_pos in crabs:\n",
    "            dist = abs(crab_pos-i)\n",
    "            fuel_cost[i] += int(dist * (dist + 1) / 2)\n",
    "\n",
    "    #print(fuel_cost)\n",
    "    return (min(fuel_cost.values()))\n",
    "\n",
    "\n",
    "def main_test():\n",
    "\n",
    "    file1 = open('test_input.txt', 'r') \n",
    "    crabs = [int(s) for s in file1.read().strip().split(',')]\n",
    "    \n",
    "    finalScore1,finalScore2 = findCheapestSpot_p1(crabs),findCheapestSpot_p2(crabs)\n",
    "\n",
    "    return [finalScore1,finalScore2]\n",
    "\n",
    "def main():\n",
    "\n",
    "    file1 = open('input.txt', 'r') \n",
    "    crabs = [int(s) for s in file1.read().strip().split(',')]\n",
    "    \n",
    "    finalScore1,finalScore2 = findCheapestSpot_p1(crabs),findCheapestSpot_p2(crabs)\n",
    "\n",
    "    return [finalScore1,finalScore2]\n",
    "\n",
    "\n",
    "if __name__ == \"__main__\":\n",
    "    answers = main_test()\n",
    "    print(f\"Answer to question1: {answers[0]}\")\n",
    "    print(f\"Answer to question2: {answers[1]}\")\n",
    "    assert answers[0] == 37, \"failed test\"\n",
    "    assert answers[1] == 168, \"failed test\"\n",
    "\n",
    "    answers = main()\n",
    "    print(f\"Answer to question1: {answers[0]}\")\n",
    "    print(f\"Answer to question2: {answers[1]}\")\n",
    "    #lines = value[0]\n",
    "    #numbers = value[1] "
   ]
  },
  {
   "cell_type": "code",
   "execution_count": 14,
   "metadata": {},
   "outputs": [
    {
     "name": "stdout",
     "output_type": "stream",
     "text": [
      "Inital state: 3:2,4:1,1:1,2:1\n",
      "After 80 days: 0:424,2:558,4:739,6:991,8:571,1:729,3:790,5:762,7:370\n",
      "Inital state: 3:2,4:1,1:1,2:1\n",
      "After 256 days: 6:4275812629,8:2329711392,1:2731163883,3:3164316379,5:3681986557,7:1985489551,0:2376852196,2:2897294544,4:3541830408\n",
      "Answer to question1: 5934\n",
      "Answer to question2: 26984457539\n"
     ]
    }
   ],
   "source": [
    "import copy\n",
    "from collections import defaultdict\n",
    "\n",
    "def evalFishAdges(fishes, days):\n",
    "    clockValues = defaultdict(int)\n",
    "    fishes = copy.deepcopy(fishes)\n",
    "    for fish in fishes:\n",
    "        clockValues[fish] += 1\n",
    "    print(f\"Inital state: {','.join(str(k)+':'+str(v) for k,v in clockValues.items())}\") \n",
    "    for day in range(days):\n",
    "        new_clockValues = defaultdict(int)\n",
    "        for key in clockValues:\n",
    "            if key == 0:\n",
    "                new_clockValues[6] += clockValues[key]\n",
    "                new_clockValues[8] = clockValues[key]\n",
    "            else:\n",
    "                new_clockValues[key-1] += clockValues[key]\n",
    "        clockValues = new_clockValues\n",
    "        #print(f\"After {str(day+1).rjust(2)} days: {','.join(str(k)+':'+str(v) for k,v in freq.items())}\") \n",
    "    \n",
    "    print(f\"After {str(day+1).rjust(2)} days: {','.join(str(k)+':'+str(v) for k,v in clockValues.items())}\")\n",
    "    ans = 0\n",
    "    for key, val in clockValues.items():\n",
    "        ans += val \n",
    "    return ans\n",
    "                \n",
    "\n",
    "def main():\n",
    "\n",
    "    file1 = open('test_input.txt', 'r') \n",
    "    fishes = [int(s) for s in file1.read().strip().split(',')]\n",
    "    \n",
    "    finalScore1,finalScore2 = evalFishAdges(fishes, 80),evalFishAdges(fishes, 256)\n",
    "\n",
    "    return [finalScore1,finalScore2]\n",
    "\n",
    "\n",
    "if __name__ == \"__main__\":\n",
    "    answers = main()\n",
    "    print(f\"Answer to question1: {answers[0]}\")\n",
    "    print(f\"Answer to question2: {answers[1]}\")\n",
    "    #lines = value[0]\n",
    "    #numbers = value[1] "
   ]
  }
 ],
 "metadata": {
  "interpreter": {
   "hash": "2e1823a69ae08de7f81dab555a9afc5cb09ee2871ff1196380c837771cdcbe73"
  },
  "kernelspec": {
   "display_name": "Python 3.8.5 64-bit",
   "language": "python",
   "name": "python3"
  },
  "language_info": {
   "codemirror_mode": {
    "name": "ipython",
    "version": 3
   },
   "file_extension": ".py",
   "mimetype": "text/x-python",
   "name": "python",
   "nbconvert_exporter": "python",
   "pygments_lexer": "ipython3",
   "version": "3.8.5"
  },
  "orig_nbformat": 4
 },
 "nbformat": 4,
 "nbformat_minor": 2
}
