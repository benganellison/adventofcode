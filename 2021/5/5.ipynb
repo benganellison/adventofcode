{
 "cells": [
  {
   "cell_type": "code",
   "execution_count": 15,
   "metadata": {},
   "outputs": [
    {
     "name": "stdout",
     "output_type": "stream",
     "text": [
      "Answer to question1: 7269\n",
      "Answer to question2: 21140\n"
     ]
    }
   ],
   "source": [
    "import copy\n",
    "\n",
    "def getDangerousPointsVH(lines):\n",
    "    filteredlines = [line for line in lines if line[0][0]==line[1][0] or line[0][1]==line[1][1]]\n",
    "    #display(filteredlines)\n",
    "    #display(lines)\n",
    "    maxy, maxx = 0,0\n",
    "    for line in filteredlines:\n",
    "        x1, x2 = line[0][0], line[1][0]\n",
    "        y1, y2 = line[0][1], line[1][1]\n",
    "        if x1 > maxx or x2 > maxx:\n",
    "            maxx = x1 if x1 > x2 else x2\n",
    "        if y1 > maxy or y2 > maxy:\n",
    "            maxy = y1 if y1 > y2 else y2\n",
    "    #display(f\"{maxy=},{maxx=}\")\n",
    "    resutList = [['.' for xy in range(maxx+1)] for y in range(maxy+1)]\n",
    "    for line in filteredlines:\n",
    "        if line[0][0] <= line[1][0]:\n",
    "            x1, x2 = line[0][0], line[1][0]+1\n",
    "        else:\n",
    "            x2, x1 = line[0][0]+1, line[1][0]\n",
    "        if line[0][1] <= line[1][1]:\n",
    "            y1, y2 = line[0][1], line[1][1]+1\n",
    "        else:\n",
    "            y2, y1 = line[0][1]+1, line[1][1]\n",
    "        #display(f\"{x1}->{x2-1} , {y1}->{y2-1}\")\n",
    "        for y in range(y1,y2):\n",
    "            for x in range(x1,x2):\n",
    "                resutList[y][x] = 1 if resutList[y][x]=='.' else resutList[y][x]+1\n",
    "\n",
    "    #print('\\n'.join(''.join(str(x) for x in row) for row in resutList))\n",
    "    return len([dangerous for row in resutList for dangerous in row if dangerous!= '.' and int(dangerous) >= 2])\n",
    "def getDangerousPoints(lines, debug=False):\n",
    "\n",
    "    #display(filteredlines)\n",
    "    #display(lines)\n",
    "    maxy, maxx = 0,0\n",
    "    for line in lines:\n",
    "        x1, x2 = line[0][0], line[1][0]\n",
    "        y1, y2 = line[0][1], line[1][1]\n",
    "        if x1 > maxx or x2 > maxx:\n",
    "            maxx = x1 if x1 > x2 else x2\n",
    "        if y1 > maxy or y2 > maxy:\n",
    "            maxy = y1 if y1 > y2 else y2\n",
    "    if debug:\n",
    "        display(f\"{maxy=},{maxx=}\")\n",
    "    resutList = [['.' for xy in range(maxx+1)] for y in range(maxy+1)]\n",
    "    for line in lines:\n",
    "        stepx, stepy = 1,1\n",
    "        if line[0][0] <= line[1][0]:\n",
    "            x1, x2 = line[0][0], line[1][0]\n",
    "        else:\n",
    "            x1, x2 = line[0][0], line[1][0]\n",
    "            stepx = -1\n",
    "        if line[0][1] <= line[1][1]:\n",
    "            y1, y2 = line[0][1], line[1][1]\n",
    "        else:\n",
    "            y1, y2 = line[0][1], line[1][1]\n",
    "            stepy = -1\n",
    "        if debug:\n",
    "            display(f\"{x1}->{x2} , {y1}->{y2}\")\n",
    "        if x1==x2 or y1==y2:\n",
    "            for y in range(y1,y2+stepy,stepy):\n",
    "                for x in range(x1,x2+stepx,stepx):\n",
    "                    resutList[y][x] = 1 if resutList[y][x]=='.' else resutList[y][x]+1\n",
    "        else:\n",
    "            for y,x in zip(range(y1,y2+stepy,stepy),range(x1,x2+stepx,stepx)):\n",
    "                resutList[y][x] = 1 if resutList[y][x]=='.' else resutList[y][x]+1\n",
    "                if debug:\n",
    "                    display(f\" {x} , {y}\")\n",
    "    if debug:\n",
    "        print('\\n'.join(''.join(str(x) for x in row) for row in resutList))\n",
    "                #display(f\" {x} , {y}\")\n",
    "    return len([dangerous for row in resutList for dangerous in row if dangerous!= '.' and int(dangerous) >= 2])\n",
    "\n",
    "def main():\n",
    "\n",
    "    file1 = open('input.txt', 'r') \n",
    "    lines = file1.read().strip().split('\\n')\n",
    "    lines = [[tuple(int(coordinates) for coordinates in coordinate.strip().split(',')) for coordinate in line.split('->')  ] for line in lines ]\n",
    "    \n",
    "    finalScore1,finalScore2 = getDangerousPointsVH(lines),getDangerousPoints(lines)\n",
    "\n",
    "    return [finalScore1,finalScore2]\n",
    "\n",
    "\n",
    "if __name__ == \"__main__\":\n",
    "    answers = main()\n",
    "    print(f\"Answer to question1: {answers[0]}\")\n",
    "    print(f\"Answer to question2: {answers[1]}\")\n",
    "    #lines = value[0]\n",
    "    #numbers = value[1] "
   ]
  },
  {
   "cell_type": "code",
   "execution_count": 17,
   "metadata": {},
   "outputs": [
    {
     "name": "stdout",
     "output_type": "stream",
     "text": [
      "Answer to question1: 5\n",
      "Answer to question2: 12\n"
     ]
    }
   ],
   "source": [
    "\n",
    "def main():\n",
    "\n",
    "    file1 = open('test_input.txt', 'r')\n",
    "    lines = file1.read().strip().split('\\n')\n",
    "    lines = [[tuple(int(coordinates) for coordinates in coordinate.strip().split(',')) for coordinate in line.split('->')  ] for line in lines ]\n",
    "    \n",
    "    finalScore1,finalScore2 = getDangerousPointsVH(lines),getDangerousPoints(lines)\n",
    "\n",
    "    return [finalScore1,finalScore2]\n",
    "\n",
    "\n",
    "if __name__ == \"__main__\":\n",
    "    answers = main()\n",
    "    print(f\"Answer to question1: {answers[0]}\")\n",
    "    print(f\"Answer to question2: {answers[1]}\")\n",
    "    #lines = value[0]\n",
    "    #numbers = value[1] "
   ]
  }
 ],
 "metadata": {
  "interpreter": {
   "hash": "2e1823a69ae08de7f81dab555a9afc5cb09ee2871ff1196380c837771cdcbe73"
  },
  "kernelspec": {
   "display_name": "Python 3.8.5 64-bit",
   "language": "python",
   "name": "python3"
  },
  "language_info": {
   "codemirror_mode": {
    "name": "ipython",
    "version": 3
   },
   "file_extension": ".py",
   "mimetype": "text/x-python",
   "name": "python",
   "nbconvert_exporter": "python",
   "pygments_lexer": "ipython3",
   "version": "3.8.5"
  },
  "orig_nbformat": 4
 },
 "nbformat": 4,
 "nbformat_minor": 2
}
