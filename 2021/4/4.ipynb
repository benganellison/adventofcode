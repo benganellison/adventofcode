{
 "cells": [
  {
   "cell_type": "code",
   "execution_count": 2,
   "metadata": {},
   "outputs": [
    {
     "name": "stdout",
     "output_type": "stream",
     "text": [
      "90 was the last drawn number 62 is the winning board, bingo on row 2\n",
      "94 was the last drawn number, board 84 is the losing board sumOfUnmarkedNumbers=221\n",
      "Answer to question1: 82440\n",
      "Answer to question2: 20774\n"
     ]
    }
   ],
   "source": [
    "import copy\n",
    "\n",
    "def getWinningBoardAndLastNumber(bingoBoards, drawNumbers):\n",
    "    bingoBoardsCopy = copy.deepcopy(bingoBoards)\n",
    "    for ind, number in enumerate(drawNumbers):\n",
    "        for boardind, board in enumerate(bingoBoards):\n",
    "            for rowind, row in enumerate(board):\n",
    "                if number in row:\n",
    "                    bingoBoardsCopy[boardind][rowind].remove(number)\n",
    "                if len(bingoBoardsCopy[boardind][rowind]) == 0:\n",
    "                    break\n",
    "            else:\n",
    "                continue\n",
    "            break\n",
    "        else:\n",
    "            continue\n",
    "        break\n",
    "    print(f\"{drawNumbers[ind]} was the last drawn number {boardind} is the winning board, bingo on row {rowind}\")\n",
    "    sumOfUnmarkedNumbers = sum([value for rows in bingoBoardsCopy[boardind] for value in rows])\n",
    "    return sumOfUnmarkedNumbers, drawNumbers[ind]\n",
    "\n",
    "\n",
    "def getLosingBoardAndLastNumber(bingoBoards, drawNumbers):\n",
    "    boardMarkings = [[[0 for no in row] for row in board] for board in bingoBoards]\n",
    "    bingoBoardsrows = copy.deepcopy(bingoBoards)\n",
    "    bingoBoardscolumns = [[[bingoBoards[boardind][column][row] for column in range(0,5)] for row in range(0,5)] for boardind,board in enumerate(bingoBoards)]\n",
    "    notWonYet = [boardind for boardind, board in enumerate(bingoBoards)]\n",
    "    lastBoard = -1\n",
    "    for ind, draw in enumerate(drawNumbers):\n",
    "        for boardind, board in enumerate(bingoBoards):\n",
    "            for rowind, row in enumerate(board):\n",
    "                if draw in row:\n",
    "                    columnindex = bingoBoards[boardind][rowind].index(draw)\n",
    "                    bingoBoardsrows[boardind][rowind].remove(draw)\n",
    "                    bingoBoardscolumns[boardind][columnindex].remove(draw)\n",
    "                    boardMarkings[boardind][rowind][columnindex] = 1\n",
    "                    if boardind in notWonYet and (len(bingoBoardsrows[boardind][rowind]) == 0 or len(bingoBoardscolumns[boardind][columnindex]) == 0 ):\n",
    "                        notWonYet.remove(boardind)\n",
    "                        lastBoard = boardind\n",
    "        if len(notWonYet) == 0:\n",
    "            break\n",
    "\n",
    "    sumOfUnmarkedNumbers = sum([value for rows in bingoBoardsrows[lastBoard] for value in rows])\n",
    "    print(f\"{drawNumbers[ind]} was the last drawn number, board {lastBoard} is the losing board {sumOfUnmarkedNumbers=}\")\n",
    "    #print('\\n'.join('\\t'.join(''.join(str(bingoBoards[z][y][x]).ljust(3) for x in range(0,5)) for z in range(0,3)) for y in range(0,5))+'\\n')\n",
    "    #print('\\n'.join('\\t'.join(''.join(str(boardMarkings[z][y][x]).ljust(3) for x in range(0,5)) for z in range(0,3)) for y in range(0,5)))\n",
    "\n",
    "    return sumOfUnmarkedNumbers, drawNumbers[ind]\n",
    "\n",
    "def main():\n",
    "\n",
    "    file1 = open('input.txt', 'r') \n",
    "    bingoBoards = file1.read().strip().split('\\n\\n')\n",
    "    drawNumbers = [int(s) for s in bingoBoards.pop(0).split(',')]\n",
    "    drawNumbers\n",
    "    bingoBoards = [[[int(row[i*3:(i+1)*3]) for i in range(0,5)] for row in board.split('\\n')] for board in bingoBoards]\n",
    "    sumOfUnmarkedNumbers, lastNumber = getWinningBoardAndLastNumber(bingoBoards, drawNumbers)\n",
    "    sumOfUnmarkedNumbers2, lastNumber2 = getLosingBoardAndLastNumber(bingoBoards, drawNumbers)\n",
    "    finalScore1,finalScore2 = sumOfUnmarkedNumbers*lastNumber,sumOfUnmarkedNumbers2*lastNumber2\n",
    "\n",
    "    return [finalScore1,finalScore2]\n",
    "\n",
    "\n",
    "if __name__ == \"__main__\":\n",
    "    answers = main()\n",
    "    print(f\"Answer to question1: {answers[0]}\")\n",
    "    print(f\"Answer to question2: {answers[1]}\")\n",
    "    #lines = value[0]\n",
    "    #numbers = value[1] "
   ]
  },
  {
   "cell_type": "code",
   "execution_count": 3,
   "metadata": {},
   "outputs": [
    {
     "name": "stdout",
     "output_type": "stream",
     "text": [
      "24 was the last drawn number 2 is the winning board, bingo on row 0\n",
      "13 was the last drawn number, board 1 is the losing board sumOfUnmarkedNumbers=148\n",
      "Answer to question1: 4512\n",
      "Answer to question2: 1924\n"
     ]
    }
   ],
   "source": [
    "\n",
    "def main():\n",
    "\n",
    "    file1 = open('test_input.txt', 'r')\n",
    "    bingoBoards = file1.read().strip().split('\\n\\n')\n",
    "    drawNumbers = [int(s) for s in bingoBoards.pop(0).split(',')]\n",
    "    drawNumbers\n",
    "    bingoBoards = [[[int(row[i*3:(i+1)*3]) for i in range(0,5)] for row in board.split('\\n')] for board in bingoBoards]\n",
    "    sumOfUnmarkedNumbers, lastNumber = getWinningBoardAndLastNumber(bingoBoards, drawNumbers)\n",
    "    sumOfUnmarkedNumbers2, lastNumber2 = getLosingBoardAndLastNumber(bingoBoards, drawNumbers)\n",
    "    \n",
    "    finalScore1,finalScore2 = sumOfUnmarkedNumbers*lastNumber,sumOfUnmarkedNumbers2*lastNumber2\n",
    "\n",
    "    return [finalScore1,finalScore2]\n",
    "\n",
    "\n",
    "if __name__ == \"__main__\":\n",
    "    answers = main()\n",
    "    print(f\"Answer to question1: {answers[0]}\")\n",
    "    print(f\"Answer to question2: {answers[1]}\")\n",
    "    #lines = value[0]\n",
    "    #numbers = value[1] "
   ]
  }
 ],
 "metadata": {
  "interpreter": {
   "hash": "2e1823a69ae08de7f81dab555a9afc5cb09ee2871ff1196380c837771cdcbe73"
  },
  "kernelspec": {
   "display_name": "Python 3.8.5 64-bit",
   "language": "python",
   "name": "python3"
  },
  "language_info": {
   "codemirror_mode": {
    "name": "ipython",
    "version": 3
   },
   "file_extension": ".py",
   "mimetype": "text/x-python",
   "name": "python",
   "nbconvert_exporter": "python",
   "pygments_lexer": "ipython3",
   "version": "3.8.5"
  },
  "orig_nbformat": 4
 },
 "nbformat": 4,
 "nbformat_minor": 2
}
