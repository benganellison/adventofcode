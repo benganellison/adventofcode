{
 "metadata": {
  "language_info": {
   "codemirror_mode": {
    "name": "ipython",
    "version": 3
   },
   "file_extension": ".py",
   "mimetype": "text/x-python",
   "name": "python",
   "nbconvert_exporter": "python",
   "pygments_lexer": "ipython3",
   "version": "3.8.5-final"
  },
  "orig_nbformat": 2,
  "kernelspec": {
   "name": "python3",
   "display_name": "Python 3"
  }
 },
 "nbformat": 4,
 "nbformat_minor": 2,
 "cells": [
  {
   "cell_type": "code",
   "execution_count": 1,
   "metadata": {},
   "outputs": [
    {
     "output_type": "stream",
     "name": "stdout",
     "text": [
      "Answer to question1: 1810\nAnswer to question2: 969\n"
     ]
    }
   ],
   "source": [
    "import re\n",
    "from collections import defaultdict\n",
    "\n",
    "\n",
    "def testInstructions(program):\n",
    "    instructionsRunned = defaultdict(dict)\n",
    "    position = 0\n",
    "    accumulator = 0\n",
    "    while position not in instructionsRunned:\n",
    "        #print(f\"{position=}, {len(program)=}\")\n",
    "        nextInstruction = re.findall(r\"(\\S+)\\s(.)(\\d+)\", program[position])\n",
    "        if nextInstruction:\n",
    "            nextInstruction = nextInstruction[0]\n",
    "        else:\n",
    "            #display(f\"{len(program)=}, {program=}, {accumulator=}, {position=}, {nextInstruction=}\")\n",
    "            break\n",
    "        #print(instructionsRunned)\n",
    "        instructionsRunned[position] = {nextInstruction[0]: nextInstruction[1]+nextInstruction[2]}\n",
    "        #instructionsRunned = instructionsRunned.union(set([position]))\n",
    "        if nextInstruction[0] == \"acc\":\n",
    "            accumulator = accumulator + int(nextInstruction[2]) \\\n",
    "                if nextInstruction[1] == \"+\" \\\n",
    "                else accumulator - int(nextInstruction[2])\n",
    "            position += 1\n",
    "            #display(f\"{nextInstruction[2]=}, {accumulator=}\")\n",
    "        elif nextInstruction[0] == \"nop\":\n",
    "            position += 1\n",
    "        elif nextInstruction[0] == \"jmp\":\n",
    "            position = position + int(nextInstruction[2]) \\\n",
    "                if nextInstruction[1] == \"+\" \\\n",
    "                else position - int(nextInstruction[2])\n",
    "        if position == (len(program)) or position < 0:\n",
    "            break\n",
    "        #print(position)\n",
    "    return position >= (len(program)-1), accumulator, position, instructionsRunned\n",
    "\n",
    "def findBug(program, instructionsRunned):\n",
    "    for position in instructionsRunned:\n",
    "        programCopy = program.copy()\n",
    "        if 'nop' in instructionsRunned[position]:\n",
    "            programCopy[position] = 'jmp ' + instructionsRunned[position]['nop']\n",
    "        elif 'jmp' in instructionsRunned[position]:\n",
    "            programCopy[position] = 'nop ' + instructionsRunned[position]['jmp']\n",
    "        else:\n",
    "            continue\n",
    "        success, accumulator, position, latestInstructions = testInstructions(programCopy)\n",
    "        if success:\n",
    "            #display(f\"{len(programCopy)=}, {success=}, {accumulator=}, {position=}, {latestInstructions=}\")\n",
    "            return accumulator\n",
    "\n",
    "def main():\n",
    "    program = open('input', 'r').readlines()\n",
    "    success, accumulatorQuestion1, position, instructions = testInstructions(program)\n",
    "    accumulatorQuestion2 = findBug(program, instructions)\n",
    "    return [accumulatorQuestion1, accumulatorQuestion2]\n",
    "\n",
    "if __name__ == \"__main__\":\n",
    "    answers = main()\n",
    "    print(f\"Answer to question1: {answers[0]}\")\n",
    "    print(f\"Answer to question2: {answers[1]}\")\n",
    "    #lines = value[0]\n",
    "    #numbers = value[1] "
   ]
  }
 ]
}