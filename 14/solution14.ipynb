{
 "metadata": {
  "language_info": {
   "codemirror_mode": {
    "name": "ipython",
    "version": 3
   },
   "file_extension": ".py",
   "mimetype": "text/x-python",
   "name": "python",
   "nbconvert_exporter": "python",
   "pygments_lexer": "ipython3",
   "version": "3.8.5-final"
  },
  "orig_nbformat": 2,
  "kernelspec": {
   "name": "python3",
   "display_name": "Python 3",
   "language": "python"
  }
 },
 "nbformat": 4,
 "nbformat_minor": 2,
 "cells": [
  {
   "cell_type": "code",
   "execution_count": 1,
   "metadata": {},
   "outputs": [
    {
     "output_type": "stream",
     "name": "stdout",
     "text": [
      "73\n101\n64\n"
     ]
    }
   ],
   "source": [
    "\n",
    "def applyBitmask1(value,bitmask):\n",
    "    maskRemove = int(bitmask.replace('1','X').replace('0','1').replace('X','0'),2)\n",
    "    maskOr = int(bitmask.replace('0','1').replace('X','0'),2)\n",
    "    return (value | maskOr) - maskRemove\n",
    "\n",
    "bitmask = 'XXXXXXXXXXXXXXXXXXXXXXXXXXXXX1XXXX0X'\n",
    "value = 11\n",
    "print(applyBitmask1(value,bitmask))\n",
    "value = 101\n",
    "print(applyBitmask1(value,bitmask))\n",
    "value = 0\n",
    "print(applyBitmask1(value,bitmask))\n"
   ]
  },
  {
   "cell_type": "code",
   "execution_count": 2,
   "metadata": {},
   "outputs": [
    {
     "output_type": "execute_result",
     "data": {
      "text/plain": [
       "8332632930672"
      ]
     },
     "metadata": {},
     "execution_count": 2
    }
   ],
   "source": [
    "import re\n",
    "\n",
    "def solution1():\n",
    "    mask = 'XXXXXXXXXXXXXXXXXXXXXXXXXXXXXXXXXXXX'\n",
    "    mem = {}\n",
    "    for row in open('input', 'r').readlines():\n",
    "        if row[0:4] == \"mask\":\n",
    "            mask = row[7:43]\n",
    "            #print(mask)\n",
    "        else:\n",
    "            parsString = re.split(\"\\[(\\d+)\\] = (\\d+)\", row)\n",
    "            mem[int(parsString[1])] = applyBitmask1(int(parsString[2]),mask)\n",
    "    return sum(mem.values())\n",
    "\n",
    "solution1()"
   ]
  },
  {
   "cell_type": "code",
   "execution_count": 3,
   "metadata": {},
   "outputs": [],
   "source": [
    "def applyBitmask2(value,bitmask):\n",
    "    memoryLocations = [0]\n",
    "    currbits = bitstring(value)\n",
    "    for bitPos in range(len(bitmask)-1,-1,-1):\n",
    "        maskvalue = bitmask[bitPos]\n",
    "        currentbit = 2**(len(bitmask)-bitPos-1)\n",
    "        bitvalue = int(currbits[bitPos]) * currentbit\n",
    "        if maskvalue == \"0\":\n",
    "            memoryLocations = [bitvalue + x for x in memoryLocations]\n",
    "        elif maskvalue == \"1\":\n",
    "            memoryLocations = [currentbit + x for x in memoryLocations]\n",
    "        elif maskvalue == \"X\":\n",
    "            memoryLocations = memoryLocations + [currentbit + x for x in memoryLocations]\n",
    "    return memoryLocations\n",
    "\n",
    "def bitstring(value):\n",
    "    return '{0:36b}'.format(value).replace(' ', '0')"
   ]
  },
  {
   "cell_type": "code",
   "execution_count": 4,
   "metadata": {},
   "outputs": [
    {
     "output_type": "stream",
     "name": "stdout",
     "text": [
      "[26, 27, 58, 59]\n[16, 17, 18, 19, 24, 25, 26, 27]\n"
     ]
    }
   ],
   "source": [
    "print(applyBitmask2(42,'000000000000000000000000000000X1001X'))\n",
    "print(applyBitmask2(26,'00000000000000000000000000000000X0XX'))"
   ]
  },
  {
   "cell_type": "code",
   "execution_count": 5,
   "metadata": {},
   "outputs": [
    {
     "output_type": "execute_result",
     "data": {
      "text/plain": [
       "4753238784664"
      ]
     },
     "metadata": {},
     "execution_count": 5
    }
   ],
   "source": [
    "import re\n",
    "\n",
    "def solution2():\n",
    "    mask = 'XXXXXXXXXXXXXXXXXXXXXXXXXXXXXXXXXXXX'\n",
    "    mem = {}\n",
    "    for row in open('input', 'r').readlines():\n",
    "        if row[0:4] == \"mask\":\n",
    "            mask = row[7:43]\n",
    "            #print(mask)\n",
    "        else:\n",
    "            parsString = re.split(\"\\[(\\d+)\\] = (\\d+)\", row)\n",
    "            memlocations = applyBitmask2(int(parsString[1]),mask)\n",
    "            for memlocation in memlocations:\n",
    "                mem[memlocation] = int(parsString[2])\n",
    "    return sum(mem.values())\n",
    "\n",
    "solution2()"
   ]
  },
  {
   "cell_type": "code",
   "execution_count": null,
   "metadata": {},
   "outputs": [],
   "source": []
  }
 ]
}