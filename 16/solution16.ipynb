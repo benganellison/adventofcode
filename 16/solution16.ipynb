{
 "metadata": {
  "language_info": {
   "codemirror_mode": {
    "name": "ipython",
    "version": 3
   },
   "file_extension": ".py",
   "mimetype": "text/x-python",
   "name": "python",
   "nbconvert_exporter": "python",
   "pygments_lexer": "ipython3",
   "version": "3.8.5-final"
  },
  "orig_nbformat": 2,
  "kernelspec": {
   "name": "python3",
   "display_name": "Python 3",
   "language": "python"
  }
 },
 "nbformat": 4,
 "nbformat_minor": 2,
 "cells": [
  {
   "cell_type": "code",
   "execution_count": 1,
   "metadata": {},
   "outputs": [],
   "source": [
    "import re\n",
    "data = open('input', 'r').read().split(\"\\n\\n\")\n",
    "\n",
    "myTicket = data[1].split(\"\\n\")[1].split(\",\")\n",
    "tickets = [[int(ticket) for ticket in ticket.split(\",\")] for ticket in data[2].split(\"\\n\")[1:]]\n",
    "\n",
    "allrules = set()\n",
    "rules = {}\n",
    "simlifiedrules = {}\n",
    "for row in data[0].split(\"\\n\"):\n",
    "    parseString = re.split(r\"([^\\:]+): (\\d+)\\-(\\d+) or (\\d+)\\-(\\d+)\", row)\n",
    "    ranges = [int(x) for x in parseString[2:6]]\n",
    "    rule = set(range(ranges[0], ranges[1]+1)).union(set(range(ranges[2], ranges[3]+1)))\n",
    "    allrules.update(rule)\n",
    "    rules[parseString[1]]=rule"
   ]
  },
  {
   "cell_type": "code",
   "execution_count": 2,
   "metadata": {},
   "outputs": [],
   "source": [
    "solution1 = 0\n",
    "validtickets = []\n",
    "#find valid tickets\n",
    "for ticket in tickets:\n",
    "    valid = True\n",
    "    for field in ticket:\n",
    "        if not field in allrules:\n",
    "            valid = False\n",
    "            solution1 += field\n",
    "    if valid:\n",
    "        validtickets.append(ticket)\n",
    "        "
   ]
  },
  {
   "cell_type": "code",
   "execution_count": 3,
   "metadata": {},
   "outputs": [],
   "source": [
    "possiblerules = {rule:set(range(len(tickets[0]))) for rule in rules}\n",
    "i = 0\n",
    "\n",
    "#reduce based on possible outcome from input vs rules\n",
    "for rulename, rule in rules.items():\n",
    "    for ticketid, ticket in enumerate(validtickets):\n",
    "        for fieldId in range(len(ticket)):\n",
    "            if fieldId not in possiblerules[rulename]:\n",
    "                continue\n",
    "            if ticket[fieldId] not in rule:\n",
    "                possiblerules[rulename].remove(fieldId)\n",
    "                break\n",
    "\n",
    "            "
   ]
  },
  {
   "cell_type": "code",
   "execution_count": 5,
   "metadata": {},
   "outputs": [],
   "source": [
    "#reduce based on ruling out methods\n",
    "reducedToOne = False\n",
    "while not reducedToOne:\n",
    "    reducedToOne = True\n",
    "    for rulename,rulesindx in possiblerules.items():\n",
    "        if len(rulesindx) == 1:\n",
    "            for name in possiblerules.keys():\n",
    "                if name != rulename and rulesindx.issubset(possiblerules[name]):\n",
    "                    #print(f\"{name=}, {possiblerules[name]=}, {rulesindx=}, \")\n",
    "                    possiblerules[name] -= rulesindx\n",
    "        else:\n",
    "            reducedToOne = False"
   ]
  },
  {
   "cell_type": "code",
   "execution_count": 6,
   "metadata": {},
   "outputs": [],
   "source": [
    "solution2 = 1\n",
    "for rulename, field in possiblerules.items():\n",
    "    if rulename[:9] == 'departure':\n",
    "        solution2 *= int(myTicket[next(iter(field))])\n"
   ]
  },
  {
   "cell_type": "code",
   "execution_count": 7,
   "metadata": {},
   "outputs": [
    {
     "output_type": "execute_result",
     "data": {
      "text/plain": [
       "25961"
      ]
     },
     "metadata": {},
     "execution_count": 7
    }
   ],
   "source": [
    "solution1"
   ]
  },
  {
   "cell_type": "code",
   "execution_count": 8,
   "metadata": {},
   "outputs": [
    {
     "output_type": "execute_result",
     "data": {
      "text/plain": [
       "603409823791"
      ]
     },
     "metadata": {},
     "execution_count": 8
    }
   ],
   "source": [
    "solution2"
   ]
  }
 ]
}