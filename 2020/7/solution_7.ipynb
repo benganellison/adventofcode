{
 "metadata": {
  "language_info": {
   "codemirror_mode": {
    "name": "ipython",
    "version": 3
   },
   "file_extension": ".py",
   "mimetype": "text/x-python",
   "name": "python",
   "nbconvert_exporter": "python",
   "pygments_lexer": "ipython3",
   "version": "3.8.5-final"
  },
  "orig_nbformat": 2,
  "kernelspec": {
   "name": "python3",
   "display_name": "Python 3"
  }
 },
 "nbformat": 4,
 "nbformat_minor": 2,
 "cells": [
  {
   "cell_type": "code",
   "execution_count": 1,
   "metadata": {},
   "outputs": [],
   "source": [
    "import regex\n",
    "from collections import defaultdict\n",
    "\n",
    "def costOfBag(bagColor, bagsInBag):\n",
    "    totalCost = int()\n",
    "    #print(f\"bagsInBag['{bagColor}'] = {bagsInBag[bagColor]}\")\n",
    "    for bag,cost in bagsInBag[bagColor].items():\n",
    "        #print(f\"{bag=} = {cost}\")\n",
    "        if bagsInBag[bag]:\n",
    "            costOfChildern = costOfBag(bag, bagsInBag)\n",
    "            #print(f\"bagsInBag['{bag}'] = {bagsInBag[bag]}, {costOfChildern=}, {cost=}, {(costOfChildern * cost)=}\")\n",
    "            totalCost += (costOfChildern * cost) + cost\n",
    "        else:\n",
    "            totalCost += cost\n",
    "    return totalCost\n",
    "\n",
    "def findAllBags(bagColor, okBags, bagCanBeIn):\n",
    "    for bag in bagCanBeIn[bagColor]:\n",
    "        if not bag in okBags:\n",
    "            #display(bagsInBag[bag])\n",
    "            okBags = okBags.union([bag], findAllBags(bag, okBags, bagCanBeIn))\n",
    "    #display(okBags)\n",
    "    return okBags\n",
    "\n",
    "\n",
    "def defineAllRules(rules):\n",
    "    bagCanBeIn = defaultdict(set)\n",
    "    bagsInBag = defaultdict(dict)\n",
    "    for rule in rules.split('\\n'):\n",
    "        rulelist = regex.match(r\"^(\\S+\\s\\S+) bags contain ((\\d+) (\\S+\\s\\S+) bags?\\,? ?)*\\.\", rule)\n",
    "        if rulelist:\n",
    "            outerBag = rulelist.captures(1)\n",
    "            for bag in rulelist.captures(4):\n",
    "                bagCanBeIn[bag] = bagCanBeIn[bag].union(outerBag)\n",
    "            #display(rulelist.captures(4))\n",
    "            if len(rulelist.captures(4)):\n",
    "                values = list(map(int,rulelist.captures(3)))\n",
    "                bags = rulelist.captures(4)\n",
    "                bagsInBag[outerBag[0]] = dict(zip(bags, values)) \n",
    "                #print(f\"bagsInBag['{outerBag}']{bagsInBag[outerBag]}\")\n",
    "    return bagCanBeIn, bagsInBag\n",
    "\n",
    "def main():\n",
    "    lookfor = 'shiny gold'\n",
    "    data = open('input', 'r').read() \n",
    "    #display(defineAllRules(data))\n",
    "    bagCanBeIn, bagsInBag = defineAllRules(data)\n",
    "    return [len(findAllBags('shiny gold', set(), bagCanBeIn)),costOfBag('shiny gold', bagsInBag)]\n"
   ]
  },
  {
   "cell_type": "code",
   "execution_count": 2,
   "metadata": {},
   "outputs": [
    {
     "output_type": "stream",
     "name": "stdout",
     "text": [
      "4\n"
     ]
    },
    {
     "output_type": "error",
     "ename": "TypeError",
     "evalue": "costOfBag() missing 1 required positional argument: 'bagsInBag'",
     "traceback": [
      "\u001b[0;31m---------------------------------------------------------------------------\u001b[0m",
      "\u001b[0;31mTypeError\u001b[0m                                 Traceback (most recent call last)",
      "\u001b[0;32m<ipython-input-2-4d7151b51348>\u001b[0m in \u001b[0;36m<module>\u001b[0;34m\u001b[0m\n\u001b[1;32m     16\u001b[0m \u001b[0mprint\u001b[0m\u001b[0;34m(\u001b[0m\u001b[0mlen\u001b[0m\u001b[0;34m(\u001b[0m\u001b[0mfindAllBags\u001b[0m\u001b[0;34m(\u001b[0m\u001b[0;34m'shiny gold'\u001b[0m\u001b[0;34m,\u001b[0m \u001b[0mset\u001b[0m\u001b[0;34m(\u001b[0m\u001b[0;34m)\u001b[0m\u001b[0;34m,\u001b[0m \u001b[0mbagCanBeIn\u001b[0m\u001b[0;34m)\u001b[0m\u001b[0;34m)\u001b[0m\u001b[0;34m)\u001b[0m\u001b[0;34m\u001b[0m\u001b[0;34m\u001b[0m\u001b[0m\n\u001b[1;32m     17\u001b[0m \u001b[0;31m#print(bagsInBag['shiny gold'])\u001b[0m\u001b[0;34m\u001b[0m\u001b[0;34m\u001b[0m\u001b[0;34m\u001b[0m\u001b[0m\n\u001b[0;32m---> 18\u001b[0;31m \u001b[0mprint\u001b[0m\u001b[0;34m(\u001b[0m\u001b[0mcostOfBag\u001b[0m\u001b[0;34m(\u001b[0m\u001b[0;34m'shiny gold'\u001b[0m\u001b[0;34m)\u001b[0m\u001b[0;34m)\u001b[0m\u001b[0;34m\u001b[0m\u001b[0;34m\u001b[0m\u001b[0m\n\u001b[0m",
      "\u001b[0;31mTypeError\u001b[0m: costOfBag() missing 1 required positional argument: 'bagsInBag'"
     ]
    }
   ],
   "source": [
    "example = \"\"\"light red bags contain 1 bright white bag, 2 muted yellow bags.\n",
    "dark orange bags contain 3 bright white bags, 4 muted yellow bags.\n",
    "bright white bags contain 1 shiny gold bag.\n",
    "muted yellow bags contain 2 shiny gold bags, 9 faded blue bags.\n",
    "shiny gold bags contain 1 dark olive bag, 2 vibrant plum bags.\n",
    "dark olive bags contain 3 faded blue bags, 4 dotted black bags.\n",
    "vibrant plum bags contain 5 faded blue bags, 6 dotted black bags.\n",
    "faded blue bags contain no other bags.\n",
    "dotted black bags contain no other bags.\"\"\"\n",
    "\n",
    "bagCanBeIn, bagsInBag = defineAllRules(example)\n",
    "#display(\"bagCanBeIn\")\n",
    "#display(bagCanBeIn)\n",
    "#display(\"bagsInBag\")\n",
    "#display(bagsInBag)\n",
    "print(len(findAllBags('shiny gold', set(), bagCanBeIn)))\n",
    "#print(bagsInBag['shiny gold'])\n",
    "print(costOfBag('shiny gold'))"
   ]
  },
  {
   "cell_type": "code",
   "execution_count": null,
   "metadata": {},
   "outputs": [],
   "source": [
    "\n",
    "if __name__ == \"__main__\":\n",
    "    answers = main()\n",
    "    print(f\"Answer to question1: {answers[0]}\")\n",
    "    print(f\"Answer to question2: {answers[1]}\")\n",
    "    #lines = value[0]\n",
    "    #numbers = value[1] "
   ]
  }
 ]
}