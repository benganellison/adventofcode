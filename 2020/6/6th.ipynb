{
 "metadata": {
  "language_info": {
   "codemirror_mode": {
    "name": "ipython",
    "version": 3
   },
   "file_extension": ".py",
   "mimetype": "text/x-python",
   "name": "python",
   "nbconvert_exporter": "python",
   "pygments_lexer": "ipython3",
   "version": "3.8.5-final"
  },
  "orig_nbformat": 2,
  "kernelspec": {
   "name": "python3",
   "display_name": "Python 3"
  }
 },
 "nbformat": 4,
 "nbformat_minor": 2,
 "cells": [
  {
   "cell_type": "code",
   "execution_count": 1,
   "metadata": {},
   "outputs": [
    {
     "output_type": "stream",
     "name": "stdout",
     "text": [
      "Answer to question1: 3392\nAnswer to question2: 6335\n"
     ]
    }
   ],
   "source": [
    "import pandas as pd\n",
    "import re\n",
    "\n",
    "def main():\n",
    "\n",
    "    file1 = open('input', 'r') \n",
    "    answers = {}\n",
    "    unFilteredanswers = {}\n",
    "    noOfanswered = 0\n",
    "    noOfansweredbyAll = 0\n",
    "    groupNo = 0\n",
    "    for answer in file1.read().split('\\n\\n'):\n",
    "        answerGroup = {}\n",
    "        groupNo += 1\n",
    "        for a in re.findall(r'(\\S)', answer):\n",
    "            if a in answerGroup:\n",
    "                answerGroup[a] += 1 \n",
    "            else:\n",
    "                answerGroup[a] = 1\n",
    "        noOfanswered += len(answerGroup)\n",
    "        unFilteredanswers[groupNo] = answerGroup.copy()\n",
    "        if len(answerGroup) > 0:\n",
    "            for key, value in answerGroup.copy().items():\n",
    "                if value < len(answer.split('\\n')):\n",
    "                    del answerGroup[key]\n",
    "            noOfansweredbyAll += len(answerGroup)\n",
    "            answerGroup[\"groupNo\"] = groupNo\n",
    "            answerGroup[\"groupSize\"] = len(answer.split('\\n'))\n",
    "            answers[groupNo] = answerGroup\n",
    "\n",
    "    return [noOfansweredbyAll, noOfanswered]\n",
    "\n",
    "if __name__ == \"__main__\":\n",
    "    answers = main()\n",
    "    print(f\"Answer to question1: {answers[0]}\")\n",
    "    print(f\"Answer to question2: {answers[1]}\")\n",
    "    #lines = value[0]\n",
    "    #numbers = value[1] "
   ]
  },
  {
   "cell_type": "code",
   "execution_count": 2,
   "metadata": {},
   "outputs": [
    {
     "output_type": "stream",
     "name": "stdout",
     "text": [
      "Answer to question1: 3392\nAnswer to question2: 6335\n"
     ]
    }
   ],
   "source": [
    "import pandas as pd\n",
    "import re\n",
    "from collections import defaultdict\n",
    "\n",
    "def main():\n",
    "\n",
    "    file1 = open('input', 'r') \n",
    "    noOfanswered = 0\n",
    "    noOfansweredbyAll = 0\n",
    "    for answers in file1.read().split('\\n\\n'):\n",
    "        answerGroup = defaultdict(int)\n",
    "        for yes in re.findall(r'(\\S)', answers):\n",
    "            answerGroup[yes] += 1\n",
    "        noOfanswered += len(answerGroup)\n",
    "        for key, value in answerGroup.copy().items():\n",
    "            if value < len(answers.split('\\n')):\n",
    "                del answerGroup[key]\n",
    "        noOfansweredbyAll += len(answerGroup)\n",
    "\n",
    "    return [noOfansweredbyAll, noOfanswered]\n",
    "\n",
    "if __name__ == \"__main__\":\n",
    "    answers = main()\n",
    "    print(f\"Answer to question1: {answers[0]}\")\n",
    "    print(f\"Answer to question2: {answers[1]}\")\n",
    "    #lines = value[0]\n",
    "    #numbers = value[1] "
   ]
  }
 ]
}