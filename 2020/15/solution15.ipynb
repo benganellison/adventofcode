{
 "metadata": {
  "language_info": {
   "codemirror_mode": {
    "name": "ipython",
    "version": 3
   },
   "file_extension": ".py",
   "mimetype": "text/x-python",
   "name": "python",
   "nbconvert_exporter": "python",
   "pygments_lexer": "ipython3",
   "version": "3.8.5-final"
  },
  "orig_nbformat": 2,
  "kernelspec": {
   "name": "python3",
   "display_name": "Python 3",
   "language": "python"
  }
 },
 "nbformat": 4,
 "nbformat_minor": 2,
 "cells": [
  {
   "cell_type": "code",
   "execution_count": 1,
   "metadata": {},
   "outputs": [
    {
     "output_type": "stream",
     "name": "stdout",
     "text": [
      "Answer to question1: 536\nAnswer to question2: 24065124\n"
     ]
    }
   ],
   "source": [
    "def solution1(data, iterations = 2020):\n",
    "    lastvisited = {}\n",
    "    i = 1\n",
    "    numberspoken = 0\n",
    "    newNumber = 0\n",
    "    for v in data:\n",
    "        lastvisited[v] = i\n",
    "        i += 1\n",
    "        newNumber = v\n",
    "    for j in range(len(data),iterations):\n",
    "        numberspoken = newNumber\n",
    "        newNumber = 0\n",
    "        if numberspoken in lastvisited:\n",
    "            newNumber = j - lastvisited[numberspoken]\n",
    "        lastvisited[numberspoken] = j\n",
    "    \n",
    "    return newNumber\n",
    "\n",
    "def main():\n",
    "    tests = [\n",
    "        ([0,3,6],436, 2020),\n",
    "        ([1,3,2],1, 2020),\n",
    "        ([2,1,3],10, 2020),\n",
    "        ([1,2,3],27, 2020),\n",
    "        ([2,3,1],78, 2020),\n",
    "        ([3,2,1],438, 2020),\n",
    "        ([3,1,2],1836, 2020),\n",
    "        ([0,3,6],175594, 30000000),\n",
    "        ([1,3,2],2578, 30000000),\n",
    "        ([2,1,3],3544142, 30000000),\n",
    "        ([1,2,3],261214, 30000000),\n",
    "        ([2,3,1],6895259, 30000000),\n",
    "        ([3,2,1],18, 30000000),\n",
    "        ([3,1,2],362, 30000000)\n",
    "        ]\n",
    "\n",
    "    data=[1,2,16,19,18,0]\n",
    "\n",
    "    for test in tests:\n",
    "        #print(pair)\n",
    "        assert solution1(test[0],test[2]) == test[1], \"failed test\"\n",
    "\n",
    "    answer1 = solution1(data, 2020)\n",
    "    answer2 = solution1(data, 30000000)\n",
    "\n",
    "    return [answer1, answer2]\n",
    "\n",
    "if __name__ == \"__main__\":\n",
    "    answers = main()\n",
    "    print(f\"Answer to question1: {answers[0]}\")\n",
    "    print(f\"Answer to question2: {answers[1]}\")"
   ]
  },
  {
   "cell_type": "code",
   "execution_count": null,
   "metadata": {},
   "outputs": [],
   "source": []
  }
 ]
}