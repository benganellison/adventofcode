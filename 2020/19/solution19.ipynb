{
 "metadata": {
  "language_info": {
   "codemirror_mode": {
    "name": "ipython",
    "version": 3
   },
   "file_extension": ".py",
   "mimetype": "text/x-python",
   "name": "python",
   "nbconvert_exporter": "python",
   "pygments_lexer": "ipython3",
   "version": "3.8.5-final"
  },
  "orig_nbformat": 2,
  "kernelspec": {
   "name": "python3",
   "display_name": "Python 3",
   "language": "python"
  }
 },
 "nbformat": 4,
 "nbformat_minor": 2,
 "cells": [
  {
   "cell_type": "code",
   "execution_count": null,
   "metadata": {},
   "outputs": [],
   "source": [
    "import numpy as np\n",
    "\n",
    "\n",
    "def solution1(data)\n",
    "    return \"\"\n",
    "\n",
    "def solution2(data)\n",
    "    return \"\"\n",
    "\n",
    "\n",
    "def main():\n",
    "    testin = open('testinput', 'r').readlines()\n",
    "    testin = np.char.strip(testin).tolist()\n",
    "    testout = open('testoutput1', 'r').readlines()\n",
    "    testout = np.char.strip(testout).tolist()\n",
    "    \n",
    "    for test,result in zip(testin, testout1):\n",
    "        #print(f\"{(test)}, {parenthetic_contents(test, lefttoright)}, ? {result}\")\n",
    "        assert parenthetic_contents(test, lefttoright) == int(result), \"test error on test\"\n",
    "\n",
    "    for test,result in zip(testin, testout2):\n",
    "        #print(f\"{(test)}, {parenthetic_contents(test, sumbeforemultiply)}, ? {result}\")\n",
    "        assert parenthetic_contents(test, sumbeforemultiply) == int(result), \"test error on test\"\n",
    "    #\"\"\"\n",
    "\n",
    "    data = open('input', 'r').readlines()\n",
    "    data = np.char.strip(data).tolist()\n",
    "\n",
    "    return [solution1(data), solution2(data)]\n",
    "\n",
    "if __name__ == \"__main__\":\n",
    "    answers = main()\n",
    "    print(f\"Answer to question1: {answers[0]}\")\n",
    "    print(f\"Answer to question2: {answers[1]}\")"
   ]
  },
  {
   "cell_type": "code",
   "execution_count": null,
   "metadata": {},
   "outputs": [],
   "source": []
  },
  {
   "cell_type": "code",
   "execution_count": 10,
   "metadata": {},
   "outputs": [
    {
     "output_type": "execute_result",
     "data": {
      "text/plain": [
       "{0: '4 1 5', 1: '2 3 | 3 2', 2: '4 4 | 5 5', 3: '4 5 | 5 4', 4: 'a', 5: 'b'}"
      ]
     },
     "metadata": {},
     "execution_count": 10
    }
   ],
   "source": [
    "\n",
    "testin = open('testinput', 'r').read()\n",
    "data = testin.split(\"\\n\\n\")\n",
    "data = data[0].split(\"\\n\")\n",
    "recivedmsgs = data[1].split(\"\\n\")\n",
    "ruledict = {}\n",
    "for rule in data:\n",
    "    if '\"' in rule:\n",
    "        ruledict[int(rule.split(\": \")[0])] = rule.split(\": \")[1].replace('\"','')\n",
    "    else:\n",
    "        templist = []\n",
    "        \"\"\"for string in rule.split(\": \")[1].split(\"|\"):\n",
    "            templist.append([int(val) for val in string.strip().split(\" \")])\"\"\"\n",
    "        ruledict[int(rule.split(\": \")[0])] = rule.split(\": \")[1].strip()\n",
    "ruledict"
   ]
  },
  {
   "cell_type": "code",
   "execution_count": null,
   "metadata": {},
   "outputs": [],
   "source": []
  },
  {
   "cell_type": "code",
   "execution_count": 8,
   "metadata": {},
   "outputs": [
    {
     "output_type": "stream",
     "name": "stdout",
     "text": [
      "{0: [[4, 1, 5]], 1: [[2, 3], [3, 2]], 2: [[4, 4], [5, 5]], 3: [[4, 5], [5, 4]], 4: 'a', 5: 'b'}\n[[4, 1, 5]]\n[4, 1, 5]\na\n[[2, 3], [3, 2]]\n[2, 3]\n[[4, 4], [5, 5]]\n[4, 4]\na\na\n[5, 5]\nb\nb\n[[4, 5], [5, 4]]\n[4, 5]\na\nb\n[5, 4]\nb\na\n[3, 2]\n[[4, 5], [5, 4]]\n[4, 5]\na\nb\n[5, 4]\nb\na\n[[4, 4], [5, 5]]\n[4, 4]\na\na\n[5, 5]\nb\nb\nb\n"
     ]
    },
    {
     "output_type": "execute_result",
     "data": {
      "text/plain": [
       "[[['a'],\n",
       "  ['a'],\n",
       "  ['a'],\n",
       "  [['a'], ['a']],\n",
       "  [['a'], [['a'], ['a']], ['b'], [['b'], ['b']]],\n",
       "  [['a'],\n",
       "   [['a'], ['a']],\n",
       "   [['a'], [['a'], ['a']], ['b'], [['b'], ['b']]],\n",
       "   ['a'],\n",
       "   [['a'], ['b']],\n",
       "   [['a'], [['a'], ['b']], ['b'], [['b'], ['a']]]],\n",
       "  [['a'],\n",
       "   [['a'], ['a']],\n",
       "   [['a'], [['a'], ['a']], ['b'], [['b'], ['b']]],\n",
       "   [['a'],\n",
       "    [['a'], ['a']],\n",
       "    [['a'], [['a'], ['a']], ['b'], [['b'], ['b']]],\n",
       "    ['a'],\n",
       "    [['a'], ['b']],\n",
       "    [['a'], [['a'], ['b']], ['b'], [['b'], ['a']]]],\n",
       "   ['a'],\n",
       "   [['a'], ['b']],\n",
       "   [['a'], [['a'], ['b']], ['b'], [['b'], ['a']]],\n",
       "   [['a'],\n",
       "    [['a'], ['b']],\n",
       "    [['a'], [['a'], ['b']], ['b'], [['b'], ['a']]],\n",
       "    ['a'],\n",
       "    [['a'], ['a']],\n",
       "    [['a'], [['a'], ['a']], ['b'], [['b'], ['b']]]]],\n",
       "  [['a'],\n",
       "   ['a'],\n",
       "   [['a'], ['a']],\n",
       "   [['a'], [['a'], ['a']], ['b'], [['b'], ['b']]],\n",
       "   [['a'],\n",
       "    [['a'], ['a']],\n",
       "    [['a'], [['a'], ['a']], ['b'], [['b'], ['b']]],\n",
       "    ['a'],\n",
       "    [['a'], ['b']],\n",
       "    [['a'], [['a'], ['b']], ['b'], [['b'], ['a']]]],\n",
       "   [['a'],\n",
       "    [['a'], ['a']],\n",
       "    [['a'], [['a'], ['a']], ['b'], [['b'], ['b']]],\n",
       "    [['a'],\n",
       "     [['a'], ['a']],\n",
       "     [['a'], [['a'], ['a']], ['b'], [['b'], ['b']]],\n",
       "     ['a'],\n",
       "     [['a'], ['b']],\n",
       "     [['a'], [['a'], ['b']], ['b'], [['b'], ['a']]]],\n",
       "    ['a'],\n",
       "    [['a'], ['b']],\n",
       "    [['a'], [['a'], ['b']], ['b'], [['b'], ['a']]],\n",
       "    [['a'],\n",
       "     [['a'], ['b']],\n",
       "     [['a'], [['a'], ['b']], ['b'], [['b'], ['a']]],\n",
       "     ['a'],\n",
       "     [['a'], ['a']],\n",
       "     [['a'], [['a'], ['a']], ['b'], [['b'], ['b']]]]],\n",
       "   ['b']]]]"
      ]
     },
     "metadata": {},
     "execution_count": 8
    }
   ],
   "source": [
    "def checksubrules(rules, newrules = []):\n",
    "    print(rules)\n",
    "    newrule = []\n",
    "    ruletype = None\n",
    "    for i, rule in enumerate(rules):\n",
    "        newrules += newrule\n",
    "        #print(rule)\n",
    "        if type(rule) == list:\n",
    "            newrule += checksubrules(rule)\n",
    "            ruletype = list\n",
    "        elif type(rule) == int:\n",
    "            newrule += checksubrules(ruledict[rule])\n",
    "            ruletype = int\n",
    "        else:\n",
    "            newrule += [rule]\n",
    "            ruletype = str\n",
    "    newrules.append([*newrule])\n",
    "    return newrules\n",
    "\n",
    "newruledict = []\n",
    "print(ruledict)\n",
    "newruledict = checksubrules(ruledict[0])\n",
    "\n",
    "newruledict"
   ]
  },
  {
   "cell_type": "code",
   "execution_count": null,
   "metadata": {},
   "outputs": [],
   "source": []
  }
 ]
}