{
 "metadata": {
  "language_info": {
   "codemirror_mode": {
    "name": "ipython",
    "version": 3
   },
   "file_extension": ".py",
   "mimetype": "text/x-python",
   "name": "python",
   "nbconvert_exporter": "python",
   "pygments_lexer": "ipython3",
   "version": "3.8.5-final"
  },
  "orig_nbformat": 2,
  "kernelspec": {
   "name": "python3",
   "display_name": "Python 3"
  }
 },
 "nbformat": 4,
 "nbformat_minor": 2,
 "cells": [
  {
   "cell_type": "code",
   "execution_count": 1,
   "metadata": {},
   "outputs": [
    {
     "output_type": "stream",
     "name": "stdout",
     "text": [
      "Answer to question1: 32321523\nAnswer to question2: 4794981\n"
     ]
    }
   ],
   "source": [
    "from itertools import combinations\n",
    "\n",
    "def findNotValid(data, inputLength):\n",
    "    i = 0\n",
    "    while (data[i+inputLength] in [sum(y) for y in list(combinations(data[i:i+inputLength],2))]):\n",
    "        i += 1\n",
    "    return data[i+inputLength]\n",
    "\n",
    "def findContiguousSet(data, notValidNumber):\n",
    "    for i in range(len(data)):\n",
    "        for j in range(i, len(data)-i):\n",
    "            if sum(data[i:j]) == notValidNumber:\n",
    "                return min(data[i:j])+max(data[i:j])\n",
    "            elif sum(data[i:j]) > notValidNumber:\n",
    "                break\n",
    "\n",
    "def main():\n",
    "    \n",
    "    data = list(map(int,open('input', 'r').readlines()))\n",
    "    firstNotValid = findNotValid(data, 25)\n",
    "    contiguousNo = findContiguousSet(data, firstNotValid)\n",
    "\n",
    "    return [firstNotValid, contiguousNo]\n",
    "\n",
    "if __name__ == \"__main__\":\n",
    "    answers = main()\n",
    "    print(f\"Answer to question1: {answers[0]}\")\n",
    "    print(f\"Answer to question2: {answers[1]}\")"
   ]
  },
  {
   "cell_type": "code",
   "execution_count": 2,
   "metadata": {},
   "outputs": [
    {
     "output_type": "execute_result",
     "data": {
      "text/plain": [
       "62"
      ]
     },
     "metadata": {},
     "execution_count": 2
    }
   ],
   "source": [
    "example = [35, 20, 15, 25, 47, 40, 62, 55, 65, 95, 102, 117, 150, 182, 127, 219, 299, 277, 309, 576]\n",
    "\n",
    "findNotValid(example, 5)\n",
    "findContiguousSet(example, 127)"
   ]
  }
 ]
}