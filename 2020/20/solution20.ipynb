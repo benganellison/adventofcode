{
 "metadata": {
  "language_info": {
   "codemirror_mode": {
    "name": "ipython",
    "version": 3
   },
   "file_extension": ".py",
   "mimetype": "text/x-python",
   "name": "python",
   "nbconvert_exporter": "python",
   "pygments_lexer": "ipython3",
   "version": "3.8.5-final"
  },
  "orig_nbformat": 2,
  "kernelspec": {
   "name": "python3",
   "display_name": "Python 3",
   "language": "python"
  }
 },
 "nbformat": 4,
 "nbformat_minor": 2,
 "cells": [
  {
   "cell_type": "code",
   "execution_count": null,
   "metadata": {},
   "outputs": [],
   "source": [
    "import numpy as np\n",
    "\n",
    "\n",
    "def solution1(data)\n",
    "    return \"\"\n",
    "\n",
    "def solution2(data)\n",
    "    return \"\"\n",
    "\n",
    "\n",
    "def main():\n",
    "    testin = open('testinput', 'r').readlines()\n",
    "    testin = np.char.strip(testin).tolist()\n",
    "    testout = open('testoutput1', 'r').readlines()\n",
    "    testout = np.char.strip(testout).tolist()\n",
    "    assert solution1(testin) == testout[0], \"test failed\"\n",
    "\n",
    "\n",
    "\n",
    "    assert solution2(testin) == 848, \"test failed\"\n",
    "\n",
    "    data = open('input', 'r').readlines()\n",
    "    data = np.char.strip(data).tolist()\n",
    "\n",
    "    return [solution1(data), solution2(data)]\n",
    "\n",
    "if __name__ == \"__main__\":\n",
    "    answers = main()\n",
    "    print(f\"Answer to question1: {answers[0]}\")\n",
    "    print(f\"Answer to question2: {answers[1]}\")"
   ]
  },
  {
   "cell_type": "code",
   "execution_count": null,
   "metadata": {},
   "outputs": [],
   "source": []
  },
  {
   "cell_type": "code",
   "execution_count": 4,
   "metadata": {},
   "outputs": [],
   "source": [
    "\n",
    "squares = [square.split('\\n') for square in open('testinput', 'r').read().split('\\n\\n')]"
   ]
  },
  {
   "cell_type": "code",
   "execution_count": 6,
   "metadata": {},
   "outputs": [
    {
     "output_type": "execute_result",
     "data": {
      "text/plain": [
       "'2311'"
      ]
     },
     "metadata": {},
     "execution_count": 6
    }
   ],
   "source": []
  },
  {
   "cell_type": "code",
   "execution_count": 17,
   "metadata": {},
   "outputs": [],
   "source": [
    "from collections import defaultdict\n",
    "\n",
    "sides = {}\n",
    "side = defaultdict(list)\n",
    "for i, square in enumerate(squares):\n",
    "    squareid = int(square[0][5:-1])\n",
    "    sides[squareid] = []\n",
    "    sides[squareid].append(square[1])\n",
    "    left = \"\"\n",
    "    right = \"\"\n",
    "    for row in square[1:]:\n",
    "        left += row[0]\n",
    "        right += row[-1]\n",
    "    sides[squareid].append(right)\n",
    "    sides[squareid].append(square[-1])\n",
    "    sides[squareid].append(left)\n",
    "    for j, sidestr in enumerate(sides[squareid]):\n",
    "        side[sidestr].append((squareid,j))"
   ]
  },
  {
   "cell_type": "code",
   "execution_count": 18,
   "metadata": {},
   "outputs": [
    {
     "output_type": "execute_result",
     "data": {
      "text/plain": [
       "defaultdict(list,\n",
       "            {'..##.#..#.': [(2311, 0), (1427, 2)],\n",
       "             '...#.##..#': [(2311, 1)],\n",
       "             '..###..###': [(2311, 2)],\n",
       "             '.#####..#.': [(2311, 3), (1951, 1)],\n",
       "             '#.##...##.': [(1951, 0), (2729, 2)],\n",
       "             '#...##.#..': [(1951, 2)],\n",
       "             '##.#..#..#': [(1951, 3)],\n",
       "             '####...##.': [(1171, 0), (2473, 3)],\n",
       "             '.#..#.....': [(1171, 1)],\n",
       "             '.....##...': [(1171, 2)],\n",
       "             '###....##.': [(1171, 3)],\n",
       "             '###.##.#..': [(1427, 0), (1489, 2)],\n",
       "             '..###.#.#.': [(1427, 1), (2473, 2)],\n",
       "             '#..#......': [(1427, 3), (2729, 1)],\n",
       "             '##.#.#....': [(1489, 0)],\n",
       "             '.....#..#.': [(1489, 1)],\n",
       "             '#...##.#.#': [(1489, 3), (2971, 1)],\n",
       "             '#....####.': [(2473, 0)],\n",
       "             '...###.#..': [(2473, 1)],\n",
       "             '..#.#....#': [(2971, 0)],\n",
       "             '...#.#.#.#': [(2971, 2), (2729, 0)],\n",
       "             '.###..#...': [(2971, 3)],\n",
       "             '.#....####': [(2729, 3)],\n",
       "             '#.#.#####.': [(3079, 0)],\n",
       "             '.#....#...': [(3079, 1)],\n",
       "             '..#.###...': [(3079, 2)],\n",
       "             '#..##.#...': [(3079, 3)]})"
      ]
     },
     "metadata": {},
     "execution_count": 18
    }
   ],
   "source": [
    "side"
   ]
  }
 ]
}