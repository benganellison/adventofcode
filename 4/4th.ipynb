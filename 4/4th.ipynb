{
 "metadata": {
  "language_info": {
   "codemirror_mode": {
    "name": "ipython",
    "version": 3
   },
   "file_extension": ".py",
   "mimetype": "text/x-python",
   "name": "python",
   "nbconvert_exporter": "python",
   "pygments_lexer": "ipython3",
   "version": "3.8.5-final"
  },
  "orig_nbformat": 2,
  "kernelspec": {
   "name": "python3",
   "display_name": "Python 3.8.5 64-bit ('3.8.5')",
   "metadata": {
    "interpreter": {
     "hash": "c3b6773c1c04a642d0fbf4d229e6380d3383367e144583ccd082a536e2a9855a"
    }
   }
  }
 },
 "nbformat": 4,
 "nbformat_minor": 2,
 "cells": [
  {
   "cell_type": "code",
   "execution_count": 1,
   "metadata": {},
   "outputs": [
    {
     "output_type": "stream",
     "name": "stdout",
     "text": [
      "Answer to question1: 196\nAnswer to question2: 114\n"
     ]
    }
   ],
   "source": [
    "import numpy as np\n",
    "import re\n",
    "\n",
    "def Year(toValidate, key):\n",
    "    #byr (Birth Year) - four digits; at least 1920 and at most 2002.\n",
    "    if int(toValidate) >= years[key][\"min\"] and int(toValidate) <= years[key][\"max\"]:\n",
    "        return True\n",
    "\n",
    "def Height(toValidate, key=\"notused\"):\n",
    "    #hgt (Height) - a number followed by either cm or in:\n",
    "    #If cm, the number must be at least 150 and at most 193.\n",
    "    #If in, the number must be at least 59 and at most 76.\n",
    "    uom = toValidate[len(toValidate)-2:]\n",
    "    value = toValidate[:len(toValidate)-2]\n",
    "    if uom == \"cm\":\n",
    "        if int(value) >= 150 and int(value) <= 193:\n",
    "            return True\n",
    "    else:\n",
    "        if int(value) >= 59 and int(value) <= 76:\n",
    "            return True\n",
    "\n",
    "def HairColor(toValidate, key=\"notused\"):\n",
    "    #hcl (Hair Color) - a # followed by exactly six characters 0-9 or a-f.\n",
    "    if re.search(\"^#[0-9,a-f]{6}$\", toValidate):\n",
    "        return True\n",
    "\n",
    "def EyeColor(toValidate, key=\"notused\"):\n",
    "    #ecl (Eye Color) - exactly one of: amb blu brn gry grn hzl oth.\n",
    "    if toValidate in [\"amb\", \"blu\", \"brn\", \"gry\", \"grn\", \"hzl\", \"oth\"]:\n",
    "        return True\n",
    "\n",
    "def PassportID(toValidate, key=\"notused\"):\n",
    "    #pid (Passport ID) - a nine-digit number, including leading zeroes.\n",
    "    if re.search(\"^[0-9]{9}$\", toValidate):\n",
    "        return True\n",
    "\n",
    "validation = {\"byr\": Year, \"iyr\": Year, \"eyr\": Year, \"hgt\": Height, \"hcl\": HairColor, \"ecl\": EyeColor, \"pid\": PassportID }\n",
    "years = {\"byr\": {\"max\":2002, \"min\":1920},\n",
    "        \"iyr\": {\"max\":2020, \"min\":2010},\n",
    "        \"eyr\": {\"max\":2030, \"min\":2020}}\n",
    "\n",
    "def validatePassport1(onePassport):\n",
    "    passport = dict(re.findall(r'(\\S+):(\\S+)+', onePassport))\n",
    "    #display(passport)\n",
    "    if all (keys in passport for keys in validation):\n",
    "        return True\n",
    "\n",
    "def validatePassport2(onePassport):\n",
    "    passport = dict(re.findall(r'(\\S+):(\\S+)+', onePassport))\n",
    "    #display(passport)\n",
    "    if all (keys in passport for keys in validation):\n",
    "        return all (validationMethod(passport[key], key) for key, validationMethod in validation.items())\n",
    "\n",
    "def main():\n",
    "    file1 = open('input', 'r') \n",
    "    lines = file1.readlines()\n",
    "    lines = np.char.strip(lines).tolist()\n",
    "    passport = {}\n",
    "    valid_passports1 = 0\n",
    "    valid_passports2 = 0\n",
    "\n",
    "    onePassport = \"\"\n",
    "\n",
    "    for line in lines:\n",
    "        if line != \"\":\n",
    "            onePassport += line + \" \"\n",
    "        else:\n",
    "            if validatePassport1(onePassport):\n",
    "                valid_passports1 += 1\n",
    "            if validatePassport2(onePassport):\n",
    "                valid_passports2 += 1\n",
    "            onePassport = \"\"\n",
    "            #break\n",
    "    if onePassport != \"\":\n",
    "        if validatePassport1(onePassport):\n",
    "            valid_passports1 += 1\n",
    "        if validatePassport2(onePassport):\n",
    "            valid_passports2 += 1\n",
    "\n",
    "    return [valid_passports1, valid_passports2]\n",
    "\n",
    "if __name__ == \"__main__\":\n",
    "    answers = main()\n",
    "    print(f\"Answer to question1: {answers[0]}\")\n",
    "    print(f\"Answer to question2: {answers[1]}\")\n",
    "    #lines = value[0]\n",
    "    #numbers = value[1]\n"
   ]
  },
  {
   "cell_type": "code",
   "execution_count": null,
   "metadata": {},
   "outputs": [],
   "source": []
  }
 ]
}